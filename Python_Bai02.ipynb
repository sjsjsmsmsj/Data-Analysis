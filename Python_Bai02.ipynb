{
 "cells": [
  {
   "cell_type": "markdown",
   "id": "bdfd0772-7dc6-4c60-81a2-8ba282628124",
   "metadata": {},
   "source": [
    "# Build-in Data Structure"
   ]
  },
  {
   "cell_type": "markdown",
   "id": "a5db3fff-c673-4101-8fd3-b62ff536660c",
   "metadata": {},
   "source": [
    "1.1 type list"
   ]
  },
  {
   "cell_type": "code",
   "execution_count": null,
   "id": "1bac3445-980b-4276-827c-53a631c9f036",
   "metadata": {},
   "outputs": [],
   "source": [
    "1.1.1 General"
   ]
  },
  {
   "cell_type": "code",
   "execution_count": 1,
   "id": "5766fe65-f829-4167-9487-b011311c2c01",
   "metadata": {},
   "outputs": [
    {
     "name": "stdout",
     "output_type": "stream",
     "text": [
      "[1, 2, 3, 4]\n",
      "<class 'list'>\n"
     ]
    }
   ],
   "source": [
    "l = [1, 2, 3, 4]\n",
    "print(l)\n",
    "print(type(l))"
   ]
  },
  {
   "cell_type": "code",
   "execution_count": null,
   "id": "d66895e8-428a-4e77-ac03-4fcc5c2a6104",
   "metadata": {},
   "outputs": [],
   "source": [
    "1.1.3 Indexing"
   ]
  },
  {
   "cell_type": "code",
   "execution_count": 2,
   "id": "c92e5566-9c13-438f-a192-8ce071aee16c",
   "metadata": {},
   "outputs": [],
   "source": [
    "l = [1, 2, 3, 4, 5]"
   ]
  },
  {
   "cell_type": "code",
   "execution_count": 3,
   "id": "68dd0629-3494-43db-be5c-50356a2dd7c6",
   "metadata": {},
   "outputs": [
    {
     "data": {
      "text/plain": [
       "1"
      ]
     },
     "execution_count": 3,
     "metadata": {},
     "output_type": "execute_result"
    }
   ],
   "source": [
    "l[0]"
   ]
  },
  {
   "cell_type": "code",
   "execution_count": 4,
   "id": "65bf10fd-8823-4710-8720-d2b593e4fe81",
   "metadata": {},
   "outputs": [
    {
     "name": "stdout",
     "output_type": "stream",
     "text": [
      "3\n"
     ]
    }
   ],
   "source": [
    "print(l[2])"
   ]
  },
  {
   "cell_type": "code",
   "execution_count": 5,
   "id": "a1a04a60-0a1b-4e4b-ad56-495c9c59a43d",
   "metadata": {},
   "outputs": [
    {
     "name": "stdout",
     "output_type": "stream",
     "text": [
      "4\n"
     ]
    }
   ],
   "source": [
    "print(l[-2])"
   ]
  },
  {
   "cell_type": "code",
   "execution_count": 6,
   "id": "5d789118-c836-4d99-8543-ec12770df18e",
   "metadata": {},
   "outputs": [
    {
     "name": "stdout",
     "output_type": "stream",
     "text": [
      "[1, 2, 99, 4, 5]\n"
     ]
    }
   ],
   "source": [
    "l[2] = 99\n",
    "print(l)"
   ]
  },
  {
   "cell_type": "code",
   "execution_count": 7,
   "id": "95db7c2b-d6ab-4c12-8aa6-18577e235287",
   "metadata": {},
   "outputs": [
    {
     "name": "stdout",
     "output_type": "stream",
     "text": [
      "[1, 2, 'Hello', 4, 5]\n"
     ]
    }
   ],
   "source": [
    "l[2] = \"Hello\"\n",
    "print(l)"
   ]
  },
  {
   "cell_type": "code",
   "execution_count": 8,
   "id": "b5b6610d-984a-439f-9c5d-cca9da31779f",
   "metadata": {},
   "outputs": [
    {
     "name": "stdout",
     "output_type": "stream",
     "text": [
      "[1, 2, [2, 3], 4, 5]\n"
     ]
    }
   ],
   "source": [
    "l[2] = [2, 3]\n",
    "print(l)"
   ]
  },
  {
   "cell_type": "code",
   "execution_count": 9,
   "id": "73c9aabb-cecb-4f52-b182-56408388fec7",
   "metadata": {},
   "outputs": [],
   "source": [
    "test = [3, 10, 6, 5, 20]"
   ]
  },
  {
   "cell_type": "code",
   "execution_count": 11,
   "id": "6d223c6f-43b9-4e69-b978-6af0343a66eb",
   "metadata": {},
   "outputs": [
    {
     "name": "stdout",
     "output_type": "stream",
     "text": [
      "[20, 10, 6, 5, 3]\n"
     ]
    }
   ],
   "source": [
    "test[0], test[-1] = test[-1], test[0]\n",
    "print(test)"
   ]
  },
  {
   "cell_type": "code",
   "execution_count": 13,
   "id": "e3745f78-05cc-43c6-948a-9be6f96d2538",
   "metadata": {},
   "outputs": [
    {
     "name": "stdin",
     "output_type": "stream",
     "text": [
      " 2\n",
      " 4\n"
     ]
    },
    {
     "name": "stdout",
     "output_type": "stream",
     "text": [
      "[3, 10, 4, 5, 20]\n"
     ]
    }
   ],
   "source": [
    "test = [3, 10, 6, 5, 20]\n",
    "i = int(input())\n",
    "n = int(input())\n",
    "test[i] = n\n",
    "print(test)"
   ]
  },
  {
   "cell_type": "code",
   "execution_count": 14,
   "id": "39b71180-f89b-4577-a041-7df959b23973",
   "metadata": {},
   "outputs": [
    {
     "data": {
      "text/plain": [
       "5"
      ]
     },
     "execution_count": 14,
     "metadata": {},
     "output_type": "execute_result"
    }
   ],
   "source": [
    "len(test)"
   ]
  },
  {
   "cell_type": "code",
   "execution_count": 17,
   "id": "7eca4c92-f96e-4609-8511-59a391e0126c",
   "metadata": {},
   "outputs": [
    {
     "data": {
      "text/plain": [
       "4"
      ]
     },
     "execution_count": 17,
     "metadata": {},
     "output_type": "execute_result"
    }
   ],
   "source": [
    "test.index(20)"
   ]
  },
  {
   "cell_type": "code",
   "execution_count": 18,
   "id": "1e0b8922-e8af-49e3-b23b-e0f4b0baa3d7",
   "metadata": {},
   "outputs": [
    {
     "data": {
      "text/plain": [
       "20"
      ]
     },
     "execution_count": 18,
     "metadata": {},
     "output_type": "execute_result"
    }
   ],
   "source": [
    "l = [3, 10, 6, 5, 20]\n",
    "max(l)"
   ]
  },
  {
   "cell_type": "code",
   "execution_count": 19,
   "id": "43af14a1-2434-4aa4-97c6-04afe1f9356e",
   "metadata": {},
   "outputs": [
    {
     "name": "stdout",
     "output_type": "stream",
     "text": [
      "20\n"
     ]
    }
   ],
   "source": [
    "print(l[-1])"
   ]
  },
  {
   "cell_type": "code",
   "execution_count": 20,
   "id": "bf62ac70-c6aa-4fce-908a-a8282967b7bc",
   "metadata": {},
   "outputs": [
    {
     "name": "stdout",
     "output_type": "stream",
     "text": [
      "3\n",
      "6\n"
     ]
    }
   ],
   "source": [
    "print(l[0])\n",
    "print(l[len(l)//2])"
   ]
  },
  {
   "cell_type": "markdown",
   "id": "d136a400-9cb9-4a2a-b55e-2bef80b46e1d",
   "metadata": {},
   "source": [
    "## Slicing"
   ]
  },
  {
   "cell_type": "code",
   "execution_count": 21,
   "id": "8134fd0e-bbcf-48c8-b326-761e9dce2472",
   "metadata": {},
   "outputs": [
    {
     "name": "stdout",
     "output_type": "stream",
     "text": [
      "[1, 2, 3, 4, 5]\n"
     ]
    }
   ],
   "source": [
    "l = [1,2,3,4,5]\n",
    "print(l)"
   ]
  },
  {
   "cell_type": "code",
   "execution_count": 22,
   "id": "6206574c-56ea-4f39-a4f4-66a17a33875a",
   "metadata": {},
   "outputs": [
    {
     "name": "stdout",
     "output_type": "stream",
     "text": [
      "[1, 2, 3]\n"
     ]
    }
   ],
   "source": [
    "print(l[0:3])"
   ]
  },
  {
   "cell_type": "code",
   "execution_count": 24,
   "id": "8a465be1-53d1-4bdb-af09-1d5b28e8eda3",
   "metadata": {},
   "outputs": [
    {
     "name": "stdout",
     "output_type": "stream",
     "text": [
      "[3, 4, 5]\n"
     ]
    }
   ],
   "source": [
    "print(l[-3:])"
   ]
  },
  {
   "cell_type": "code",
   "execution_count": 25,
   "id": "69222bf5-15d1-4afb-8820-7b2b6ff92b31",
   "metadata": {},
   "outputs": [
    {
     "name": "stdout",
     "output_type": "stream",
     "text": [
      "[2, 3, 4]\n"
     ]
    }
   ],
   "source": [
    "print(l[1:4])"
   ]
  },
  {
   "cell_type": "code",
   "execution_count": 26,
   "id": "9b4f11e4-0446-4a69-af24-44a42156b2f1",
   "metadata": {},
   "outputs": [
    {
     "data": {
      "text/plain": [
       "[1, 2, 3, 4, 5]"
      ]
     },
     "execution_count": 26,
     "metadata": {},
     "output_type": "execute_result"
    }
   ],
   "source": [
    "l[:]"
   ]
  },
  {
   "cell_type": "code",
   "execution_count": 27,
   "id": "28ce8da7-d64d-4f96-ba97-fda59e8d3a04",
   "metadata": {},
   "outputs": [
    {
     "name": "stdout",
     "output_type": "stream",
     "text": [
      "1\n",
      "[1]\n"
     ]
    }
   ],
   "source": [
    "print(l[0])\n",
    "print(l[0:1])"
   ]
  },
  {
   "cell_type": "code",
   "execution_count": 28,
   "id": "55f69dec-0233-4cc6-9f87-14793ff65787",
   "metadata": {},
   "outputs": [
    {
     "name": "stdout",
     "output_type": "stream",
     "text": [
      "[1, 3, 5]\n"
     ]
    }
   ],
   "source": [
    "print(l[::2])"
   ]
  },
  {
   "cell_type": "code",
   "execution_count": 29,
   "id": "9215fe79-97e8-46bb-8814-059007f0e228",
   "metadata": {},
   "outputs": [
    {
     "name": "stdout",
     "output_type": "stream",
     "text": [
      "[1, 99, 100, 4, 5]\n"
     ]
    }
   ],
   "source": [
    "l[1:3] = [99, 100]\n",
    "print(l)"
   ]
  },
  {
   "cell_type": "code",
   "execution_count": 30,
   "id": "5b7ab01e-4ab3-47b8-845c-ca821936f91d",
   "metadata": {},
   "outputs": [
    {
     "name": "stdout",
     "output_type": "stream",
     "text": [
      "[1, 99, 100, 101, 'Apple', 4, 5]\n"
     ]
    }
   ],
   "source": [
    "l[1:3] = [99, 100, 101, \"Apple\"]\n",
    "print(l)"
   ]
  },
  {
   "cell_type": "code",
   "execution_count": 31,
   "id": "fd1ec644-33fb-4e5d-be0f-5d67a9757f96",
   "metadata": {},
   "outputs": [
    {
     "name": "stdout",
     "output_type": "stream",
     "text": [
      "[5, 4, 'Apple', 101, 100, 99, 1]\n"
     ]
    }
   ],
   "source": [
    "print(l[::-1])"
   ]
  },
  {
   "cell_type": "code",
   "execution_count": 32,
   "id": "83fe9ab2-32a2-4d95-8ae3-b19f1803f0ec",
   "metadata": {},
   "outputs": [
    {
     "name": "stdout",
     "output_type": "stream",
     "text": [
      "[5]\n"
     ]
    }
   ],
   "source": [
    "print(l[-1:])"
   ]
  },
  {
   "cell_type": "code",
   "execution_count": 34,
   "id": "519eb8a2-6740-42e5-ab2f-6a7f39ffc717",
   "metadata": {},
   "outputs": [],
   "source": [
    "l = [1, 2, 3, 4, 5, 6, 7, 8, 9]"
   ]
  },
  {
   "cell_type": "code",
   "execution_count": 35,
   "id": "ca6dfd26-f6ac-4f6c-a714-2b66e4d28985",
   "metadata": {},
   "outputs": [
    {
     "data": {
      "text/plain": [
       "[4, 6, 8]"
      ]
     },
     "execution_count": 35,
     "metadata": {},
     "output_type": "execute_result"
    }
   ],
   "source": [
    "l[3:9:2]"
   ]
  },
  {
   "cell_type": "code",
   "execution_count": 36,
   "id": "80678cb4-d2d8-4c97-b266-ed1a5310ceb3",
   "metadata": {},
   "outputs": [
    {
     "data": {
      "text/plain": [
       "[1, 3, 5, 7, 9]"
      ]
     },
     "execution_count": 36,
     "metadata": {},
     "output_type": "execute_result"
    }
   ],
   "source": [
    "l[::2]"
   ]
  },
  {
   "cell_type": "code",
   "execution_count": 37,
   "id": "e3063768-361a-487f-9233-34a0a935577d",
   "metadata": {},
   "outputs": [
    {
     "data": {
      "text/plain": [
       "[1, 2, 3, 4, 5, 6, 7, 8, 9]"
      ]
     },
     "execution_count": 37,
     "metadata": {},
     "output_type": "execute_result"
    }
   ],
   "source": [
    "l[::]"
   ]
  },
  {
   "cell_type": "code",
   "execution_count": 38,
   "id": "05804cb7-ed83-4c40-917a-5d8cc06d73a8",
   "metadata": {},
   "outputs": [
    {
     "data": {
      "text/plain": [
       "[9, 8, 7, 6, 5, 4, 3, 2, 1]"
      ]
     },
     "execution_count": 38,
     "metadata": {},
     "output_type": "execute_result"
    }
   ],
   "source": [
    "l[::-1]"
   ]
  },
  {
   "cell_type": "code",
   "execution_count": 39,
   "id": "48098116-e059-4392-8ad3-46f60a05a603",
   "metadata": {},
   "outputs": [
    {
     "data": {
      "text/plain": [
       "[9, 6, 3]"
      ]
     },
     "execution_count": 39,
     "metadata": {},
     "output_type": "execute_result"
    }
   ],
   "source": [
    "l[::-3]"
   ]
  },
  {
   "cell_type": "code",
   "execution_count": 40,
   "id": "68526a16-bcc4-4fc6-b758-8adfdf4e2d19",
   "metadata": {},
   "outputs": [
    {
     "data": {
      "text/plain": [
       "[1, 2, 3, 4, 5, 6, 7, 8, 9]"
      ]
     },
     "execution_count": 40,
     "metadata": {},
     "output_type": "execute_result"
    }
   ],
   "source": [
    "l"
   ]
  },
  {
   "cell_type": "code",
   "execution_count": 41,
   "id": "a7636245-483d-4308-ab3e-3816863723e1",
   "metadata": {},
   "outputs": [
    {
     "data": {
      "text/plain": [
       "[9, 7, 5, 3]"
      ]
     },
     "execution_count": 41,
     "metadata": {},
     "output_type": "execute_result"
    }
   ],
   "source": [
    "l[:1:-2]"
   ]
  },
  {
   "cell_type": "code",
   "execution_count": 49,
   "id": "6b1fc21f-ac10-4a50-8389-e5afc5d11a17",
   "metadata": {},
   "outputs": [
    {
     "data": {
      "text/plain": [
       "[9, 8, 7]"
      ]
     },
     "execution_count": 49,
     "metadata": {},
     "output_type": "execute_result"
    }
   ],
   "source": [
    "l[len(l) - 1: len(l) - 4: -1]"
   ]
  },
  {
   "cell_type": "code",
   "execution_count": 50,
   "id": "cba2264e-48b6-415a-a486-4a05a405c5a5",
   "metadata": {},
   "outputs": [],
   "source": [
    "l[len(l)-2:] = [1, 2]"
   ]
  },
  {
   "cell_type": "code",
   "execution_count": 51,
   "id": "8126b999-94d1-4d9a-aba9-db442d7debda",
   "metadata": {},
   "outputs": [
    {
     "data": {
      "text/plain": [
       "[1, 2, 3, 4, 5, 6, 7, 1, 2]"
      ]
     },
     "execution_count": 51,
     "metadata": {},
     "output_type": "execute_result"
    }
   ],
   "source": [
    "l"
   ]
  },
  {
   "cell_type": "code",
   "execution_count": 53,
   "id": "f3108ddc-8ce6-40ad-a168-173d45f8aef6",
   "metadata": {},
   "outputs": [
    {
     "name": "stdout",
     "output_type": "stream",
     "text": [
      "[4, 5]\n"
     ]
    }
   ],
   "source": [
    "l = [1, 2, 3, 4 , 5, 6, 7, 8]\n",
    "i = len(l)\n",
    "x = len(l) // 2\n",
    "if i % 2 != 0:\n",
    "    print(l[x - 1: x + 2])\n",
    "else:\n",
    "    print(l[x - 1: x + 1])"
   ]
  },
  {
   "cell_type": "markdown",
   "id": "1d7dc173-2309-4768-9e5b-56429e8bab38",
   "metadata": {},
   "source": [
    "### error-out-of-range"
   ]
  },
  {
   "cell_type": "code",
   "execution_count": 54,
   "id": "8e7bfc53-81b4-4cf8-a271-88bf2ec29366",
   "metadata": {},
   "outputs": [
    {
     "name": "stdout",
     "output_type": "stream",
     "text": [
      "[1, 2, 3]\n"
     ]
    }
   ],
   "source": [
    "l = [1, 2, 3]\n",
    "print(l)"
   ]
  },
  {
   "cell_type": "code",
   "execution_count": 55,
   "id": "bfb9833a-d59e-4355-b093-4db198e03fe6",
   "metadata": {},
   "outputs": [
    {
     "name": "stdout",
     "output_type": "stream",
     "text": [
      "[3]\n"
     ]
    }
   ],
   "source": [
    "print(l[2:1000])"
   ]
  },
  {
   "cell_type": "markdown",
   "id": "e967f0a0-eabe-41e5-9524-45035590ecf1",
   "metadata": {},
   "source": [
    "## manipulate with list"
   ]
  },
  {
   "cell_type": "code",
   "execution_count": 56,
   "id": "de143368-e746-4c00-96e5-ef40ed21e19c",
   "metadata": {},
   "outputs": [
    {
     "data": {
      "text/plain": [
       "[1, 2, 3, 4, 5]"
      ]
     },
     "execution_count": 56,
     "metadata": {},
     "output_type": "execute_result"
    }
   ],
   "source": [
    "l = [1, 2, 3, 4, 5]\n",
    "l"
   ]
  },
  {
   "cell_type": "code",
   "execution_count": 57,
   "id": "d865d45a-9684-40bc-ac80-742057091e7d",
   "metadata": {},
   "outputs": [
    {
     "data": {
      "text/plain": [
       "5"
      ]
     },
     "execution_count": 57,
     "metadata": {},
     "output_type": "execute_result"
    }
   ],
   "source": [
    "len(l)"
   ]
  },
  {
   "cell_type": "code",
   "execution_count": 58,
   "id": "5ea1c1d1-0ed8-463e-9247-0dcd8e9397f1",
   "metadata": {},
   "outputs": [
    {
     "name": "stdout",
     "output_type": "stream",
     "text": [
      "True\n",
      "False\n"
     ]
    }
   ],
   "source": [
    "print(1 in l)\n",
    "print(99 in l)"
   ]
  },
  {
   "cell_type": "code",
   "execution_count": 59,
   "id": "5242d06d-09a1-4936-b0d6-638968314c26",
   "metadata": {},
   "outputs": [
    {
     "name": "stdout",
     "output_type": "stream",
     "text": [
      "[1, 2, 3, 4, 5, 1, -3, 8]\n"
     ]
    }
   ],
   "source": [
    "l2 = [1, -3, 8]\n",
    "print(l + l2)"
   ]
  },
  {
   "cell_type": "code",
   "execution_count": 60,
   "id": "91d55403-83dd-4a38-9a3d-4eaf98575a36",
   "metadata": {},
   "outputs": [
    {
     "name": "stdout",
     "output_type": "stream",
     "text": [
      "[1, 2]\n",
      "[1, 2, 1, 2, 1, 2]\n"
     ]
    }
   ],
   "source": [
    "l = [1, 2]\n",
    "l2 = l * 3\n",
    "print(l)\n",
    "print(l2)"
   ]
  },
  {
   "cell_type": "code",
   "execution_count": 66,
   "id": "44d3f6bd-cc8e-49ca-a847-32154617ead8",
   "metadata": {},
   "outputs": [
    {
     "name": "stdout",
     "output_type": "stream",
     "text": [
      "[1, 2, 1, 2, 1, 2]\n",
      "[1, 1, 1, 2, 2, 2]\n",
      "[2, 2, 2, 1, 1, 1]\n"
     ]
    }
   ],
   "source": [
    "# sort 1 list \n",
    "print(l2)\n",
    "print(sorted(l2))\n",
    "print(sorted(l2, reverse=True))"
   ]
  },
  {
   "cell_type": "code",
   "execution_count": 67,
   "id": "187f50e7-a871-46fe-8eb2-66dcc4314651",
   "metadata": {},
   "outputs": [
    {
     "name": "stdout",
     "output_type": "stream",
     "text": [
      "[1, 2]\n",
      "[1]\n"
     ]
    }
   ],
   "source": [
    "print(l)\n",
    "del l[1]\n",
    "print(l)"
   ]
  },
  {
   "cell_type": "code",
   "execution_count": 69,
   "id": "52ab4f2a-d338-4cbe-b88d-d871863edffe",
   "metadata": {},
   "outputs": [
    {
     "name": "stdout",
     "output_type": "stream",
     "text": [
      "2020\n",
      "1\n",
      "25\n"
     ]
    }
   ],
   "source": [
    "l = [2020, 1, 25]\n",
    "y, m, d = l\n",
    "print(y)\n",
    "print(m)\n",
    "print(d)"
   ]
  },
  {
   "cell_type": "code",
   "execution_count": 70,
   "id": "203a1b03-f06e-42eb-ad3d-219afe2143b8",
   "metadata": {},
   "outputs": [
    {
     "name": "stdout",
     "output_type": "stream",
     "text": [
      "2024\n",
      "[8, 17]\n"
     ]
    }
   ],
   "source": [
    "l = [2024, 8, 17]\n",
    "y, *_ = l\n",
    "print(y)\n",
    "print(_)"
   ]
  },
  {
   "cell_type": "code",
   "execution_count": 71,
   "id": "1ff95bd0-1beb-45dd-b63b-b67b31d83cb1",
   "metadata": {},
   "outputs": [
    {
     "name": "stdout",
     "output_type": "stream",
     "text": [
      "6\n"
     ]
    }
   ],
   "source": [
    "l = [10, 11, 14, 6, 8]\n",
    "print(min(l))"
   ]
  },
  {
   "cell_type": "code",
   "execution_count": 72,
   "id": "a9c37052-383a-4da7-9a24-4d1aaff7740c",
   "metadata": {},
   "outputs": [
    {
     "data": {
      "text/plain": [
       "6"
      ]
     },
     "execution_count": 72,
     "metadata": {},
     "output_type": "execute_result"
    }
   ],
   "source": [
    "sorted(l)[0]"
   ]
  },
  {
   "cell_type": "markdown",
   "id": "a0a9a66c-a044-4211-a206-54721e3f72b9",
   "metadata": {},
   "source": [
    "## Methods of list"
   ]
  },
  {
   "cell_type": "code",
   "execution_count": 73,
   "id": "adcbc2f4-38f8-4abb-8936-fa58dede7f05",
   "metadata": {},
   "outputs": [
    {
     "data": {
      "text/plain": [
       "[1, 2, 3, 4, 5]"
      ]
     },
     "execution_count": 73,
     "metadata": {},
     "output_type": "execute_result"
    }
   ],
   "source": [
    "l = [1, 2, 3, 4, 5]\n",
    "l"
   ]
  },
  {
   "cell_type": "code",
   "execution_count": 77,
   "id": "f61430c4-a495-4d22-8e37-dc25e932358c",
   "metadata": {},
   "outputs": [
    {
     "data": {
      "text/plain": [
       "1"
      ]
     },
     "execution_count": 77,
     "metadata": {},
     "output_type": "execute_result"
    }
   ],
   "source": [
    "l.count(4)"
   ]
  },
  {
   "cell_type": "code",
   "execution_count": 78,
   "id": "926d18bd-8fc1-41e1-807a-eaee21ddf1cc",
   "metadata": {},
   "outputs": [
    {
     "name": "stdout",
     "output_type": "stream",
     "text": [
      "4\n"
     ]
    }
   ],
   "source": [
    "print(l.index(5))"
   ]
  },
  {
   "cell_type": "code",
   "execution_count": 79,
   "id": "2ed71823-0fe6-45e0-b71e-09a00cbf087a",
   "metadata": {},
   "outputs": [],
   "source": [
    "l.clear()"
   ]
  },
  {
   "cell_type": "code",
   "execution_count": 80,
   "id": "2890e440-b63d-4f65-8bc3-851ccb4f9ee7",
   "metadata": {},
   "outputs": [],
   "source": [
    "l.append(99)"
   ]
  },
  {
   "cell_type": "code",
   "execution_count": 81,
   "id": "e3495bbc-abf6-4d4d-bae0-bafc83bb2b16",
   "metadata": {},
   "outputs": [
    {
     "data": {
      "text/plain": [
       "[99]"
      ]
     },
     "execution_count": 81,
     "metadata": {},
     "output_type": "execute_result"
    }
   ],
   "source": [
    "l"
   ]
  },
  {
   "cell_type": "code",
   "execution_count": 82,
   "id": "1d5c6d0a-75f4-4a1e-9fb1-c0b0cf311b53",
   "metadata": {},
   "outputs": [],
   "source": [
    "l.extend(['a', 'b', 'c'])"
   ]
  },
  {
   "cell_type": "code",
   "execution_count": 83,
   "id": "d23299db-47c0-424e-8ea7-46c06e8040e9",
   "metadata": {},
   "outputs": [
    {
     "data": {
      "text/plain": [
       "[99, 'a', 'b', 'c']"
      ]
     },
     "execution_count": 83,
     "metadata": {},
     "output_type": "execute_result"
    }
   ],
   "source": [
    "l"
   ]
  },
  {
   "cell_type": "code",
   "execution_count": 84,
   "id": "e6f08c01-2ce5-4ee4-85bf-6c15f3fed633",
   "metadata": {},
   "outputs": [],
   "source": [
    "l.insert(2, 99)"
   ]
  },
  {
   "cell_type": "code",
   "execution_count": 85,
   "id": "11a790c4-88c5-48bc-ba8a-5a13aa194e14",
   "metadata": {},
   "outputs": [
    {
     "data": {
      "text/plain": [
       "[99, 'a', 99, 'b', 'c']"
      ]
     },
     "execution_count": 85,
     "metadata": {},
     "output_type": "execute_result"
    }
   ],
   "source": [
    "l"
   ]
  },
  {
   "cell_type": "code",
   "execution_count": 86,
   "id": "78313e70-2f37-4eea-aada-8cbef12417a1",
   "metadata": {},
   "outputs": [],
   "source": [
    "l.remove(99)"
   ]
  },
  {
   "cell_type": "code",
   "execution_count": 87,
   "id": "9800ad0e-b4f5-47c8-9423-bd61c3117e85",
   "metadata": {},
   "outputs": [
    {
     "data": {
      "text/plain": [
       "['a', 99, 'b', 'c']"
      ]
     },
     "execution_count": 87,
     "metadata": {},
     "output_type": "execute_result"
    }
   ],
   "source": [
    "l"
   ]
  },
  {
   "cell_type": "code",
   "execution_count": 88,
   "id": "ffcfc88e-15e3-4dba-8bd3-022a22eb98ec",
   "metadata": {},
   "outputs": [
    {
     "data": {
      "text/plain": [
       "['a', 99, 'b']"
      ]
     },
     "execution_count": 88,
     "metadata": {},
     "output_type": "execute_result"
    }
   ],
   "source": [
    "l.pop()\n",
    "l"
   ]
  },
  {
   "cell_type": "code",
   "execution_count": 89,
   "id": "f58664dc-a884-49a6-ac03-9f786fd21947",
   "metadata": {},
   "outputs": [
    {
     "data": {
      "text/plain": [
       "'a'"
      ]
     },
     "execution_count": 89,
     "metadata": {},
     "output_type": "execute_result"
    }
   ],
   "source": [
    "l.pop(0)"
   ]
  },
  {
   "cell_type": "code",
   "execution_count": 90,
   "id": "85b12113-9295-412d-ab94-b6c6012a4740",
   "metadata": {},
   "outputs": [
    {
     "data": {
      "text/plain": [
       "[99, 'b']"
      ]
     },
     "execution_count": 90,
     "metadata": {},
     "output_type": "execute_result"
    }
   ],
   "source": [
    "l"
   ]
  },
  {
   "cell_type": "markdown",
   "id": "1852741c-ef21-4189-90fb-29d6614e37f3",
   "metadata": {},
   "source": [
    "# Home Work"
   ]
  },
  {
   "cell_type": "code",
   "execution_count": 95,
   "id": "9612beff-e6a4-4d58-a067-3a33d31ba357",
   "metadata": {},
   "outputs": [
    {
     "name": "stdout",
     "output_type": "stream",
     "text": [
      "1 3 5\n"
     ]
    }
   ],
   "source": [
    "l = [1, 2, 3, 4, 5]\n",
    "print(l[0], l[len(l)//2], l[-1])"
   ]
  },
  {
   "cell_type": "code",
   "execution_count": 96,
   "id": "da155e5c-a295-4cff-a588-2daef7881107",
   "metadata": {},
   "outputs": [
    {
     "data": {
      "text/plain": [
       "[1, 5, 9]"
      ]
     },
     "execution_count": 96,
     "metadata": {},
     "output_type": "execute_result"
    }
   ],
   "source": [
    "l = []\n",
    "l.append(1)\n",
    "l.append(5)\n",
    "l.append(9)\n",
    "l"
   ]
  },
  {
   "cell_type": "code",
   "execution_count": 98,
   "id": "21da0aa8-e842-4e63-9e2d-215a4b68a125",
   "metadata": {},
   "outputs": [
    {
     "data": {
      "text/plain": [
       "15"
      ]
     },
     "execution_count": 98,
     "metadata": {},
     "output_type": "execute_result"
    }
   ],
   "source": [
    "sum(l)"
   ]
  },
  {
   "cell_type": "code",
   "execution_count": 99,
   "id": "7b055f1f-c1d1-46b7-9e24-f6b580132fb5",
   "metadata": {},
   "outputs": [
    {
     "data": {
      "text/plain": [
       "5"
      ]
     },
     "execution_count": 99,
     "metadata": {},
     "output_type": "execute_result"
    }
   ],
   "source": [
    "import statistics\n",
    "statistics.mean(l)"
   ]
  },
  {
   "cell_type": "code",
   "execution_count": 102,
   "id": "4be20ceb-bf71-4e93-849b-6be7820ab5f4",
   "metadata": {},
   "outputs": [
    {
     "name": "stdout",
     "output_type": "stream",
     "text": [
      "1\n",
      "9\n"
     ]
    }
   ],
   "source": [
    "print(min(l))\n",
    "print(max(l))"
   ]
  },
  {
   "cell_type": "code",
   "execution_count": 104,
   "id": "79d3a690-1c38-45bc-9d1a-9aa153a614ed",
   "metadata": {},
   "outputs": [
    {
     "data": {
      "text/plain": [
       "[9, 5, 1]"
      ]
     },
     "execution_count": 104,
     "metadata": {},
     "output_type": "execute_result"
    }
   ],
   "source": [
    "sorted(l, reverse=True)"
   ]
  },
  {
   "cell_type": "code",
   "execution_count": 106,
   "id": "3dd35843-28a8-46d8-934d-2d2017d4fe07",
   "metadata": {},
   "outputs": [
    {
     "name": "stdout",
     "output_type": "stream",
     "text": [
      "[1, 5]\n",
      "5\n"
     ]
    }
   ],
   "source": [
    "del l[-1]\n",
    "print(l)\n",
    "value = l.pop()\n",
    "print(value)"
   ]
  },
  {
   "cell_type": "code",
   "execution_count": 111,
   "id": "4310561e-11a6-46d9-9440-955e27371d36",
   "metadata": {},
   "outputs": [
    {
     "name": "stdout",
     "output_type": "stream",
     "text": [
      "L chan la [] \n",
      "L le la [1, 2, 3, 4] \n"
     ]
    }
   ],
   "source": [
    "l = [1, 2, 3, 4]\n",
    "l_chan = []\n",
    "l_le = []\n",
    "s = sum(l[-2:])\n",
    "if s % 2 == 0:\n",
    "    l_chan.extend(l)\n",
    "else:\n",
    "    l_le.extend(l)\n",
    "print(\"L chan la {} \".format(l_chan))\n",
    "print(\"L le la {} \".format(l_le))\n"
   ]
  },
  {
   "cell_type": "code",
   "execution_count": 112,
   "id": "04c703a0-38f2-44b3-9036-5edc58ea73de",
   "metadata": {},
   "outputs": [
    {
     "name": "stdout",
     "output_type": "stream",
     "text": [
      "[2, 3, 4, 5, 6]\n"
     ]
    }
   ],
   "source": [
    "l = [1, 2, 3, 4, 5, 6, 7, 8, 9, 'list', 'slicing']\n",
    "print(l[1:6])"
   ]
  },
  {
   "cell_type": "code",
   "execution_count": 114,
   "id": "c2dfc3e8-73d2-4249-b3b2-b900a0935bde",
   "metadata": {},
   "outputs": [
    {
     "name": "stdout",
     "output_type": "stream",
     "text": [
      "[1, 2, 3, 4, 5, 6, 7, 8, 9]\n"
     ]
    }
   ],
   "source": [
    "print(l[0:9])"
   ]
  },
  {
   "cell_type": "code",
   "execution_count": 115,
   "id": "883364c1-cfda-48b2-9dca-83ae9c57fb71",
   "metadata": {},
   "outputs": [
    {
     "name": "stdout",
     "output_type": "stream",
     "text": [
      "[1, 3, 5, 7, 9]\n"
     ]
    }
   ],
   "source": [
    "print(l[0:9:2])"
   ]
  },
  {
   "cell_type": "code",
   "execution_count": 118,
   "id": "1792eac9-a148-4fc5-a75b-2151609011d9",
   "metadata": {},
   "outputs": [
    {
     "name": "stdout",
     "output_type": "stream",
     "text": [
      "[5, 6, 7, 8, 9, 'list', 'slicing']\n"
     ]
    }
   ],
   "source": [
    "print(l[4:])"
   ]
  },
  {
   "cell_type": "code",
   "execution_count": 119,
   "id": "ca40079b-1a91-4d8f-a77f-b70e7c38d895",
   "metadata": {},
   "outputs": [
    {
     "name": "stdout",
     "output_type": "stream",
     "text": [
      "[2, 3, 4, 5, 6, 7, 8, 9]\n"
     ]
    }
   ],
   "source": [
    "l.pop(-2)\n",
    "l.pop(-1)\n",
    "print(l[1:])"
   ]
  },
  {
   "cell_type": "code",
   "execution_count": 132,
   "id": "e441ac4d-4e09-49b1-967d-146d5e264c21",
   "metadata": {},
   "outputs": [
    {
     "name": "stdout",
     "output_type": "stream",
     "text": [
      "[1, 2, 3, 4, 5, 6, 7, 8, 9]\n",
      "['list', 'slicing']\n"
     ]
    }
   ],
   "source": [
    "l = [1, 2, 3, 4, 5, 6, 7, 8, 9, 'list', 'slicing']\n",
    "l_number = l[:9]\n",
    "l_string = l[9:]\n",
    "print(l_number)\n",
    "print(l_string)\n"
   ]
  },
  {
   "cell_type": "code",
   "execution_count": 134,
   "id": "258e269d-a7cf-42e3-9680-c1972c7dbd4b",
   "metadata": {},
   "outputs": [
    {
     "data": {
      "text/plain": [
       "[1, 2, 3, 4, 5, 6, 7, 8, 9]"
      ]
     },
     "execution_count": 134,
     "metadata": {},
     "output_type": "execute_result"
    }
   ],
   "source": [
    "l = l_number\n",
    "l"
   ]
  },
  {
   "cell_type": "code",
   "execution_count": 135,
   "id": "8716160d-5b1f-446d-a0ba-54a974b19ded",
   "metadata": {},
   "outputs": [
    {
     "data": {
      "text/plain": [
       "[1, 2, 3, 4, 5, 6, 7, 8, 9, 1, 2, 3, 4, 5, 6, 7, 8, 9]"
      ]
     },
     "execution_count": 135,
     "metadata": {},
     "output_type": "execute_result"
    }
   ],
   "source": [
    "l = [1, 2, 3, 4, 5, 6, 7, 8, 9]\n",
    "l_total = l + l_number\n",
    "l_total"
   ]
  },
  {
   "cell_type": "code",
   "execution_count": 136,
   "id": "50617575-d753-49a3-b625-e84b823bb009",
   "metadata": {},
   "outputs": [
    {
     "name": "stdout",
     "output_type": "stream",
     "text": [
      "False\n"
     ]
    }
   ],
   "source": [
    "print('list' in l_total)"
   ]
  },
  {
   "cell_type": "code",
   "execution_count": null,
   "id": "6ee934e7-20dd-48a5-aa43-e0de18d93942",
   "metadata": {},
   "outputs": [],
   "source": []
  },
  {
   "cell_type": "markdown",
   "id": "aa27c888-cbdc-45b9-8d6b-7c4c0f2331b6",
   "metadata": {},
   "source": [
    "## Type tuple"
   ]
  },
  {
   "cell_type": "markdown",
   "id": "eac7367e-970b-4f00-b8e3-40c440c65acb",
   "metadata": {},
   "source": [
    "### what is tuple diffent with list? -> is never change"
   ]
  },
  {
   "cell_type": "code",
   "execution_count": 91,
   "id": "218ee460-e123-486f-a1c3-20345ca7e39e",
   "metadata": {},
   "outputs": [
    {
     "name": "stdout",
     "output_type": "stream",
     "text": [
      "(1, 2, 3, 4, 5)\n",
      "<class 'tuple'>\n"
     ]
    }
   ],
   "source": [
    "t = (1, 2, 3, 4, 5)\n",
    "print(t)\n",
    "print(type(t))"
   ]
  },
  {
   "cell_type": "code",
   "execution_count": 2,
   "id": "a6c50d0b-8a21-4256-a4a0-1533fe9045b2",
   "metadata": {},
   "outputs": [
    {
     "data": {
      "text/plain": [
       "(1, 2, 3, 4, 5)"
      ]
     },
     "execution_count": 2,
     "metadata": {},
     "output_type": "execute_result"
    }
   ],
   "source": [
    "t = tuple([1, 2, 3, 4, 5])\n",
    "t"
   ]
  },
  {
   "cell_type": "code",
   "execution_count": 93,
   "id": "f3b5307b-21e1-45c6-8867-6f688b2277d6",
   "metadata": {},
   "outputs": [
    {
     "name": "stdout",
     "output_type": "stream",
     "text": [
      "(1, 2, 3, 4, 5)\n",
      "<class 'tuple'>\n"
     ]
    }
   ],
   "source": [
    "t = 1, 2, 3, 4, 5\n",
    "print(t)\n",
    "print(type(t))"
   ]
  },
  {
   "cell_type": "markdown",
   "id": "7961ee54-1c1a-4c63-92d5-0c3ed489a015",
   "metadata": {},
   "source": [
    "## Indexing"
   ]
  },
  {
   "cell_type": "code",
   "execution_count": 3,
   "id": "dc6b5929-d6a2-4ccc-a44a-68f91cb4f375",
   "metadata": {},
   "outputs": [
    {
     "data": {
      "text/plain": [
       "1"
      ]
     },
     "execution_count": 3,
     "metadata": {},
     "output_type": "execute_result"
    }
   ],
   "source": [
    "t[0]"
   ]
  },
  {
   "cell_type": "code",
   "execution_count": 4,
   "id": "9e22e912-3221-4951-b7bf-45a2a5145860",
   "metadata": {},
   "outputs": [
    {
     "data": {
      "text/plain": [
       "5"
      ]
     },
     "execution_count": 4,
     "metadata": {},
     "output_type": "execute_result"
    }
   ],
   "source": [
    "t[-1]"
   ]
  },
  {
   "cell_type": "code",
   "execution_count": 5,
   "id": "ed7096f3-0339-49f8-aa9b-d6aaf1034d50",
   "metadata": {},
   "outputs": [
    {
     "data": {
      "text/plain": [
       "(2, 3, 4, 5)"
      ]
     },
     "execution_count": 5,
     "metadata": {},
     "output_type": "execute_result"
    }
   ],
   "source": [
    "t[1:]"
   ]
  },
  {
   "cell_type": "code",
   "execution_count": 6,
   "id": "89d20a5e-ffb7-4572-bc85-d83a72f65dfe",
   "metadata": {},
   "outputs": [
    {
     "ename": "TypeError",
     "evalue": "'tuple' object does not support item assignment",
     "output_type": "error",
     "traceback": [
      "\u001b[0;31m---------------------------------------------------------------------------\u001b[0m",
      "\u001b[0;31mTypeError\u001b[0m                                 Traceback (most recent call last)",
      "Cell \u001b[0;32mIn[6], line 1\u001b[0m\n\u001b[0;32m----> 1\u001b[0m \u001b[43mt\u001b[49m\u001b[43m[\u001b[49m\u001b[38;5;241;43m2\u001b[39;49m\u001b[43m]\u001b[49m \u001b[38;5;241m=\u001b[39m \u001b[38;5;241m99\u001b[39m\n",
      "\u001b[0;31mTypeError\u001b[0m: 'tuple' object does not support item assignment"
     ]
    }
   ],
   "source": [
    "t[2] = 99\n"
   ]
  },
  {
   "cell_type": "markdown",
   "id": "7b72ea6d-ec37-4ea1-8474-9413185e008d",
   "metadata": {},
   "source": [
    "### Slicing"
   ]
  },
  {
   "cell_type": "code",
   "execution_count": 7,
   "id": "eec84f82-4d4b-494f-9ea3-cdf595aa1276",
   "metadata": {},
   "outputs": [
    {
     "data": {
      "text/plain": [
       "(3, 4, 5)"
      ]
     },
     "execution_count": 7,
     "metadata": {},
     "output_type": "execute_result"
    }
   ],
   "source": [
    "t[2:]"
   ]
  },
  {
   "cell_type": "code",
   "execution_count": 9,
   "id": "08bb2e4a-f5bf-4ea7-8062-d6b987f27159",
   "metadata": {},
   "outputs": [
    {
     "data": {
      "text/plain": [
       "(2, 3, 4)"
      ]
     },
     "execution_count": 9,
     "metadata": {},
     "output_type": "execute_result"
    }
   ],
   "source": [
    "t[1:4]"
   ]
  },
  {
   "cell_type": "code",
   "execution_count": 10,
   "id": "600db361-2d30-4813-bd4a-c995f10eb4e0",
   "metadata": {},
   "outputs": [
    {
     "name": "stdout",
     "output_type": "stream",
     "text": [
      "1\n",
      "(1,)\n"
     ]
    }
   ],
   "source": [
    "print(t[0])\n",
    "print(t[:1])"
   ]
  },
  {
   "cell_type": "code",
   "execution_count": 11,
   "id": "c62cd335-ba3d-4d5d-9fe5-b18441fb23a9",
   "metadata": {},
   "outputs": [
    {
     "data": {
      "text/plain": [
       "(1, 3, 5)"
      ]
     },
     "execution_count": 11,
     "metadata": {},
     "output_type": "execute_result"
    }
   ],
   "source": [
    "t[::2]"
   ]
  },
  {
   "cell_type": "code",
   "execution_count": 12,
   "id": "bb014758-8fa4-4948-b09a-d4a55a49db49",
   "metadata": {},
   "outputs": [
    {
     "data": {
      "text/plain": [
       "(5, 4, 3, 2, 1)"
      ]
     },
     "execution_count": 12,
     "metadata": {},
     "output_type": "execute_result"
    }
   ],
   "source": [
    "t[::-1]"
   ]
  },
  {
   "cell_type": "markdown",
   "id": "ab98b781-071c-4356-a0b1-dc825e5e9e66",
   "metadata": {},
   "source": [
    "## Error-out-of-range"
   ]
  },
  {
   "cell_type": "code",
   "execution_count": 13,
   "id": "0f1fd983-06b9-4f5b-a3c1-3dd5dfda5246",
   "metadata": {},
   "outputs": [
    {
     "name": "stdout",
     "output_type": "stream",
     "text": [
      "(1, 2, 3, 4, 5)\n"
     ]
    }
   ],
   "source": [
    "t = (1, 2, 3, 4, 5)\n",
    "print(t)"
   ]
  },
  {
   "cell_type": "code",
   "execution_count": 14,
   "id": "418efc49-5cda-4c11-a1aa-e0f89cd7d1b3",
   "metadata": {},
   "outputs": [
    {
     "ename": "IndexError",
     "evalue": "tuple index out of range",
     "output_type": "error",
     "traceback": [
      "\u001b[0;31m---------------------------------------------------------------------------\u001b[0m",
      "\u001b[0;31mIndexError\u001b[0m                                Traceback (most recent call last)",
      "Cell \u001b[0;32mIn[14], line 1\u001b[0m\n\u001b[0;32m----> 1\u001b[0m \u001b[43mt\u001b[49m\u001b[43m[\u001b[49m\u001b[38;5;241;43m5\u001b[39;49m\u001b[43m]\u001b[49m\n",
      "\u001b[0;31mIndexError\u001b[0m: tuple index out of range"
     ]
    }
   ],
   "source": [
    "t[5]"
   ]
  },
  {
   "cell_type": "code",
   "execution_count": 15,
   "id": "c10d79fa-8e70-431f-b1f1-47b4e487d878",
   "metadata": {},
   "outputs": [
    {
     "name": "stdout",
     "output_type": "stream",
     "text": [
      "(3, 4, 5)\n"
     ]
    }
   ],
   "source": [
    "print(t[2:1000])"
   ]
  },
  {
   "cell_type": "markdown",
   "id": "26ee9aa9-0602-4f10-b428-190959c68062",
   "metadata": {},
   "source": [
    "### Manipulation with tuple"
   ]
  },
  {
   "cell_type": "code",
   "execution_count": 16,
   "id": "4e6a12bc-b0bd-4646-b96d-82964ef24026",
   "metadata": {},
   "outputs": [
    {
     "data": {
      "text/plain": [
       "(1, 2, 3, 4, 5)"
      ]
     },
     "execution_count": 16,
     "metadata": {},
     "output_type": "execute_result"
    }
   ],
   "source": [
    "t = (1, 2, 3, 4, 5)\n",
    "t"
   ]
  },
  {
   "cell_type": "code",
   "execution_count": 17,
   "id": "302db404-b1f1-45c1-ad47-4be71600ef12",
   "metadata": {},
   "outputs": [
    {
     "data": {
      "text/plain": [
       "1"
      ]
     },
     "execution_count": 17,
     "metadata": {},
     "output_type": "execute_result"
    }
   ],
   "source": [
    "t.count(1)"
   ]
  },
  {
   "cell_type": "code",
   "execution_count": 18,
   "id": "b9f52272-cda6-42c0-82e0-cfef666b6b38",
   "metadata": {},
   "outputs": [
    {
     "data": {
      "text/plain": [
       "5"
      ]
     },
     "execution_count": 18,
     "metadata": {},
     "output_type": "execute_result"
    }
   ],
   "source": [
    "len(t)"
   ]
  },
  {
   "cell_type": "code",
   "execution_count": 19,
   "id": "6521ab0d-9732-4f19-9cad-795bffa58bff",
   "metadata": {},
   "outputs": [
    {
     "data": {
      "text/plain": [
       "True"
      ]
     },
     "execution_count": 19,
     "metadata": {},
     "output_type": "execute_result"
    }
   ],
   "source": [
    "1 in t"
   ]
  },
  {
   "cell_type": "code",
   "execution_count": 26,
   "id": "f504fcd0-4585-4c38-bd9d-f8899dff2fe8",
   "metadata": {},
   "outputs": [
    {
     "data": {
      "text/plain": [
       "(1, 2, 3, 4, 5, 1, 2)"
      ]
     },
     "execution_count": 26,
     "metadata": {},
     "output_type": "execute_result"
    }
   ],
   "source": [
    "t + (1, 2)"
   ]
  },
  {
   "cell_type": "code",
   "execution_count": 27,
   "id": "15977afe-1f68-4302-9e91-c18384c3a6a7",
   "metadata": {},
   "outputs": [
    {
     "name": "stdout",
     "output_type": "stream",
     "text": [
      "(1, 2)\n"
     ]
    }
   ],
   "source": [
    "t = (1, 2)\n",
    "print(t)"
   ]
  },
  {
   "cell_type": "code",
   "execution_count": 31,
   "id": "24f0e5e7-3bdf-4d83-9034-31aa180a5c64",
   "metadata": {},
   "outputs": [
    {
     "name": "stdout",
     "output_type": "stream",
     "text": [
      "<class 'list'>\n"
     ]
    }
   ],
   "source": [
    "t = (1, 2, 3, 4, 5)\n",
    "\n",
    "print(type(sorted(t, reverse=True)))"
   ]
  },
  {
   "cell_type": "code",
   "execution_count": 32,
   "id": "eee3c4aa-2dab-4ff6-9d30-be0262933fb0",
   "metadata": {},
   "outputs": [
    {
     "ename": "TypeError",
     "evalue": "'tuple' object doesn't support item deletion",
     "output_type": "error",
     "traceback": [
      "\u001b[0;31m---------------------------------------------------------------------------\u001b[0m",
      "\u001b[0;31mTypeError\u001b[0m                                 Traceback (most recent call last)",
      "Cell \u001b[0;32mIn[32], line 1\u001b[0m\n\u001b[0;32m----> 1\u001b[0m \u001b[38;5;28;01mdel\u001b[39;00m \u001b[43mt\u001b[49m\u001b[43m[\u001b[49m\u001b[38;5;241;43m1\u001b[39;49m\u001b[43m]\u001b[49m\n\u001b[1;32m      2\u001b[0m t\n",
      "\u001b[0;31mTypeError\u001b[0m: 'tuple' object doesn't support item deletion"
     ]
    }
   ],
   "source": [
    "del t[1]\n",
    "t"
   ]
  },
  {
   "cell_type": "code",
   "execution_count": 34,
   "id": "106c51b6-4af2-4981-a236-3104b420a96c",
   "metadata": {},
   "outputs": [
    {
     "name": "stdout",
     "output_type": "stream",
     "text": [
      "2024\n",
      "8\n",
      "17\n"
     ]
    }
   ],
   "source": [
    "t = [2024, 8, 17]\n",
    "y = t[0]\n",
    "m = t[1]\n",
    "d = t[2]\n",
    "print(y)\n",
    "print(m)\n",
    "print(d)"
   ]
  },
  {
   "cell_type": "code",
   "execution_count": 36,
   "id": "d1f95a6f-aa1e-4f5d-b025-d6c515e377e4",
   "metadata": {},
   "outputs": [
    {
     "name": "stdout",
     "output_type": "stream",
     "text": [
      "2024\n",
      "[8, 17]\n"
     ]
    }
   ],
   "source": [
    "t = [2024, 8, 17]\n",
    "y, *_ = t\n",
    "print(y)\n",
    "print(_)"
   ]
  },
  {
   "cell_type": "markdown",
   "id": "d530caf2-bcb1-484f-b3a9-ddb48e5081aa",
   "metadata": {},
   "source": [
    "### Methods of tuple"
   ]
  },
  {
   "cell_type": "code",
   "execution_count": 37,
   "id": "701df0d4-519b-4c25-a815-6a13b570782c",
   "metadata": {},
   "outputs": [
    {
     "name": "stdout",
     "output_type": "stream",
     "text": [
      "(1, 2, 3, 4, 5, 1)\n"
     ]
    }
   ],
   "source": [
    "t = (1, 2, 3, 4, 5, 1)\n",
    "print(t)"
   ]
  },
  {
   "cell_type": "code",
   "execution_count": 38,
   "id": "e222e0b6-3a86-4af0-953a-9839c0af18d0",
   "metadata": {},
   "outputs": [
    {
     "name": "stdout",
     "output_type": "stream",
     "text": [
      "4\n"
     ]
    }
   ],
   "source": [
    "print(t.index(5))"
   ]
  },
  {
   "cell_type": "markdown",
   "id": "55fcd91b-207c-4b77-9650-b3b8ad606454",
   "metadata": {},
   "source": [
    "### Type str"
   ]
  },
  {
   "cell_type": "code",
   "execution_count": 39,
   "id": "32848516-1b2c-4602-b03e-2ced83ade4f2",
   "metadata": {},
   "outputs": [
    {
     "name": "stdout",
     "output_type": "stream",
     "text": [
      "Hello\n",
      "<class 'str'>\n"
     ]
    }
   ],
   "source": [
    "s = \"Hello\"\n",
    "print(s)\n",
    "print(type(s))"
   ]
  },
  {
   "cell_type": "markdown",
   "id": "094ef441-a0df-47aa-964a-b41495a7291b",
   "metadata": {},
   "source": [
    "### munipulate with str"
   ]
  },
  {
   "cell_type": "code",
   "execution_count": 40,
   "id": "fa87e2ca-dd5c-4fc4-85b7-4ff14eb37ad4",
   "metadata": {},
   "outputs": [],
   "source": [
    "s = \"Hello world!\""
   ]
  },
  {
   "cell_type": "code",
   "execution_count": 42,
   "id": "6d425bc9-4d53-429a-a8e3-fcbd8fbe91f2",
   "metadata": {},
   "outputs": [
    {
     "name": "stdout",
     "output_type": "stream",
     "text": [
      "H\n",
      "!\n"
     ]
    }
   ],
   "source": [
    "print(s[0])\n",
    "print(s[-1])"
   ]
  },
  {
   "cell_type": "code",
   "execution_count": 43,
   "id": "6cc0158b-1866-4641-88e0-a0a6f8c8f3a8",
   "metadata": {},
   "outputs": [
    {
     "name": "stdout",
     "output_type": "stream",
     "text": [
      "Hell rld!\n"
     ]
    }
   ],
   "source": [
    "print(s[0:4], s[-4:])"
   ]
  },
  {
   "cell_type": "code",
   "execution_count": 44,
   "id": "c67e8731-8470-4a6e-abe4-249facd4d2e8",
   "metadata": {},
   "outputs": [
    {
     "data": {
      "text/plain": [
       "'!dlrow olleH'"
      ]
     },
     "execution_count": 44,
     "metadata": {},
     "output_type": "execute_result"
    }
   ],
   "source": [
    "s[::-1]"
   ]
  },
  {
   "cell_type": "code",
   "execution_count": 45,
   "id": "f58fae0b-a75f-466b-bf4d-f75a71b6cd95",
   "metadata": {},
   "outputs": [],
   "source": [
    "s1 = \"Hello\"\n",
    "s2 = \"World\""
   ]
  },
  {
   "cell_type": "code",
   "execution_count": 46,
   "id": "5cc62a8c-10e1-4137-b84a-74de16cccdf4",
   "metadata": {},
   "outputs": [],
   "source": [
    "s = s1 + s2"
   ]
  },
  {
   "cell_type": "code",
   "execution_count": 47,
   "id": "53b0590a-de98-4f75-81e3-2e94b7d97596",
   "metadata": {},
   "outputs": [
    {
     "data": {
      "text/plain": [
       "'HelloWorld'"
      ]
     },
     "execution_count": 47,
     "metadata": {},
     "output_type": "execute_result"
    }
   ],
   "source": [
    "s"
   ]
  },
  {
   "cell_type": "code",
   "execution_count": 48,
   "id": "8aadc964-bbe1-4f02-b662-3d37c25f8c58",
   "metadata": {},
   "outputs": [
    {
     "data": {
      "text/plain": [
       "10"
      ]
     },
     "execution_count": 48,
     "metadata": {},
     "output_type": "execute_result"
    }
   ],
   "source": [
    "len(s)"
   ]
  },
  {
   "cell_type": "code",
   "execution_count": 50,
   "id": "ab443cd8-1ac5-4293-ad97-74b2fb12667d",
   "metadata": {},
   "outputs": [
    {
     "data": {
      "text/plain": [
       "3"
      ]
     },
     "execution_count": 50,
     "metadata": {},
     "output_type": "execute_result"
    }
   ],
   "source": [
    "s.count('l')"
   ]
  },
  {
   "cell_type": "markdown",
   "id": "c6aa5f96-ad0e-495e-b4f3-d4e1606bdf22",
   "metadata": {},
   "source": [
    "## Arrangement"
   ]
  },
  {
   "cell_type": "code",
   "execution_count": 53,
   "id": "1ce928dc-37da-4c1b-b146-3888f4e5e64e",
   "metadata": {},
   "outputs": [
    {
     "data": {
      "text/plain": [
       "['o', 'l', 'l', 'e', 'H']"
      ]
     },
     "execution_count": 53,
     "metadata": {},
     "output_type": "execute_result"
    }
   ],
   "source": [
    "s = \"Hello\"\n",
    "sorted(s, reverse=True)"
   ]
  },
  {
   "cell_type": "markdown",
   "id": "b8483629-e82f-49b0-ba96-45719b3e3de4",
   "metadata": {},
   "source": [
    "## Methods "
   ]
  },
  {
   "cell_type": "code",
   "execution_count": 54,
   "id": "79a3f0ff-0399-4cc4-8ac1-5326afc42a5b",
   "metadata": {},
   "outputs": [
    {
     "name": "stdout",
     "output_type": "stream",
     "text": [
      "Python is fUn.\n"
     ]
    }
   ],
   "source": [
    "s = \"Python is fUn.\"\n",
    "print(s)"
   ]
  },
  {
   "cell_type": "code",
   "execution_count": 55,
   "id": "1b3acb96-100c-49f0-adc9-4da974d7d4de",
   "metadata": {},
   "outputs": [
    {
     "name": "stdout",
     "output_type": "stream",
     "text": [
      "PYTHON IS FUN.\n"
     ]
    }
   ],
   "source": [
    "print(s.upper())"
   ]
  },
  {
   "cell_type": "code",
   "execution_count": 56,
   "id": "a2d5faf9-d390-4638-8ecd-b165517abc66",
   "metadata": {},
   "outputs": [
    {
     "name": "stdout",
     "output_type": "stream",
     "text": [
      "Python is fun.\n"
     ]
    }
   ],
   "source": [
    "print(s.capitalize())"
   ]
  },
  {
   "cell_type": "code",
   "execution_count": 57,
   "id": "1a46e011-9050-4d7e-be7d-026d1e83dc11",
   "metadata": {},
   "outputs": [
    {
     "name": "stdout",
     "output_type": "stream",
     "text": [
      "Python Is Fun.\n"
     ]
    }
   ],
   "source": [
    "print(s.title())"
   ]
  },
  {
   "cell_type": "code",
   "execution_count": 58,
   "id": "e642aaba-322e-4c1b-8ac8-9845cde74fc4",
   "metadata": {},
   "outputs": [
    {
     "name": "stdout",
     "output_type": "stream",
     "text": [
      "pYTHON IS FuN.\n"
     ]
    }
   ],
   "source": [
    "print(s.swapcase())"
   ]
  },
  {
   "cell_type": "code",
   "execution_count": 60,
   "id": "eda9e2ca-9d04-4e6d-9118-64e4891ed6e4",
   "metadata": {},
   "outputs": [
    {
     "name": "stdout",
     "output_type": "stream",
     "text": [
      "True\n"
     ]
    }
   ],
   "source": [
    "print(\"hello\".islower())"
   ]
  },
  {
   "cell_type": "code",
   "execution_count": 61,
   "id": "559f0db2-709b-4fca-a4b1-35cef482768a",
   "metadata": {},
   "outputs": [
    {
     "name": "stdout",
     "output_type": "stream",
     "text": [
      "False\n"
     ]
    }
   ],
   "source": [
    "print(\"Hello\".isupper())"
   ]
  },
  {
   "cell_type": "markdown",
   "id": "287610f0-70c2-4690-a9b0-4dd653a4dd5a",
   "metadata": {},
   "source": [
    "## Check substring"
   ]
  },
  {
   "cell_type": "code",
   "execution_count": 62,
   "id": "5046d019-4367-4fb3-934b-3547a4fbbc1b",
   "metadata": {},
   "outputs": [
    {
     "name": "stdout",
     "output_type": "stream",
     "text": [
      "True\n"
     ]
    }
   ],
   "source": [
    "print(s.startswith(\"Py\"))"
   ]
  },
  {
   "cell_type": "code",
   "execution_count": 63,
   "id": "144342b4-8f74-4483-bacd-55ea2aac347f",
   "metadata": {},
   "outputs": [
    {
     "name": "stdout",
     "output_type": "stream",
     "text": [
      "False\n"
     ]
    }
   ],
   "source": [
    "print(s.startswith(\"py\"))"
   ]
  },
  {
   "cell_type": "code",
   "execution_count": 64,
   "id": "4085a8e4-7c0e-4189-b57b-c8ac5627ecf0",
   "metadata": {},
   "outputs": [
    {
     "name": "stdout",
     "output_type": "stream",
     "text": [
      "True\n",
      "False\n"
     ]
    }
   ],
   "source": [
    "print(s.endswith(\"Un.\"))\n",
    "print(s.endswith(\"un.\"))"
   ]
  },
  {
   "cell_type": "code",
   "execution_count": 65,
   "id": "ca3e5774-579a-42e5-8252-0f552e26b15a",
   "metadata": {},
   "outputs": [
    {
     "name": "stdout",
     "output_type": "stream",
     "text": [
      "12\n"
     ]
    }
   ],
   "source": [
    "print(s.rfind(\"n\"))"
   ]
  },
  {
   "cell_type": "code",
   "execution_count": 66,
   "id": "2b3ca2e4-97e9-444e-a6ae-451c8cf0fac5",
   "metadata": {},
   "outputs": [
    {
     "name": "stdout",
     "output_type": "stream",
     "text": [
      "-1\n"
     ]
    }
   ],
   "source": [
    "print(s.find(\"l\"))"
   ]
  },
  {
   "cell_type": "markdown",
   "id": "b6ccf6f5-fd16-43be-815b-147cd57dd5c9",
   "metadata": {},
   "source": [
    "## Method with space"
   ]
  },
  {
   "cell_type": "code",
   "execution_count": 67,
   "id": "de2efd1c-e6d0-4c75-9432-2afbf567ab4a",
   "metadata": {},
   "outputs": [
    {
     "name": "stdout",
     "output_type": "stream",
     "text": [
      "\n",
      " \t\t\n",
      "     \t\n",
      "\n",
      "True\n"
     ]
    }
   ],
   "source": [
    "s = \"\"\"\n",
    " \\t\\t\n",
    "     \\t\n",
    "\"\"\"\n",
    "print(s)\n",
    "print(s.isspace())"
   ]
  },
  {
   "cell_type": "code",
   "execution_count": 68,
   "id": "d475b773-5677-4336-9b72-797ec926aac5",
   "metadata": {},
   "outputs": [
    {
     "data": {
      "text/plain": [
       "'     Hello   World     '"
      ]
     },
     "execution_count": 68,
     "metadata": {},
     "output_type": "execute_result"
    }
   ],
   "source": [
    "s = \"     Hello   World     \"\n",
    "s"
   ]
  },
  {
   "cell_type": "code",
   "execution_count": 69,
   "id": "7cd32d4b-977f-4f7b-b4cd-1b6bd0b3232f",
   "metadata": {},
   "outputs": [
    {
     "name": "stdout",
     "output_type": "stream",
     "text": [
      "23\n"
     ]
    }
   ],
   "source": [
    "print(len(s))"
   ]
  },
  {
   "cell_type": "code",
   "execution_count": 71,
   "id": "4e80455a-a4a6-4fcb-9c7f-2c0da55d6d64",
   "metadata": {},
   "outputs": [
    {
     "name": "stdout",
     "output_type": "stream",
     "text": [
      "Hello   World     \n",
      "18\n"
     ]
    }
   ],
   "source": [
    "s1 = s.lstrip()\n",
    "print(s1)\n",
    "print(len(s1))"
   ]
  },
  {
   "cell_type": "code",
   "execution_count": 72,
   "id": "aea916da-c1d1-4197-beab-2bb400c3d470",
   "metadata": {},
   "outputs": [
    {
     "name": "stdout",
     "output_type": "stream",
     "text": [
      "     Hello   World\n",
      "18\n"
     ]
    }
   ],
   "source": [
    "s2 = s.rstrip()\n",
    "print(s2)\n",
    "print(len(s2))"
   ]
  },
  {
   "cell_type": "code",
   "execution_count": 73,
   "id": "76dcf405-d8d0-4b37-9f18-e038792da662",
   "metadata": {},
   "outputs": [
    {
     "name": "stdout",
     "output_type": "stream",
     "text": [
      "Hello   World\n"
     ]
    }
   ],
   "source": [
    "print(s.strip())"
   ]
  },
  {
   "cell_type": "markdown",
   "id": "cdc0fe97-14b7-4e80-a3bc-3f37b68a478b",
   "metadata": {},
   "source": [
    "###  Seperate strings"
   ]
  },
  {
   "cell_type": "code",
   "execution_count": 74,
   "id": "083293d9-e211-48ae-a9e5-9d3057e16bae",
   "metadata": {},
   "outputs": [
    {
     "name": "stdout",
     "output_type": "stream",
     "text": [
      "['This', 'is', 'a', 'text', 'string']\n"
     ]
    }
   ],
   "source": [
    "s = \"This is a text string\"\n",
    "words = s.split(\" \")\n",
    "print(words)"
   ]
  },
  {
   "cell_type": "code",
   "execution_count": 75,
   "id": "6bf9dd87-f932-4e97-8c64-ad5515b240ed",
   "metadata": {},
   "outputs": [
    {
     "name": "stdout",
     "output_type": "stream",
     "text": [
      "('Name', ':', ' Lam gia thinh')\n"
     ]
    }
   ],
   "source": [
    "s = \"Name: Lam gia thinh\"\n",
    "print(s.partition(\":\"))"
   ]
  },
  {
   "cell_type": "code",
   "execution_count": 76,
   "id": "7ba7c944-ad98-4619-a8b2-c9ac43f7762b",
   "metadata": {},
   "outputs": [
    {
     "name": "stdout",
     "output_type": "stream",
     "text": [
      "['This', 'is', 'a', 'text', 'string']\n",
      "This is a text string\n"
     ]
    }
   ],
   "source": [
    "words = [\"This\", \"is\", \"a\", \"text\", \"string\"]\n",
    "s = \" \".join(words)\n",
    "print(words)\n",
    "print(s)"
   ]
  },
  {
   "cell_type": "markdown",
   "id": "4cfbd843-55d3-4207-8cba-4bc230d992c1",
   "metadata": {},
   "source": [
    "### Formatted-strings"
   ]
  },
  {
   "cell_type": "code",
   "execution_count": 77,
   "id": "ddeaa790-e4ca-4171-9bed-00666b7a471b",
   "metadata": {},
   "outputs": [
    {
     "name": "stdout",
     "output_type": "stream",
     "text": [
      "Jack is from New York\n"
     ]
    }
   ],
   "source": [
    "name = \"Jack\"\n",
    "city = \"New York\"\n",
    "print(\"{} is from {}\".format(name, city))"
   ]
  },
  {
   "cell_type": "code",
   "execution_count": 78,
   "id": "95ba8387-edea-48de-9d90-30e6dcb73a15",
   "metadata": {},
   "outputs": [
    {
     "name": "stdout",
     "output_type": "stream",
     "text": [
      "10 times 10 is equal to 100\n"
     ]
    }
   ],
   "source": [
    "number = 10\n",
    "print(\"{0} times {0} is equal to {1}\".format(number, number ** 2))"
   ]
  },
  {
   "cell_type": "code",
   "execution_count": 79,
   "id": "5ac937cb-a176-474e-be87-ea6f98a7ecef",
   "metadata": {},
   "outputs": [
    {
     "name": "stdout",
     "output_type": "stream",
     "text": [
      "Number of male students:         20\n",
      "Number of female students:         30\n",
      "Percentage of male students:       40.0\n"
     ]
    }
   ],
   "source": [
    "male = 20\n",
    "female = 30\n",
    "total = male + female\n",
    "percent_male = round(male * 100 / total, 2)\n",
    "print(\"Number of male students: {:>10}\".format(male))\n",
    "print(\"Number of female students: {:>10}\".format(female))\n",
    "print(\"Percentage of male students: {:>10}\".format(percent_male))"
   ]
  },
  {
   "cell_type": "code",
   "execution_count": 82,
   "id": "ca2e8174-194b-4c31-9ff6-628b30c9d3e7",
   "metadata": {},
   "outputs": [
    {
     "name": "stdout",
     "output_type": "stream",
     "text": [
      "3.33\n"
     ]
    }
   ],
   "source": [
    "print(\"{:.2f}\".format(10/3))"
   ]
  },
  {
   "cell_type": "markdown",
   "id": "08d0b76b-48bd-4c49-81b8-cbde59ac63c8",
   "metadata": {},
   "source": [
    "### type dict"
   ]
  },
  {
   "cell_type": "code",
   "execution_count": 83,
   "id": "8146b471-5827-4bdd-949d-1581439a137c",
   "metadata": {},
   "outputs": [
    {
     "name": "stdout",
     "output_type": "stream",
     "text": [
      "{'name': 'Jack', 'country': 'US', 'age': 20}\n",
      "<class 'dict'>\n"
     ]
    }
   ],
   "source": [
    "d = {\n",
    "    \"name\": \"Jack\",\n",
    "    \"country\": \"US\", \n",
    "    \"age\": 20\n",
    "}\n",
    "print(d)\n",
    "print(type(d))"
   ]
  },
  {
   "cell_type": "code",
   "execution_count": 89,
   "id": "aff7c32c-a4a5-4f56-9a07-944777d01c36",
   "metadata": {},
   "outputs": [
    {
     "data": {
      "text/plain": [
       "{'name': 'Jack', 'country': 'US', 'age': 20}"
      ]
     },
     "execution_count": 89,
     "metadata": {},
     "output_type": "execute_result"
    }
   ],
   "source": [
    "d = dict(\n",
    "    name = \"Jack\",\n",
    "    country = \"US\",\n",
    "    age = 20\n",
    ")\n",
    "d"
   ]
  },
  {
   "cell_type": "code",
   "execution_count": 91,
   "id": "100a8910-47d5-421b-ae01-ccdc6c8d3154",
   "metadata": {},
   "outputs": [
    {
     "name": "stdout",
     "output_type": "stream",
     "text": [
      "[['name', 'Jack'], ['country', 'US'], ['age', 20]]\n",
      "<class 'list'>\n",
      "{'name': 'Jack', 'country': 'US', 'age': 20}\n"
     ]
    }
   ],
   "source": [
    "l = [[\"name\", \"Jack\"], [\"country\", \"US\"], [\"age\", 20]]\n",
    "d = dict(l)\n",
    "print(l)\n",
    "print(type(l))\n",
    "print(d)"
   ]
  },
  {
   "cell_type": "code",
   "execution_count": 92,
   "id": "b690bd29-e6d5-4981-a239-17aba926beec",
   "metadata": {},
   "outputs": [
    {
     "name": "stdout",
     "output_type": "stream",
     "text": [
      "{'name': 'Jack', 'country': 'US', 'age': 20}\n"
     ]
    }
   ],
   "source": [
    "keys = [\"name\", \"country\", \"age\"]\n",
    "values = [\"Jack\", \"US\", 20]\n",
    "d = dict(zip(keys, values))\n",
    "print(d)"
   ]
  },
  {
   "cell_type": "markdown",
   "id": "d0895279-1c26-4074-a1f8-5cab3c4f97d0",
   "metadata": {},
   "source": [
    "### Munipulates basic"
   ]
  },
  {
   "cell_type": "code",
   "execution_count": 1,
   "id": "dcfe5b3e-d5d2-4bb0-a8f8-7f384c80c4a5",
   "metadata": {},
   "outputs": [
    {
     "name": "stdout",
     "output_type": "stream",
     "text": [
      "{'name': 'Jack', 'country': 'US', 'age': 20}\n"
     ]
    }
   ],
   "source": [
    "d = {\n",
    "    \"name\": \"Jack\",\n",
    "    \"country\": \"US\",\n",
    "    \"age\": 20\n",
    "}\n",
    "print(d)"
   ]
  },
  {
   "cell_type": "code",
   "execution_count": 2,
   "id": "c2d792c4-2ffd-40f7-9b0f-6c0deb5570ee",
   "metadata": {},
   "outputs": [
    {
     "data": {
      "text/plain": [
       "3"
      ]
     },
     "execution_count": 2,
     "metadata": {},
     "output_type": "execute_result"
    }
   ],
   "source": [
    "len(d)"
   ]
  },
  {
   "cell_type": "code",
   "execution_count": 3,
   "id": "da8b7395-14e7-49b5-8aa5-2ddce386649b",
   "metadata": {},
   "outputs": [
    {
     "name": "stdout",
     "output_type": "stream",
     "text": [
      "['name', 'country', 'age']\n"
     ]
    }
   ],
   "source": [
    "print(list(d))"
   ]
  },
  {
   "cell_type": "code",
   "execution_count": 4,
   "id": "5e20bd99-e09d-492c-83df-1a64b606cbc9",
   "metadata": {},
   "outputs": [
    {
     "name": "stdout",
     "output_type": "stream",
     "text": [
      "Jack\n"
     ]
    }
   ],
   "source": [
    "print(d[\"name\"])"
   ]
  },
  {
   "cell_type": "code",
   "execution_count": 5,
   "id": "13c4c1be-65d6-4d06-a6ea-77f1073786d4",
   "metadata": {},
   "outputs": [
    {
     "ename": "KeyError",
     "evalue": "'dsjfkdsj'",
     "output_type": "error",
     "traceback": [
      "\u001b[0;31m---------------------------------------------------------------------------\u001b[0m",
      "\u001b[0;31mKeyError\u001b[0m                                  Traceback (most recent call last)",
      "Cell \u001b[0;32mIn[5], line 1\u001b[0m\n\u001b[0;32m----> 1\u001b[0m \u001b[38;5;28mprint\u001b[39m(\u001b[43md\u001b[49m\u001b[43m[\u001b[49m\u001b[38;5;124;43m\"\u001b[39;49m\u001b[38;5;124;43mdsjfkdsj\u001b[39;49m\u001b[38;5;124;43m\"\u001b[39;49m\u001b[43m]\u001b[49m)\n",
      "\u001b[0;31mKeyError\u001b[0m: 'dsjfkdsj'"
     ]
    }
   ],
   "source": [
    "print(d[\"dsjfkdsj\"])"
   ]
  },
  {
   "cell_type": "code",
   "execution_count": 7,
   "id": "be4e4ec5-cf3d-4d84-a6d6-63d680f97099",
   "metadata": {},
   "outputs": [
    {
     "name": "stdout",
     "output_type": "stream",
     "text": [
      "{'name': 'Jack', 'country': 'US', 'age': 20, 'education': 'bachelor'}\n"
     ]
    }
   ],
   "source": [
    "d[\"education\"] = \"bachelor\"\n",
    "print(d)"
   ]
  },
  {
   "cell_type": "code",
   "execution_count": 8,
   "id": "60eb5b53-6fa8-40e4-a3d4-015e82c6feaa",
   "metadata": {},
   "outputs": [
    {
     "name": "stdout",
     "output_type": "stream",
     "text": [
      "{'name': 'Jack', 'country': 'US', 'age': 20, 'education': 'master'}\n"
     ]
    }
   ],
   "source": [
    "d[\"education\"] = \"master\"\n",
    "print(d)"
   ]
  },
  {
   "cell_type": "code",
   "execution_count": 9,
   "id": "d56862b2-4e57-4ce0-91e6-724ae6050630",
   "metadata": {},
   "outputs": [],
   "source": [
    "del d[\"education\"]"
   ]
  },
  {
   "cell_type": "code",
   "execution_count": 10,
   "id": "ade8f441-2755-427a-b41b-5ad010acaf9d",
   "metadata": {},
   "outputs": [
    {
     "data": {
      "text/plain": [
       "{'name': 'Jack', 'country': 'US', 'age': 20}"
      ]
     },
     "execution_count": 10,
     "metadata": {},
     "output_type": "execute_result"
    }
   ],
   "source": [
    "d"
   ]
  },
  {
   "cell_type": "code",
   "execution_count": 11,
   "id": "5c2d9340-0fd9-4682-a9e5-546e5a6bc154",
   "metadata": {},
   "outputs": [
    {
     "name": "stdout",
     "output_type": "stream",
     "text": [
      "{'name': 'Jack', 'age': 20}\n",
      "Jack\n",
      "{'age': 20}\n"
     ]
    }
   ],
   "source": [
    "d = {\"name\": \"Jack\", \"age\": 20}\n",
    "print(d)\n",
    "element = d.pop(\"name\")\n",
    "print(element)\n",
    "print(d)"
   ]
  },
  {
   "cell_type": "code",
   "execution_count": 14,
   "id": "f023215e-cdde-409c-a7c7-b0e0994d4b72",
   "metadata": {},
   "outputs": [
    {
     "name": "stdout",
     "output_type": "stream",
     "text": [
      "{'name': 'Jack', 'age': 20}\n",
      "{'name': 'Jack', 'age': 20}\n",
      "{'name': 'Jack', 'age': 20, 'education': 'dkfjsdkj'}\n"
     ]
    }
   ],
   "source": [
    "d = {\"name\": \"Jack\", \"age\": 20}\n",
    "print(d)\n",
    "d.setdefault(\"name\", \"N/A\")\n",
    "print(d)\n",
    "d.setdefault(\"education\", \"dkfjsdkj\")\n",
    "print(d)"
   ]
  },
  {
   "cell_type": "code",
   "execution_count": 15,
   "id": "99f5af61-f581-429d-bb3b-ac3d2e603d92",
   "metadata": {},
   "outputs": [
    {
     "name": "stdout",
     "output_type": "stream",
     "text": [
      "{'name': 'Jack', 'age': 20}\n",
      "{'name': 'Jack', 'age': 25, 'education': 'master'}\n"
     ]
    }
   ],
   "source": [
    "d = {\"name\": \"Jack\", \"age\": 20}\n",
    "print(d)\n",
    "\n",
    "d2 = {\"age\": 25, \"education\": \"master\"}\n",
    "d.update(d2)\n",
    "print(d)"
   ]
  },
  {
   "cell_type": "markdown",
   "id": "7b66d74c-a47f-4fe3-a678-500bda183870",
   "metadata": {},
   "source": [
    "### Dictview"
   ]
  },
  {
   "cell_type": "code",
   "execution_count": 16,
   "id": "ed9b13ab-6b36-4348-b659-227525da22a1",
   "metadata": {},
   "outputs": [
    {
     "name": "stdout",
     "output_type": "stream",
     "text": [
      "{}\n",
      "dict_keys([])\n"
     ]
    }
   ],
   "source": [
    "d = {}\n",
    "d_keys = d.keys()\n",
    "print(d)\n",
    "print(d_keys)"
   ]
  },
  {
   "cell_type": "code",
   "execution_count": 17,
   "id": "10b7f66f-4c84-44ca-aecb-06071bdec6be",
   "metadata": {},
   "outputs": [
    {
     "name": "stdout",
     "output_type": "stream",
     "text": [
      "{'name': 'Jack', 'age': 25}\n",
      "dict_keys(['name', 'age'])\n"
     ]
    }
   ],
   "source": [
    "d[\"name\"] = \"Jack\"\n",
    "d[\"age\"] = 25\n",
    "print(d)\n",
    "print(d_keys)"
   ]
  },
  {
   "cell_type": "markdown",
   "id": "df15dc09-7cdf-4436-bdfc-1917ba97564f",
   "metadata": {},
   "source": [
    "# Set"
   ]
  },
  {
   "cell_type": "code",
   "execution_count": 18,
   "id": "2ee1a72d-ccc5-417a-a2b8-ed668bcf2db4",
   "metadata": {},
   "outputs": [],
   "source": [
    "# Manipulate with set"
   ]
  },
  {
   "cell_type": "code",
   "execution_count": 19,
   "id": "05053580-7885-4b64-8ceb-118683b17785",
   "metadata": {},
   "outputs": [
    {
     "name": "stdout",
     "output_type": "stream",
     "text": [
      "{1, 2, 3, 4, 5}\n",
      "{0, 1, 2, 3}\n"
     ]
    }
   ],
   "source": [
    "s1 = {1, 2, 3, 4, 5}\n",
    "s2 = {0, 1, 2, 3}\n",
    "print(s1)\n",
    "print(s2)"
   ]
  },
  {
   "cell_type": "code",
   "execution_count": 20,
   "id": "62236775-2eb9-4c80-8d54-2c20dec8c2a8",
   "metadata": {},
   "outputs": [
    {
     "name": "stdout",
     "output_type": "stream",
     "text": [
      "<class 'set'>\n"
     ]
    }
   ],
   "source": [
    "print(type(s1))"
   ]
  },
  {
   "cell_type": "code",
   "execution_count": 21,
   "id": "db219623-e2eb-4071-98be-539578c0a9cf",
   "metadata": {},
   "outputs": [
    {
     "data": {
      "text/plain": [
       "{0, 1, 2, 3, 4, 5}"
      ]
     },
     "execution_count": 21,
     "metadata": {},
     "output_type": "execute_result"
    }
   ],
   "source": [
    "s1 | s2"
   ]
  },
  {
   "cell_type": "code",
   "execution_count": 22,
   "id": "0e2532a6-55c9-4b95-8297-644c22c38dc6",
   "metadata": {},
   "outputs": [
    {
     "data": {
      "text/plain": [
       "{1, 2, 3}"
      ]
     },
     "execution_count": 22,
     "metadata": {},
     "output_type": "execute_result"
    }
   ],
   "source": [
    "s1 & s2"
   ]
  },
  {
   "cell_type": "code",
   "execution_count": 23,
   "id": "4bdc538b-54b2-4127-8597-d66ea757ba42",
   "metadata": {},
   "outputs": [
    {
     "data": {
      "text/plain": [
       "{4, 5}"
      ]
     },
     "execution_count": 23,
     "metadata": {},
     "output_type": "execute_result"
    }
   ],
   "source": [
    "s1 - s2"
   ]
  },
  {
   "cell_type": "code",
   "execution_count": 24,
   "id": "76ac4441-3509-4308-98ff-f6c670f8d5e9",
   "metadata": {},
   "outputs": [
    {
     "data": {
      "text/plain": [
       "False"
      ]
     },
     "execution_count": 24,
     "metadata": {},
     "output_type": "execute_result"
    }
   ],
   "source": [
    "s1 <= s2"
   ]
  },
  {
   "cell_type": "code",
   "execution_count": 25,
   "id": "df7a494e-3d6e-469c-b655-c4b69c3ecc45",
   "metadata": {},
   "outputs": [
    {
     "data": {
      "text/plain": [
       "False"
      ]
     },
     "execution_count": 25,
     "metadata": {},
     "output_type": "execute_result"
    }
   ],
   "source": [
    "s1 < s2"
   ]
  },
  {
   "cell_type": "markdown",
   "id": "b2c6adf6-d547-454b-be12-7787e1fdbc5a",
   "metadata": {},
   "source": [
    "# Control Flow"
   ]
  },
  {
   "cell_type": "code",
   "execution_count": 26,
   "id": "896c347b-0fd9-41c1-b053-e603f6997314",
   "metadata": {},
   "outputs": [
    {
     "name": "stdin",
     "output_type": "stream",
     "text": [
      " 1\n"
     ]
    },
    {
     "name": "stdout",
     "output_type": "stream",
     "text": [
      "positive\n"
     ]
    }
   ],
   "source": [
    "x = int(input())\n",
    "if  x > 0:\n",
    "    print(\"positive\")"
   ]
  },
  {
   "cell_type": "code",
   "execution_count": 1,
   "id": "991be384-b8bd-4327-ad0d-ef7a2e758fc7",
   "metadata": {},
   "outputs": [
    {
     "name": "stdout",
     "output_type": "stream",
     "text": [
      "[0, 2, 4, 6, 8, 10, 12, 14, 16, 18, 20, 22, 24, 26, 28, 30, 32, 34, 36, 38, 40, 42, 44, 46, 48, 50, 52, 54, 56, 58, 60, 62, 64, 66, 68, 70, 72, 74, 76, 78, 80, 82, 84, 86, 88, 90, 92, 94, 96, 98]\n"
     ]
    }
   ],
   "source": [
    "even_numbers = []\n",
    "for i in range(100):\n",
    "    if i % 2 == 0:\n",
    "        even_numbers.append(i)\n",
    "print(even_numbers)"
   ]
  },
  {
   "cell_type": "code",
   "execution_count": 5,
   "id": "193ca9e6-1016-474d-9a7b-d15538858d47",
   "metadata": {},
   "outputs": [
    {
     "name": "stdout",
     "output_type": "stream",
     "text": [
      "Bill\n",
      "fail\n"
     ]
    }
   ],
   "source": [
    "s = {\n",
    "    \"Jack\": 9,\n",
    "    \"Bill\": 4,\n",
    "    \"Hillary\": 7\n",
    "}\n",
    "student = \"Bill\"\n",
    "\n",
    "if student in s:\n",
    "    print(student)\n",
    "    if s[student] < 5:\n",
    "        print(\"fail\")\n",
    "    else:\n",
    "        print(\"pass\")\n",
    "else:\n",
    "    print(\"Not found\")\n"
   ]
  },
  {
   "cell_type": "code",
   "execution_count": 6,
   "id": "ad51c122-4aea-4dcb-ae3d-7de885180e57",
   "metadata": {},
   "outputs": [
    {
     "name": "stdin",
     "output_type": "stream",
     "text": [
      " 1200000\n"
     ]
    },
    {
     "name": "stdout",
     "output_type": "stream",
     "text": [
      "1080000.0\n"
     ]
    }
   ],
   "source": [
    "giaTri = float(input())\n",
    "if giaTri >= 1000000:\n",
    "    giaTri = giaTri - 0.1 * giaTri\n",
    "elif giaTRi >= 500000:\n",
    "    giaTri = giaTri - 0.05 * giaTri\n",
    "else:\n",
    "    giaTri = giaTri - 0.02 * giaTri\n",
    "print(giaTri)"
   ]
  },
  {
   "cell_type": "markdown",
   "id": "a10bf7c4-96a1-4633-94f5-e5ec9ceff91c",
   "metadata": {},
   "source": [
    "### Looping"
   ]
  },
  {
   "cell_type": "code",
   "execution_count": 7,
   "id": "441ea4fa-883d-48d3-b4bd-a07c5f5b69dd",
   "metadata": {},
   "outputs": [
    {
     "name": "stdout",
     "output_type": "stream",
     "text": [
      "0\n",
      "1\n",
      "2\n",
      "3\n",
      "4\n",
      "5\n",
      "6\n",
      "7\n",
      "8\n",
      "9\n"
     ]
    }
   ],
   "source": [
    "for i in range(10):\n",
    "    print(i)"
   ]
  },
  {
   "cell_type": "code",
   "execution_count": 10,
   "id": "79618a68-cb4f-42e5-8dc7-1e146b7e445d",
   "metadata": {},
   "outputs": [
    {
     "name": "stdout",
     "output_type": "stream",
     "text": [
      "285\n"
     ]
    }
   ],
   "source": [
    "sum = 0\n",
    "for i in range(10):\n",
    "    sum = sum + i*i\n",
    "print(sum)"
   ]
  },
  {
   "cell_type": "code",
   "execution_count": 12,
   "id": "d0e567fe-5046-4ee9-a8f3-41bce95195bc",
   "metadata": {},
   "outputs": [
    {
     "name": "stdout",
     "output_type": "stream",
     "text": [
      "6\n"
     ]
    }
   ],
   "source": [
    "s = \"WTO is short for World Trade Organization\"\n",
    "sum = 0\n",
    "for i in s:\n",
    "    if i.isupper():\n",
    "        sum = sum + 1\n",
    "print(sum)"
   ]
  },
  {
   "cell_type": "code",
   "execution_count": 14,
   "id": "c71952a4-123f-4b8e-b2fa-5a498fc91f35",
   "metadata": {},
   "outputs": [
    {
     "name": "stdout",
     "output_type": "stream",
     "text": [
      "Student 1 is Jack\n",
      "Student 2 is Bill\n",
      "Student 3 is Jane\n"
     ]
    }
   ],
   "source": [
    "students = [\"Jack\", \"Bill\", \"Jane\"]\n",
    "for i, x in enumerate(students):\n",
    "    print(\"Student {} is {}\".format(i + 1, x))\n"
   ]
  },
  {
   "cell_type": "code",
   "execution_count": 15,
   "id": "14428887-1127-4198-9870-3cf6d530d0bb",
   "metadata": {},
   "outputs": [
    {
     "name": "stdout",
     "output_type": "stream",
     "text": [
      "Jack\n",
      "Bill\n",
      "Hillary\n"
     ]
    }
   ],
   "source": [
    "scores = {\n",
    "    \"Jack\": 9,\n",
    "    \"Bill\": 4,\n",
    "    \"Hillary\": 7\n",
    "}\n",
    "for k in scores:\n",
    "    print(k)"
   ]
  },
  {
   "cell_type": "code",
   "execution_count": 16,
   "id": "fd20909a-62fa-430c-849b-2ed57a220f7c",
   "metadata": {},
   "outputs": [
    {
     "name": "stdout",
     "output_type": "stream",
     "text": [
      "9\n",
      "4\n",
      "7\n"
     ]
    }
   ],
   "source": [
    "for v in scores.values():\n",
    "    print(v)"
   ]
  },
  {
   "cell_type": "code",
   "execution_count": 17,
   "id": "d2fd07d1-bcdf-49b0-8260-c1b4a8527016",
   "metadata": {},
   "outputs": [
    {
     "name": "stdout",
     "output_type": "stream",
     "text": [
      "Student Hillary has score of Jack\n",
      "Student Hillary has score of Bill\n",
      "Student Hillary has score of Hillary\n"
     ]
    }
   ],
   "source": [
    "for v, x in scores.items():\n",
    "    print(\"Student {} has score of {}\".format(k, v))"
   ]
  },
  {
   "cell_type": "code",
   "execution_count": 18,
   "id": "bf273f82-6aaf-4178-8188-23a3ba258a39",
   "metadata": {},
   "outputs": [
    {
     "name": "stdout",
     "output_type": "stream",
     "text": [
      "0 1 2 3 4 5 6 7 8 9 \n",
      "1 2 3 4 5 6 7 8 9 \n",
      "2 3 4 5 6 7 8 9 \n",
      "3 4 5 6 7 8 9 \n",
      "4 5 6 7 8 9 \n",
      "5 6 7 8 9 \n",
      "6 7 8 9 \n",
      "7 8 9 \n",
      "8 9 \n",
      "9 \n"
     ]
    }
   ],
   "source": [
    "for i in range(10):\n",
    "    for j in range(i, 10):\n",
    "        print(j, end = \" \")\n",
    "    print(\"\")"
   ]
  },
  {
   "cell_type": "code",
   "execution_count": 2,
   "id": "8d2b5e31-889c-4662-b012-ef8752ecc6f0",
   "metadata": {},
   "outputs": [
    {
     "name": "stdout",
     "output_type": "stream",
     "text": [
      "t h i s   i s   a   s t r i n g "
     ]
    }
   ],
   "source": [
    "s = \"this is a string\"\n",
    "for i in s:\n",
    "    print(i, end=\" \")"
   ]
  },
  {
   "cell_type": "code",
   "execution_count": 7,
   "id": "78079aae-7fb1-4327-9c82-53c05616a761",
   "metadata": {},
   "outputs": [
    {
     "name": "stdout",
     "output_type": "stream",
     "text": [
      "this is a string\n",
      "t h i s   i s   a   s t r i n g "
     ]
    }
   ],
   "source": [
    "print(s)\n",
    "i= 0\n",
    "while i < len(s):\n",
    "    print(s[i], end=\" \")\n",
    "    i += 1\n"
   ]
  },
  {
   "cell_type": "code",
   "execution_count": 9,
   "id": "28218d55-3ca9-47ef-89af-1fea37082110",
   "metadata": {},
   "outputs": [
    {
     "name": "stdout",
     "output_type": "stream",
     "text": [
      "[1, 2, 3, 4, 5]\n",
      "15\n"
     ]
    }
   ],
   "source": [
    "l = [1, 2, 3, 4, 5]\n",
    "print(l)\n",
    "total = 0\n",
    "while l:\n",
    "    total += l.pop()\n",
    "print(total)"
   ]
  },
  {
   "cell_type": "code",
   "execution_count": 13,
   "id": "68146497-2077-42fb-af50-0c5cf610350c",
   "metadata": {},
   "outputs": [
    {
     "name": "stdout",
     "output_type": "stream",
     "text": [
      "87654321\n"
     ]
    }
   ],
   "source": [
    "num = 12345678\n",
    "t = 0\n",
    "while num > 0:\n",
    "    t = t * 10 + num % 10\n",
    "    num = num // 10\n",
    "print(t)"
   ]
  },
  {
   "cell_type": "code",
   "execution_count": 14,
   "id": "2476e52f-645c-46b4-9c53-92e733d0b8c6",
   "metadata": {},
   "outputs": [
    {
     "name": "stdout",
     "output_type": "stream",
     "text": [
      "4\n"
     ]
    }
   ],
   "source": [
    "l = [1, 3, -15, 4, 9, -2, 7]\n",
    "l2 = list(range(1, 10, 2))\n",
    "for i in l:\n",
    "    if i % 2 == 0:\n",
    "        print(i)\n",
    "        break"
   ]
  },
  {
   "cell_type": "code",
   "execution_count": 17,
   "id": "3883a890-7d85-445c-828f-aa72a94ebfb8",
   "metadata": {},
   "outputs": [
    {
     "name": "stdout",
     "output_type": "stream",
     "text": [
      "21\n"
     ]
    }
   ],
   "source": [
    "l = [1, 2, 3, 4, 5, -3, 6]\n",
    "tong = 0\n",
    "for i in range(len(l)):\n",
    "    if l[i] < 0:\n",
    "        continue\n",
    "    else:\n",
    "        tong = tong + l[i]\n",
    "print(tong)\n"
   ]
  },
  {
   "cell_type": "code",
   "execution_count": 18,
   "id": "f588c395-e8f6-482c-89c6-f2f758ca53d6",
   "metadata": {},
   "outputs": [
    {
     "name": "stdout",
     "output_type": "stream",
     "text": [
      "21\n"
     ]
    }
   ],
   "source": [
    "l = [1, 2, 3, 4, 5, -3, 6]\n",
    "total = 0\n",
    "for x in l:\n",
    "    if x > 0:\n",
    "        total += x\n",
    "print(total)"
   ]
  },
  {
   "cell_type": "code",
   "execution_count": 27,
   "id": "41c02f0b-9f5e-444b-8555-dd10b572306e",
   "metadata": {},
   "outputs": [
    {
     "name": "stdout",
     "output_type": "stream",
     "text": [
      "[11, 15, 10]\n",
      "[6, 4, 21, 26]\n",
      "['machine']\n"
     ]
    }
   ],
   "source": [
    "id = [11, 6, 4, 15, 21, 26, 'machine', 10]\n",
    "giadung = []\n",
    "khongGiaDung = []\n",
    "khongDonHang = []\n",
    "for i in id:\n",
    "    if str(i).startswith('1'):\n",
    "        giadung.append(i)\n",
    "    elif isinstance(i, int):\n",
    "        khongGiaDung.append(i)\n",
    "    else:\n",
    "        khongDonHang.append(i)\n",
    "        \n",
    "print(giadung)\n",
    "print(khongGiaDung)\n",
    "print(khongDonHang)\n"
   ]
  },
  {
   "cell_type": "code",
   "execution_count": 30,
   "id": "92102146-2ed3-42d7-a6df-026dace43a32",
   "metadata": {},
   "outputs": [
    {
     "name": "stdout",
     "output_type": "stream",
     "text": [
      "25.0\n",
      "{'Kien': 20, 'Chi': 22}\n",
      "{'Truong': 30, 'Manh': 28}\n"
     ]
    }
   ],
   "source": [
    "d = {\n",
    "    \"Kien\": 20,\n",
    "    \"Truong\": 30,\n",
    "    \"Manh\": 28,\n",
    "    \"Chi\": 22\n",
    "}\n",
    "duoiHaiLam = {}\n",
    "trenHaiLam = {}\n",
    "trungbinh = 0\n",
    "for x in d:\n",
    "    if d[x] >= 25:\n",
    "        trenHaiLam[x] = d[x]\n",
    "    else:\n",
    "        duoiHaiLam[x] = d[x]\n",
    "    trungbinh = trungbinh + d[x]\n",
    "trungbinh = trungbinh / len(d)\n",
    "print(trungbinh)\n",
    "print(duoiHaiLam)\n",
    "print(trenHaiLam)"
   ]
  },
  {
   "cell_type": "markdown",
   "id": "906fe7bd-e11b-4dac-8d61-1e1fa6b3691a",
   "metadata": {},
   "source": [
    "## Comprehensions"
   ]
  },
  {
   "cell_type": "code",
   "execution_count": 31,
   "id": "dddc515a-7a3c-4175-b677-17f393fb3deb",
   "metadata": {},
   "outputs": [
    {
     "name": "stdout",
     "output_type": "stream",
     "text": [
      "[0, 1, 4, 9, 16, 25, 36, 49, 64, 81, 100]\n"
     ]
    }
   ],
   "source": [
    "l = [x ** 2 for x in range(11)]\n",
    "print(l)"
   ]
  },
  {
   "cell_type": "code",
   "execution_count": 41,
   "id": "e03954f3-6f6a-462d-96d7-98c18ba9fd1d",
   "metadata": {},
   "outputs": [
    {
     "name": "stdout",
     "output_type": "stream",
     "text": [
      "[0, 4, 16, 36, 64, 100, 144, 196, 256, 324, 400, 484, 576, 676, 784, 900, 1024, 1156, 1296, 1444, 1600, 1764, 1936, 2116, 2304, 2500, 2704, 2916, 3136, 3364, 3600, 3844, 4096, 4356, 4624, 4900, 5184, 5476, 5776, 6084, 6400, 6724, 7056, 7396, 7744, 8100, 8464, 8836, 9216, 9604, 10000]\n"
     ]
    }
   ],
   "source": [
    "l = [x ** 2 for x in range(101) if x % 2 == 0]\n",
    "print(l)"
   ]
  },
  {
   "cell_type": "code",
   "execution_count": 43,
   "id": "67edda1f-d7bb-40d4-a09c-69a768644b32",
   "metadata": {},
   "outputs": [
    {
     "name": "stdout",
     "output_type": "stream",
     "text": [
      "[4, 2, 1, 4, 2, 5]\n"
     ]
    }
   ],
   "source": [
    "word = [\"this\", \"is\", \"a\", \"list\", \"of\", \"words\"]\n",
    "s = [len(i) for i in word]\n",
    "print(s)"
   ]
  },
  {
   "cell_type": "code",
   "execution_count": 44,
   "id": "d1c1c684-7dd4-4b74-ae34-be9649e7a5cb",
   "metadata": {},
   "outputs": [
    {
     "name": "stdout",
     "output_type": "stream",
     "text": [
      "['I', 'am', '20', 'years', 'old', 'and', 'earn', '100000', 'USD', 'annually']\n",
      "['20', '100000']\n"
     ]
    }
   ],
   "source": [
    "text = \"I am 20 years old and earn 100000 USD annually\"\n",
    "words = text.split(\" \")\n",
    "print(words)\n",
    "s = []\n",
    "for i in words:\n",
    "    if i.isnumeric():\n",
    "        s.append(i)\n",
    "print(s)"
   ]
  },
  {
   "cell_type": "code",
   "execution_count": 45,
   "id": "209aec2d-156e-442e-a6e6-42e114947e28",
   "metadata": {},
   "outputs": [
    {
     "name": "stdout",
     "output_type": "stream",
     "text": [
      "{0: 0, 1: 1, 2: 4, 3: 9, 4: 16, 5: 25, 6: 36, 7: 49, 8: 64, 9: 81, 10: 100}\n"
     ]
    }
   ],
   "source": [
    "d = {x: x ** 2 for x in range(11)}\n",
    "print(d)"
   ]
  },
  {
   "cell_type": "code",
   "execution_count": 46,
   "id": "db0214b7-20f7-48f6-aa75-95c2a6f1af07",
   "metadata": {},
   "outputs": [
    {
     "name": "stdout",
     "output_type": "stream",
     "text": [
      "{0: 0, 2: 4, 4: 16, 6: 36, 8: 64, 10: 100}\n"
     ]
    }
   ],
   "source": [
    "d = {x: x ** 2 for x in range(11) if x % 2 == 0}\n",
    "print(d)"
   ]
  },
  {
   "cell_type": "code",
   "execution_count": 49,
   "id": "e61358ad-5776-43b8-853e-432df11a3e45",
   "metadata": {},
   "outputs": [
    {
     "name": "stdout",
     "output_type": "stream",
     "text": [
      "[4, 2, 1, 4, 2, 5]\n"
     ]
    }
   ],
   "source": [
    "word = [\"this\", \"is\", \"a\", \"list\", \"of\", \"words\"]\n",
    "s = []\n",
    "for i in word:\n",
    "    s.append(len(i))\n",
    "print(s)"
   ]
  },
  {
   "cell_type": "markdown",
   "id": "8ad0b5de-d65f-42b3-855b-8b9da8f7c2c8",
   "metadata": {},
   "source": [
    "### Function"
   ]
  },
  {
   "cell_type": "code",
   "execution_count": 50,
   "id": "dbd70850-1519-4529-a8d4-474a98606d6f",
   "metadata": {},
   "outputs": [
    {
     "name": "stdout",
     "output_type": "stream",
     "text": [
      "Hello World\n"
     ]
    }
   ],
   "source": [
    "def say_hi():\n",
    "    print(\"Hello World\")\n",
    "say_hi()"
   ]
  },
  {
   "cell_type": "code",
   "execution_count": 52,
   "id": "e3b6b4b9-8a23-4d83-baa6-71da099610ad",
   "metadata": {},
   "outputs": [
    {
     "name": "stdout",
     "output_type": "stream",
     "text": [
      "Hello thinh! Have a good day.\n"
     ]
    }
   ],
   "source": [
    "def say_hi(name):\n",
    "    print(\"Hello {}! Have a good day.\".format(name))\n",
    "say_hi('thinh')"
   ]
  },
  {
   "cell_type": "code",
   "execution_count": 53,
   "id": "38872926-9ae2-48be-8d00-0fb82b67122a",
   "metadata": {},
   "outputs": [
    {
     "name": "stdout",
     "output_type": "stream",
     "text": [
      "5\n"
     ]
    }
   ],
   "source": [
    "def summ(a, b):\n",
    "    return a + b\n",
    "print(summ(2, 3))"
   ]
  },
  {
   "cell_type": "code",
   "execution_count": 58,
   "id": "a6d307f0-87bb-4a71-b5f9-85069fec5762",
   "metadata": {},
   "outputs": [
    {
     "name": "stdout",
     "output_type": "stream",
     "text": [
      "Hello world 123 !@#$%\n",
      "Helloworld123\n"
     ]
    }
   ],
   "source": [
    "def remove_special_chars(s):\n",
    "    l = []\n",
    "    for i in s:\n",
    "        if (i.lower() >= '0' and i.lower() <= '9') or (i.lower() >= 'a' and i.lower() <= 'z'):\n",
    "            l.append(i)\n",
    "    return ''.join(l)\n",
    "s = \"Hello world 123 !@#$%\"\n",
    "sk = remove_special_chars(s)\n",
    "print(s)\n",
    "print(sk)"
   ]
  },
  {
   "cell_type": "code",
   "execution_count": 60,
   "id": "30b8c9cc-b4af-4f47-b2bc-c8079e832a4a",
   "metadata": {},
   "outputs": [
    {
     "data": {
      "text/plain": [
       "'Hello world123'"
      ]
     },
     "execution_count": 60,
     "metadata": {},
     "output_type": "execute_result"
    }
   ],
   "source": [
    "sk.replace('w', ' w')"
   ]
  },
  {
   "cell_type": "code",
   "execution_count": 61,
   "id": "95dc764a-2018-4dab-a3fa-815959615de1",
   "metadata": {},
   "outputs": [
    {
     "data": {
      "text/plain": [
       "'Helloworld 123'"
      ]
     },
     "execution_count": 61,
     "metadata": {},
     "output_type": "execute_result"
    }
   ],
   "source": [
    "sk.replace('1', ' 1')"
   ]
  },
  {
   "cell_type": "markdown",
   "id": "b37774e5-914f-42c3-b126-e9f12282eb3d",
   "metadata": {},
   "source": [
    "## Lambda Function"
   ]
  },
  {
   "cell_type": "code",
   "execution_count": 64,
   "id": "72ca5607-b2fa-44af-8f15-3c7d755fec4e",
   "metadata": {},
   "outputs": [
    {
     "name": "stdout",
     "output_type": "stream",
     "text": [
      "15\n"
     ]
    }
   ],
   "source": [
    "x = lambda a : a + 10\n",
    "print(x(5))"
   ]
  },
  {
   "cell_type": "code",
   "execution_count": null,
   "id": "dd4ac638-0c35-41bc-bba6-e70f632dc725",
   "metadata": {},
   "outputs": [],
   "source": []
  }
 ],
 "metadata": {
  "kernelspec": {
   "display_name": "Python 3 (ipykernel)",
   "language": "python",
   "name": "python3"
  },
  "language_info": {
   "codemirror_mode": {
    "name": "ipython",
    "version": 3
   },
   "file_extension": ".py",
   "mimetype": "text/x-python",
   "name": "python",
   "nbconvert_exporter": "python",
   "pygments_lexer": "ipython3",
   "version": "3.12.2"
  }
 },
 "nbformat": 4,
 "nbformat_minor": 5
}
