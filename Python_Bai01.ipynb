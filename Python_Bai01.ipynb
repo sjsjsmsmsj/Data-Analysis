{
 "cells": [
  {
   "cell_type": "markdown",
   "id": "cf22093b-a781-4b65-b1a4-a47bcfb67ca5",
   "metadata": {},
   "source": [
    "# 1.What is a computer program"
   ]
  },
  {
   "cell_type": "markdown",
   "id": "62771008-5dfb-48eb-b5d2-7f4cf3951665",
   "metadata": {},
   "source": [
    "## Program is a series of actions that computer executes in sequence."
   ]
  },
  {
   "cell_type": "code",
   "execution_count": 1,
   "id": "46b2f0da-5a74-4b59-95a0-b4055c58d13a",
   "metadata": {},
   "outputs": [
    {
     "data": {
      "text/plain": [
       "2"
      ]
     },
     "execution_count": 1,
     "metadata": {},
     "output_type": "execute_result"
    }
   ],
   "source": [
    "1 + 1"
   ]
  },
  {
   "cell_type": "code",
   "execution_count": null,
   "id": "ae78073d-acfa-4f51-a9a9-0ac70327c323",
   "metadata": {},
   "outputs": [],
   "source": [
    "esc + a -> insert above\n",
    "esc + b -> insert below \n",
    "esc + dd -> delete"
   ]
  },
  {
   "cell_type": "code",
   "execution_count": 3,
   "id": "93f3ade9-9e23-469b-86b3-f4fd1452ad48",
   "metadata": {},
   "outputs": [
    {
     "name": "stdout",
     "output_type": "stream",
     "text": [
      "Hello World\n"
     ]
    }
   ],
   "source": [
    "print(\"Hello World\")"
   ]
  },
  {
   "cell_type": "code",
   "execution_count": 4,
   "id": "143805ef-cc24-4492-b026-2e8d691eacbc",
   "metadata": {},
   "outputs": [
    {
     "name": "stdout",
     "output_type": "stream",
     "text": [
      "Positive Number\n"
     ]
    }
   ],
   "source": [
    "num = 8\n",
    "if num > 0:\n",
    "    print(\"Positive Number\")\n",
    "elif num == 0:\n",
    "    print(\"Zero\")\n",
    "else:\n",
    "    print(\"Negative Number\")"
   ]
  },
  {
   "cell_type": "code",
   "execution_count": 5,
   "id": "a7ce2097-fd6b-4f05-b50e-78df10ba810d",
   "metadata": {},
   "outputs": [
    {
     "name": "stdout",
     "output_type": "stream",
     "text": [
      "Positive\n"
     ]
    }
   ],
   "source": [
    "a= 10\n",
    "if a > 0:\n",
    "    print(\"Positive\")\n",
    "else:\n",
    "    print(\"Not positive\")"
   ]
  },
  {
   "cell_type": "markdown",
   "id": "e4911fff-f6ff-4eac-9101-33bcb704b942",
   "metadata": {},
   "source": [
    "# 2. Basic structure of a Python program"
   ]
  },
  {
   "cell_type": "markdown",
   "id": "a2443c54-2dd4-4dff-9dd1-3ca537140375",
   "metadata": {},
   "source": [
    "2.1 1. Operation"
   ]
  },
  {
   "cell_type": "code",
   "execution_count": 6,
   "id": "91fa40a5-d374-4d5f-991c-0f827c52a0e2",
   "metadata": {},
   "outputs": [
    {
     "data": {
      "text/plain": [
       "7"
      ]
     },
     "execution_count": 6,
     "metadata": {},
     "output_type": "execute_result"
    }
   ],
   "source": [
    "3 + 4"
   ]
  },
  {
   "cell_type": "code",
   "execution_count": 7,
   "id": "73ef5782-21e4-4bf2-b45b-05a87fa9fe04",
   "metadata": {},
   "outputs": [
    {
     "data": {
      "text/plain": [
       "6"
      ]
     },
     "execution_count": 7,
     "metadata": {},
     "output_type": "execute_result"
    }
   ],
   "source": [
    "2 * 3"
   ]
  },
  {
   "cell_type": "code",
   "execution_count": 8,
   "id": "9f82af3c-278a-4bc8-90e7-8076527500c5",
   "metadata": {},
   "outputs": [
    {
     "data": {
      "text/plain": [
       "5.0"
      ]
     },
     "execution_count": 8,
     "metadata": {},
     "output_type": "execute_result"
    }
   ],
   "source": [
    "10 / 2"
   ]
  },
  {
   "cell_type": "code",
   "execution_count": 9,
   "id": "752a190c-12c4-499c-8655-97ad0e998030",
   "metadata": {},
   "outputs": [
    {
     "data": {
      "text/plain": [
       "4"
      ]
     },
     "execution_count": 9,
     "metadata": {},
     "output_type": "execute_result"
    }
   ],
   "source": [
    "9 // 2"
   ]
  },
  {
   "cell_type": "code",
   "execution_count": 10,
   "id": "aabf6029-bbf3-455f-9604-397e1f9114e9",
   "metadata": {},
   "outputs": [
    {
     "data": {
      "text/plain": [
       "4"
      ]
     },
     "execution_count": 10,
     "metadata": {},
     "output_type": "execute_result"
    }
   ],
   "source": [
    "2 ** 2"
   ]
  },
  {
   "cell_type": "code",
   "execution_count": 11,
   "id": "a65038c0-b114-4fcd-9778-c30d08c787cb",
   "metadata": {},
   "outputs": [
    {
     "data": {
      "text/plain": [
       "False"
      ]
     },
     "execution_count": 11,
     "metadata": {},
     "output_type": "execute_result"
    }
   ],
   "source": [
    "(1 == 1) & ( 2 == 3)"
   ]
  },
  {
   "cell_type": "code",
   "execution_count": 12,
   "id": "65ad0605-dcab-48f5-a8d7-91b703557e6e",
   "metadata": {},
   "outputs": [
    {
     "data": {
      "text/plain": [
       "True"
      ]
     },
     "execution_count": 12,
     "metadata": {},
     "output_type": "execute_result"
    }
   ],
   "source": [
    "(1 == 1)|(2 == 3)"
   ]
  },
  {
   "cell_type": "code",
   "execution_count": 13,
   "id": "b522e7f9-e00d-450b-a264-05d5e2408809",
   "metadata": {},
   "outputs": [
    {
     "data": {
      "text/plain": [
       "True"
      ]
     },
     "execution_count": 13,
     "metadata": {},
     "output_type": "execute_result"
    }
   ],
   "source": [
    "1 != 2"
   ]
  },
  {
   "cell_type": "code",
   "execution_count": 14,
   "id": "5c5fbf06-cc3d-46ef-b68c-3d292756c656",
   "metadata": {},
   "outputs": [
    {
     "data": {
      "text/plain": [
       "True"
      ]
     },
     "execution_count": 14,
     "metadata": {},
     "output_type": "execute_result"
    }
   ],
   "source": [
    "a = 1\n",
    "b = 1\n",
    "a is b"
   ]
  },
  {
   "cell_type": "code",
   "execution_count": null,
   "id": "7372487f-c71a-4ad2-92b1-8a72d7001a11",
   "metadata": {},
   "outputs": [],
   "source": [
    "2.2.2 Commands in Python"
   ]
  },
  {
   "cell_type": "code",
   "execution_count": null,
   "id": "c61cd5fe-808a-4af7-a799-084ad541a5ed",
   "metadata": {},
   "outputs": [],
   "source": [
    "2.2.1 2.1 Output use print()"
   ]
  },
  {
   "cell_type": "code",
   "execution_count": 15,
   "id": "63a647c9-960c-4a38-89dc-ff29d1077ad2",
   "metadata": {},
   "outputs": [
    {
     "name": "stdout",
     "output_type": "stream",
     "text": [
      "Welcome to MIC\n"
     ]
    }
   ],
   "source": [
    "print(\"Welcome to MIC\")"
   ]
  },
  {
   "cell_type": "code",
   "execution_count": 16,
   "id": "9c754203-ef9f-4f61-93be-345f310b84db",
   "metadata": {},
   "outputs": [
    {
     "name": "stdout",
     "output_type": "stream",
     "text": [
      "5 7 9\n"
     ]
    }
   ],
   "source": [
    "x = 5\n",
    "y = 7\n",
    "z = 9\n",
    "print(x, y, z)"
   ]
  },
  {
   "cell_type": "code",
   "execution_count": 17,
   "id": "ba463751-cb5c-434f-bc7c-63098bdd4dc2",
   "metadata": {},
   "outputs": [
    {
     "name": "stdout",
     "output_type": "stream",
     "text": [
      "This is King Jong Un. He is years old\n"
     ]
    }
   ],
   "source": [
    "age = 50\n",
    "name = \"King Jong Un\"\n",
    "print(\"This is {}. He is {} years old\".format(name, age))"
   ]
  },
  {
   "cell_type": "code",
   "execution_count": 18,
   "id": "5069f30d-29c8-4ce2-8a31-d7c078233dbe",
   "metadata": {},
   "outputs": [
    {
     "name": "stdout",
     "output_type": "stream",
     "text": [
      "This is Lam gia thinh. He is 19 years old\n"
     ]
    }
   ],
   "source": [
    "age = 19\n",
    "name = \"Lam gia thinh\"\n",
    "print(\"This is {}. He is {} years old\".format(name, age))"
   ]
  },
  {
   "cell_type": "code",
   "execution_count": null,
   "id": "b8693b98-37bd-45ad-96da-acc6229601e0",
   "metadata": {},
   "outputs": [],
   "source": [
    "2.2.2 2.2 Variables`"
   ]
  },
  {
   "cell_type": "code",
   "execution_count": 19,
   "id": "3d28163b-4942-4d8d-a4c8-6a44bed99620",
   "metadata": {},
   "outputs": [
    {
     "name": "stdout",
     "output_type": "stream",
     "text": [
      "1 + 1 =  2\n"
     ]
    }
   ],
   "source": [
    "print('1 + 1 = ', 1 + 1)"
   ]
  },
  {
   "cell_type": "code",
   "execution_count": 20,
   "id": "65d371dd-bed8-4283-88d7-fe9c91e40a1f",
   "metadata": {},
   "outputs": [],
   "source": [
    "first_result = 1 + 1\n",
    "final_result = first_result * 3.5"
   ]
  },
  {
   "cell_type": "code",
   "execution_count": 21,
   "id": "390926a6-8ea9-40bc-86c0-ed82d36bbe4e",
   "metadata": {},
   "outputs": [
    {
     "data": {
      "text/plain": [
       "7.0"
      ]
     },
     "execution_count": 21,
     "metadata": {},
     "output_type": "execute_result"
    }
   ],
   "source": [
    "final_result"
   ]
  },
  {
   "cell_type": "code",
   "execution_count": 22,
   "id": "f888aa58-af98-4f68-9a9e-74553edf2047",
   "metadata": {},
   "outputs": [
    {
     "ename": "SyntaxError",
     "evalue": "invalid syntax (2103174499.py, line 1)",
     "output_type": "error",
     "traceback": [
      "\u001b[0;36m  Cell \u001b[0;32mIn[22], line 1\u001b[0;36m\u001b[0m\n\u001b[0;31m    2.2.2 2.3 Give user input\u001b[0m\n\u001b[0m       ^\u001b[0m\n\u001b[0;31mSyntaxError\u001b[0m\u001b[0;31m:\u001b[0m invalid syntax\n"
     ]
    }
   ],
   "source": [
    "2.2.2 2.3 Give user input"
   ]
  },
  {
   "cell_type": "code",
   "execution_count": 23,
   "id": "3e5db503-a4f2-4051-acab-37c003f7f4ef",
   "metadata": {},
   "outputs": [
    {
     "name": "stdin",
     "output_type": "stream",
     "text": [
      "Hay nhap vao ten cua ban:  Thinh\n"
     ]
    },
    {
     "name": "stdout",
     "output_type": "stream",
     "text": [
      "Hello Thinh.\n"
     ]
    }
   ],
   "source": [
    "name = input(\"Hay nhap vao ten cua ban: \")\n",
    "print(\"Hello {}.\".format(name))"
   ]
  },
  {
   "cell_type": "code",
   "execution_count": 25,
   "id": "0365e063-be78-48f8-879a-7601f9525b7a",
   "metadata": {},
   "outputs": [
    {
     "name": "stdin",
     "output_type": "stream",
     "text": [
      "hay nhap vao tuoi cua ban:  19\n"
     ]
    },
    {
     "name": "stdout",
     "output_type": "stream",
     "text": [
      "19\n",
      "<class 'int'>\n"
     ]
    }
   ],
   "source": [
    "age = input(\"hay nhap vao tuoi cua ban: \")\n",
    "age = int(age)\n",
    "\n",
    "print(age)\n",
    "print(type(age))"
   ]
  },
  {
   "cell_type": "markdown",
   "id": "04c5c20d-9024-4ebf-91b0-6aa5fb74c4b2",
   "metadata": {},
   "source": [
    "### 2.4.4 Write a statement in mutiple lines"
   ]
  },
  {
   "cell_type": "code",
   "execution_count": 26,
   "id": "4139f9fc-598a-40b1-99df-bd278f6f0e59",
   "metadata": {},
   "outputs": [
    {
     "name": "stdout",
     "output_type": "stream",
     "text": [
      "this course is valid\n"
     ]
    }
   ],
   "source": [
    "x = 10\n",
    "y = 20\n",
    "z = 30\n",
    "if x + y == 30 and y + z == 50:\n",
    "    print(\"this course is valid\")"
   ]
  },
  {
   "cell_type": "code",
   "execution_count": 27,
   "id": "0e7f3c88-ba4a-46f8-be52-9e842b0aebd8",
   "metadata": {},
   "outputs": [
    {
     "name": "stdout",
     "output_type": "stream",
     "text": [
      "[[1, 2, 3], [4, 5, 6], [7, 8, 9]]\n"
     ]
    }
   ],
   "source": [
    "a = [\n",
    "    [1, 2, 3],\n",
    "    [4, 5, 6],\n",
    "    [7, 8, 9]\n",
    "]\n",
    "print(a)"
   ]
  },
  {
   "cell_type": "code",
   "execution_count": 28,
   "id": "aa68812b-8811-406e-874c-df0699986536",
   "metadata": {},
   "outputs": [
    {
     "name": "stdout",
     "output_type": "stream",
     "text": [
      "Hello world\n"
     ]
    }
   ],
   "source": [
    "p1 = 18\n",
    "p2 = 20\n",
    "p3 = 12\n",
    "if (p1 >= 18 and p2 >= 18 and p3 < 18):\n",
    "    print(\"Hello world\")"
   ]
  },
  {
   "cell_type": "code",
   "execution_count": 29,
   "id": "3ad57472-8242-4951-8a06-617a46641a64",
   "metadata": {},
   "outputs": [
    {
     "name": "stdout",
     "output_type": "stream",
     "text": [
      "24\n"
     ]
    }
   ],
   "source": [
    "x = 1 + 2 \\\n",
    "    + 5 + 6 \\\n",
    "    + 10\n",
    "print(x)"
   ]
  },
  {
   "cell_type": "markdown",
   "id": "42f7442f-90b3-41c4-9622-5e11107371d3",
   "metadata": {},
   "source": [
    "### Comment in Python"
   ]
  },
  {
   "cell_type": "code",
   "execution_count": 30,
   "id": "38507873-2b83-460e-9c01-4e2836b2a3cc",
   "metadata": {},
   "outputs": [
    {
     "data": {
      "text/plain": [
       "' This example will demonstrate multiple comments '"
      ]
     },
     "execution_count": 30,
     "metadata": {},
     "output_type": "execute_result"
    }
   ],
   "source": [
    "\"\"\" This example will demonstrate multiple comments \"\"\""
   ]
  },
  {
   "cell_type": "markdown",
   "id": "fcab5f48-0a0c-426e-b9d3-7ee7eafe5e20",
   "metadata": {},
   "source": [
    "###  White space"
   ]
  },
  {
   "cell_type": "code",
   "execution_count": 33,
   "id": "c1968aa4-821f-400e-9da7-0ea6fc1610a9",
   "metadata": {},
   "outputs": [
    {
     "name": "stdout",
     "output_type": "stream",
     "text": [
      "x > 5\n",
      "x > 5\n",
      "x > 5\n",
      "x <= 5\n",
      "x <= 5\n"
     ]
    }
   ],
   "source": [
    "x = 10\n",
    "while (x != 0):\n",
    "    if x > 5:\n",
    "        print('x > 5')\n",
    "    else:\n",
    "        print('x <= 5')\n",
    "    x -= 2"
   ]
  },
  {
   "cell_type": "markdown",
   "id": "87e9128f-51a3-45fe-a868-40386d4c7612",
   "metadata": {},
   "source": [
    "### Type bool"
   ]
  },
  {
   "cell_type": "code",
   "execution_count": 34,
   "id": "84f03720-2882-46af-b1fd-4ce06b56e8ec",
   "metadata": {},
   "outputs": [
    {
     "name": "stdout",
     "output_type": "stream",
     "text": [
      "True\n"
     ]
    },
    {
     "data": {
      "text/plain": [
       "bool"
      ]
     },
     "execution_count": 34,
     "metadata": {},
     "output_type": "execute_result"
    }
   ],
   "source": [
    "x = True\n",
    "print(x)\n",
    "type(x)"
   ]
  },
  {
   "cell_type": "markdown",
   "id": "9a57a1cb-c4f7-4549-b3fb-d294374261c4",
   "metadata": {},
   "source": [
    "### Type int"
   ]
  },
  {
   "cell_type": "code",
   "execution_count": 35,
   "id": "a7a0bcf5-4bab-479b-930f-3c90c8af1cfb",
   "metadata": {},
   "outputs": [
    {
     "name": "stdout",
     "output_type": "stream",
     "text": [
      "<class 'int'>\n"
     ]
    }
   ],
   "source": [
    "x = 100\n",
    "print(type(x))"
   ]
  },
  {
   "cell_type": "code",
   "execution_count": 36,
   "id": "001b57ed-f226-44aa-894b-ebe25074b2a8",
   "metadata": {},
   "outputs": [
    {
     "name": "stdout",
     "output_type": "stream",
     "text": [
      "10\n"
     ]
    }
   ],
   "source": [
    "print(int(10.99))"
   ]
  },
  {
   "cell_type": "markdown",
   "id": "f7c726ff-879a-4d05-81f3-8c99718a1130",
   "metadata": {},
   "source": [
    "### Type float "
   ]
  },
  {
   "cell_type": "code",
   "execution_count": 38,
   "id": "a21aaac2-7092-4b94-bae0-297ef8c962b3",
   "metadata": {},
   "outputs": [
    {
     "data": {
      "text/plain": [
       "float"
      ]
     },
     "execution_count": 38,
     "metadata": {},
     "output_type": "execute_result"
    }
   ],
   "source": [
    "x = 100.0\n",
    "type(x)"
   ]
  },
  {
   "cell_type": "code",
   "execution_count": 39,
   "id": "f69a2329-08e9-4daf-9d38-fff773eadc4d",
   "metadata": {},
   "outputs": [
    {
     "name": "stdout",
     "output_type": "stream",
     "text": [
      "-1243434.0\n"
     ]
    },
    {
     "data": {
      "text/plain": [
       "float"
      ]
     },
     "execution_count": 39,
     "metadata": {},
     "output_type": "execute_result"
    }
   ],
   "source": [
    "x = -1243434.\n",
    "print(x)\n",
    "type(x)"
   ]
  },
  {
   "cell_type": "markdown",
   "id": "6ad9ffc1-8597-4ed6-ab56-9d7c089453e6",
   "metadata": {},
   "source": [
    "# HomeWork"
   ]
  },
  {
   "cell_type": "code",
   "execution_count": 43,
   "id": "9a06f6a1-ad47-4be7-b851-315d0dbfcf5d",
   "metadata": {},
   "outputs": [
    {
     "name": "stdin",
     "output_type": "stream",
     "text": [
      "input dgrees celcious 30\n"
     ]
    },
    {
     "name": "stdout",
     "output_type": "stream",
     "text": [
      "86.0\n"
     ]
    }
   ],
   "source": [
    "c = float(input(\"input dgrees celcious\"))\n",
    "f = (c * 9/5) + 32\n",
    "print(f)"
   ]
  },
  {
   "cell_type": "code",
   "execution_count": 44,
   "id": "8c03c572-3553-4961-a48b-43fda59d98dd",
   "metadata": {},
   "outputs": [],
   "source": [
    "import math "
   ]
  },
  {
   "cell_type": "code",
   "execution_count": 46,
   "id": "8538f619-0b84-4ee2-8481-dce0524dffbc",
   "metadata": {},
   "outputs": [
    {
     "name": "stdin",
     "output_type": "stream",
     "text": [
      " 3.5\n",
      " 4.5\n",
      " 5.5\n"
     ]
    },
    {
     "name": "stdout",
     "output_type": "stream",
     "text": [
      "7.854885024620029\n"
     ]
    }
   ],
   "source": [
    "a = float(input())\n",
    "b = float(input())\n",
    "c = float(input())\n",
    "\n",
    "p = (a + b + c) / 2\n",
    "s = math.sqrt(p * (p - a) * (p - b) * (p - c))\n",
    "print(s)"
   ]
  },
  {
   "cell_type": "code",
   "execution_count": 47,
   "id": "df764756-f525-4cb2-b1cd-c48cd62d04d0",
   "metadata": {},
   "outputs": [
    {
     "name": "stdin",
     "output_type": "stream",
     "text": [
      " 25\n"
     ]
    },
    {
     "name": "stdout",
     "output_type": "stream",
     "text": [
      "25 là bội số của 5\n"
     ]
    }
   ],
   "source": [
    "a = int(input())\n",
    "if a % 5 == 0:\n",
    "    print(\"{} là bội số của {}\".format(a, 5))"
   ]
  },
  {
   "cell_type": "code",
   "execution_count": null,
   "id": "8a4800d3-8bb8-434d-a49c-d4e9b57412d6",
   "metadata": {},
   "outputs": [],
   "source": []
  }
 ],
 "metadata": {
  "kernelspec": {
   "display_name": "Python 3 (ipykernel)",
   "language": "python",
   "name": "python3"
  },
  "language_info": {
   "codemirror_mode": {
    "name": "ipython",
    "version": 3
   },
   "file_extension": ".py",
   "mimetype": "text/x-python",
   "name": "python",
   "nbconvert_exporter": "python",
   "pygments_lexer": "ipython3",
   "version": "3.12.2"
  }
 },
 "nbformat": 4,
 "nbformat_minor": 5
}
