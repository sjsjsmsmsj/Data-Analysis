{
 "cells": [
  {
   "cell_type": "code",
   "execution_count": 3,
   "id": "09e8ad99-0399-4646-9a2c-a2fdf1ffb49c",
   "metadata": {},
   "outputs": [],
   "source": [
    "def filter_numbers(x):\n",
    "    if (type(x) != list):\n",
    "        raise Exception(\"Please input a list\")\n",
    "    k = []\n",
    "    for i in x:\n",
    "        if isinstance(i, int) or isinstance(i, float):\n",
    "            k.append(i)\n",
    "    return k"
   ]
  },
  {
   "cell_type": "code",
   "execution_count": 4,
   "id": "448cf987-0019-4089-bf1f-71578f9bf67a",
   "metadata": {},
   "outputs": [
    {
     "name": "stdout",
     "output_type": "stream",
     "text": [
      "[2, 3.4, 8, 0]\n"
     ]
    }
   ],
   "source": [
    "print(filter_numbers(['hello', 'world', 2, 3.4, 8, 0, 'h']))"
   ]
  },
  {
   "cell_type": "code",
   "execution_count": 20,
   "id": "b4fd2209-baeb-4435-b97f-4a07ef8a97a3",
   "metadata": {},
   "outputs": [],
   "source": [
    "def count_element_types(x):\n",
    "    c1 = 0\n",
    "    c2 = 0\n",
    "    c3 = 0\n",
    "    c4 = 0\n",
    "    for i in x:\n",
    "        if type(i) in [int, float]:\n",
    "            if i > 0:\n",
    "                c1 += 1\n",
    "            elif i == 0:\n",
    "                c2 += 1\n",
    "            elif i < 0:\n",
    "                c3 += 1\n",
    "        else:\n",
    "            c4 += 1\n",
    "\n",
    "    return (c1, c3, c2, c4)"
   ]
  },
  {
   "cell_type": "code",
   "execution_count": 21,
   "id": "0dbb7630-4fc3-4d2a-8448-2b51024551b7",
   "metadata": {},
   "outputs": [
    {
     "name": "stdout",
     "output_type": "stream",
     "text": [
      "(3, 2, 2, 4)\n"
     ]
    }
   ],
   "source": [
    "print(count_element_types([1, 2, 'A', True, -1, -2.5, 7, [1, 2], False, 0, 0]))"
   ]
  },
  {
   "cell_type": "code",
   "execution_count": 22,
   "id": "e91feea4-8b43-49b2-bdb0-353bc4c00074",
   "metadata": {},
   "outputs": [],
   "source": [
    "def count_even_numbers_div_by_9(n):\n",
    "    count = 0\n",
    "    for i in range(1, n + 1):\n",
    "        if i % 9 == 0 and i % 2 == 0:\n",
    "            count += 1\n",
    "    return count"
   ]
  },
  {
   "cell_type": "code",
   "execution_count": 23,
   "id": "b828bfb8-f612-41f5-a055-4e51322c57cb",
   "metadata": {},
   "outputs": [
    {
     "name": "stdout",
     "output_type": "stream",
     "text": [
      "5\n"
     ]
    }
   ],
   "source": [
    "print(count_even_numbers_div_by_9(100))"
   ]
  },
  {
   "cell_type": "code",
   "execution_count": 24,
   "id": "72ab3466-b46f-47c4-96bf-1001cf63789b",
   "metadata": {},
   "outputs": [],
   "source": [
    "import numpy as np\n",
    "def summarize_data(x):\n",
    "    return {\"min\":min(x),\"max\": max(x), \"avg\": np.mean(x)}"
   ]
  },
  {
   "cell_type": "code",
   "execution_count": 26,
   "id": "366e30bc-a475-4702-9e38-7b86dfdaae6b",
   "metadata": {},
   "outputs": [
    {
     "data": {
      "text/plain": [
       "{'min': -10, 'max': 15, 'avg': np.float64(4.571428571428571)}"
      ]
     },
     "execution_count": 26,
     "metadata": {},
     "output_type": "execute_result"
    }
   ],
   "source": [
    "summarize_data([1, -10, 2 ,7, 8, 9, 15])"
   ]
  },
  {
   "cell_type": "code",
   "execution_count": 1,
   "id": "bbb5d8f4-ab4a-449c-bb52-d613df173635",
   "metadata": {},
   "outputs": [],
   "source": [
    "def count_vowels_consonants(s):\n",
    "    s2 = [i for i in s if i.isalpha()]\n",
    "    n = p = 0\n",
    "    for i in s2:\n",
    "        if i.lower() in ['u', 'e', 'o', 'a', 'i']:\n",
    "            n += 1\n",
    "        else:\n",
    "            p += 1\n",
    "    return (n, p)"
   ]
  },
  {
   "cell_type": "code",
   "execution_count": 4,
   "id": "b4eaa8e7-e32e-43fd-bcc6-1392d15b30a0",
   "metadata": {},
   "outputs": [
    {
     "data": {
      "text/plain": [
       "(5, 5)"
      ]
     },
     "execution_count": 4,
     "metadata": {},
     "output_type": "execute_result"
    }
   ],
   "source": [
    "count_vowels_consonants(\"Hello Annie\")"
   ]
  },
  {
   "cell_type": "code",
   "execution_count": 6,
   "id": "021ad047-904a-44ff-80f8-8014403e82f8",
   "metadata": {},
   "outputs": [
    {
     "data": {
      "text/plain": [
       "25"
      ]
     },
     "execution_count": 6,
     "metadata": {},
     "output_type": "execute_result"
    }
   ],
   "source": [
    "def compute_hypotenuse(a, b):\n",
    "    return a ** 2 + b ** 2\n",
    "compute_hypotenuse(3, 4)"
   ]
  },
  {
   "cell_type": "code",
   "execution_count": 18,
   "id": "f21fbcaa-1686-4bfc-b700-c856e323144a",
   "metadata": {},
   "outputs": [
    {
     "data": {
      "text/plain": [
       "' alien, cat, dog, loki, zoombie,horse'"
      ]
     },
     "execution_count": 18,
     "metadata": {},
     "output_type": "execute_result"
    }
   ],
   "source": [
    "def sort_words(s):\n",
    "    s2 = [i.lower() for i in s.split(',')]\n",
    "    return ','.join(sorted(s2))\n",
    "    \n",
    "sort_words('horse, dog, cat, Zoombie, alien, LOKI')"
   ]
  },
  {
   "cell_type": "code",
   "execution_count": 24,
   "id": "2111d46c-d8bc-4d7a-bc9a-0776257615f8",
   "metadata": {},
   "outputs": [
    {
     "name": "stdout",
     "output_type": "stream",
     "text": [
      "Element: 1, Occurences: 4\n",
      "Element: 2, Occurences: 4\n",
      "Element: 3, Occurences: 2\n",
      "Element: 4, Occurences: 1\n",
      "Element: 5, Occurences: 3\n"
     ]
    }
   ],
   "source": [
    "def get_most_frequent_elements(x):\n",
    "    for i in set(x):\n",
    "        n = 0\n",
    "        for j in x:\n",
    "            if i == j:\n",
    "                n += 1\n",
    "        print('Element: {}, Occurences: {}'.format(i, n))\n",
    "x = [1, 1, 1, 1, 2, 2, 5, 2, 2, 4, 5, 5, 3, 3]\n",
    "get_most_frequent_elements(x)"
   ]
  },
  {
   "cell_type": "code",
   "execution_count": 25,
   "id": "9e97d97a-1bf9-47f9-90d0-0d5bc17b9399",
   "metadata": {},
   "outputs": [
    {
     "name": "stdout",
     "output_type": "stream",
     "text": [
      "quarter: 1\n"
     ]
    }
   ],
   "source": [
    "def get_quarter(x):\n",
    "    if x == 1 or x == 2 or x == 3:\n",
    "        print('quarter: 1')\n",
    "    elif x == 4 or x == 5 or x == 6:\n",
    "        print('quarter: 2')\n",
    "    elif x == 7 or x == 8 or x == 9:\n",
    "        print('quarter: 3')\n",
    "    elif x == 10 or x == 11 or x == 12:\n",
    "        print('quarter: 4')\n",
    "get_quarter(3)"
   ]
  },
  {
   "cell_type": "code",
   "execution_count": 26,
   "id": "38c33dba-949b-4123-8168-cc80c0b3df65",
   "metadata": {},
   "outputs": [
    {
     "name": "stdout",
     "output_type": "stream",
     "text": [
      "quarter: 1\n",
      "Nonequarter: 1\n",
      "Nonequarter: 1\n",
      "Nonequarter: 2\n",
      "Nonequarter: 2\n",
      "Nonequarter: 2\n",
      "Nonequarter: 3\n",
      "Nonequarter: 3\n",
      "Nonequarter: 3\n",
      "Nonequarter: 4\n",
      "Nonequarter: 4\n",
      "Nonequarter: 4\n",
      "None"
     ]
    }
   ],
   "source": [
    "for x in range(1, 13):\n",
    "    print(get_quarter(x), end='')"
   ]
  },
  {
   "cell_type": "code",
   "execution_count": null,
   "id": "3f06cc87-3b03-47d0-a51f-6ba63460a15f",
   "metadata": {},
   "outputs": [],
   "source": []
  }
 ],
 "metadata": {
  "kernelspec": {
   "display_name": "Python 3 (ipykernel)",
   "language": "python",
   "name": "python3"
  },
  "language_info": {
   "codemirror_mode": {
    "name": "ipython",
    "version": 3
   },
   "file_extension": ".py",
   "mimetype": "text/x-python",
   "name": "python",
   "nbconvert_exporter": "python",
   "pygments_lexer": "ipython3",
   "version": "3.12.2"
  }
 },
 "nbformat": 4,
 "nbformat_minor": 5
}
