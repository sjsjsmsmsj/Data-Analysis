{
 "cells": [
  {
   "cell_type": "code",
   "execution_count": 1,
   "id": "2329e257-2326-4a4d-8325-b7887b503b90",
   "metadata": {},
   "outputs": [],
   "source": [
    "#Home work"
   ]
  },
  {
   "cell_type": "code",
   "execution_count": 2,
   "id": "3850a8c6-f0f6-4a8c-a772-691b17c674af",
   "metadata": {},
   "outputs": [
    {
     "name": "stdout",
     "output_type": "stream",
     "text": [
      "[80]\n",
      "[100, 150, 160]\n",
      "[250]\n"
     ]
    }
   ],
   "source": [
    "l = [100, 150, 80, 160, 250]\n",
    "l1 = []\n",
    "l2 = []\n",
    "l3 = []\n",
    "for i in l:\n",
    "    if i < 100:\n",
    "        l1.append(i)\n",
    "    elif i < 200:\n",
    "        l2.append(i)\n",
    "    else:\n",
    "        l3.append(i)\n",
    "print(l1)\n",
    "print(l2)\n",
    "print(l3)"
   ]
  },
  {
   "cell_type": "code",
   "execution_count": 4,
   "id": "61c9adb0-bfc8-4677-9ea6-47527c488264",
   "metadata": {},
   "outputs": [
    {
     "name": "stdout",
     "output_type": "stream",
     "text": [
      "['489688', '689980', '080909']\n"
     ]
    }
   ],
   "source": [
    "d = {\n",
    "    \"Ngoc\": 1233489688,\n",
    "    \"Chuong\": 365689980,\n",
    "    \"Tuan\": 3799080909\n",
    "}\n",
    "h = [str(k)[-6:] for k in d.values()]\n",
    "print(h)"
   ]
  },
  {
   "cell_type": "code",
   "execution_count": 9,
   "id": "526b05ef-5b6f-4c46-9d64-703692229334",
   "metadata": {},
   "outputs": [
    {
     "name": "stdout",
     "output_type": "stream",
     "text": [
      "{'G12': 400, 'M15': 140, 'C20': 350000}\n"
     ]
    }
   ],
   "source": [
    "d = {\n",
    "    'G12': 500,\n",
    "    'M15': 200,\n",
    "    'C20': 1000000\n",
    "}\n",
    "d2 = {}\n",
    "for i in d:\n",
    "    if i.startswith('G'):\n",
    "        d3 = {'G12': int(500*0.8)}\n",
    "    elif i.startswith('M'):\n",
    "        d4 = {'M15': int(200 * 0.7)}\n",
    "    else:\n",
    "        d5 = {'C20': int(1000000*0.35)}\n",
    "d2.update(d3)\n",
    "d2.update(d4)\n",
    "d2.update(d5)\n",
    "print(d2)"
   ]
  },
  {
   "cell_type": "code",
   "execution_count": 24,
   "id": "af9c98c3-58a1-415e-b0ab-04fe626d51a5",
   "metadata": {},
   "outputs": [
    {
     "name": "stdout",
     "output_type": "stream",
     "text": [
      "[]\n"
     ]
    }
   ],
   "source": [
    "l = ['Tuan', 'Manh', 'Cuong', 'Lam']\n",
    "d = {'Tuan': 100, 'Manh':300, 'Hong': 200, 'Manh': 50}\n",
    "l = []\n",
    "for i in l:\n",
    "    t = 0\n",
    "    for k, v in  d.items():\n",
    "        if i == k:\n",
    "            t += d[k]\n",
    "            l.append(t)\n",
    "print(l)"
   ]
  },
  {
   "cell_type": "markdown",
   "id": "9294dfde-e328-4526-acee-6b48760c6f20",
   "metadata": {},
   "source": [
    "# Numpy"
   ]
  },
  {
   "cell_type": "code",
   "execution_count": 25,
   "id": "b27242c9-c5b8-4cf8-8ddf-7d61875c8705",
   "metadata": {},
   "outputs": [],
   "source": [
    "import numpy as np"
   ]
  },
  {
   "cell_type": "markdown",
   "id": "fa8bf6d1-0c30-4b02-95df-050f8c4ea758",
   "metadata": {},
   "source": [
    "### Numpy: là một thư viện toán học phổ biến và mạnh mẽ của Python. Cho phép làm việc hiểu quả với ma trận và mảng\n",
    "### Các phần tử của array phải cùng kiểu dtype (ép kiểu xảy ra nếu cần thiết)\n",
    "### Numpy array là partly mutable: có thể thay đổi các phần tử đang có, nhưng không thể thay đổi kích thước của cả array(no append, remove, delete)"
   ]
  },
  {
   "cell_type": "code",
   "execution_count": 26,
   "id": "f5101990-972f-4276-a2e8-f4cb1ac46123",
   "metadata": {},
   "outputs": [
    {
     "name": "stdout",
     "output_type": "stream",
     "text": [
      "[1 2 3 4]\n",
      "int64\n",
      "<class 'numpy.ndarray'>\n"
     ]
    }
   ],
   "source": [
    "l = [1, 2, 3, 4]\n",
    "a = np.array(l)\n",
    "print(a)\n",
    "print(a.dtype)\n",
    "print(type(a))"
   ]
  },
  {
   "cell_type": "code",
   "execution_count": 29,
   "id": "5a59ac26-3e6a-412c-a4cb-e3bb11d0fd40",
   "metadata": {},
   "outputs": [
    {
     "name": "stdout",
     "output_type": "stream",
     "text": [
      "['2' '3' 'htinh']\n",
      "<U21\n",
      "<class 'numpy.ndarray'>\n"
     ]
    }
   ],
   "source": [
    "l = [2, 3, 'htinh']\n",
    "a = np.array(l) # rule 2 :))) same dtypes\n",
    "print(a)\n",
    "print(a.dtype)\n",
    "print(type(a))\n"
   ]
  },
  {
   "cell_type": "code",
   "execution_count": 30,
   "id": "61f29891-b6d7-4fa3-8644-ba979dd5819e",
   "metadata": {},
   "outputs": [
    {
     "name": "stdout",
     "output_type": "stream",
     "text": [
      "[0 1 2 3 4 5 6 7 8]\n",
      "<class 'numpy.ndarray'>\n",
      "int64\n"
     ]
    }
   ],
   "source": [
    "a = np.arange(9)\n",
    "print(a)\n",
    "print(type(a))\n",
    "print(a.dtype)"
   ]
  },
  {
   "cell_type": "code",
   "execution_count": 31,
   "id": "8f7ca97e-03f6-4350-8e1b-da6d5826c53d",
   "metadata": {},
   "outputs": [
    {
     "name": "stdout",
     "output_type": "stream",
     "text": [
      "[[1 2]\n",
      " [3 4]]\n",
      "<class 'numpy.ndarray'>\n",
      "int64\n"
     ]
    }
   ],
   "source": [
    "a = np.array([[1, 2], [3, 4]])\n",
    "print(a)\n",
    "print(type(a))\n",
    "print(a.dtype)"
   ]
  },
  {
   "cell_type": "code",
   "execution_count": 32,
   "id": "257394f9-1efd-408c-8dcf-e08a268d8b37",
   "metadata": {},
   "outputs": [
    {
     "name": "stdout",
     "output_type": "stream",
     "text": [
      "[0 1 2 3 4 5 6 7 8]\n",
      "[99  1  2  3  4  5  6  7  8]\n"
     ]
    }
   ],
   "source": [
    "a = np.arange(9)\n",
    "print(a)\n",
    "a[0] = 99\n",
    "print(a)"
   ]
  },
  {
   "cell_type": "code",
   "execution_count": 33,
   "id": "74700694-1036-4447-9f11-99300a3f4b28",
   "metadata": {},
   "outputs": [
    {
     "name": "stdout",
     "output_type": "stream",
     "text": [
      "[0 1 2 3 4 5 6 7 8]\n"
     ]
    },
    {
     "ename": "ValueError",
     "evalue": "cannot delete array elements",
     "output_type": "error",
     "traceback": [
      "\u001b[0;31m---------------------------------------------------------------------------\u001b[0m",
      "\u001b[0;31mValueError\u001b[0m                                Traceback (most recent call last)",
      "Cell \u001b[0;32mIn[33], line 3\u001b[0m\n\u001b[1;32m      1\u001b[0m a \u001b[38;5;241m=\u001b[39m np\u001b[38;5;241m.\u001b[39marange(\u001b[38;5;241m9\u001b[39m)\n\u001b[1;32m      2\u001b[0m \u001b[38;5;28mprint\u001b[39m(a)\n\u001b[0;32m----> 3\u001b[0m \u001b[38;5;28;01mdel\u001b[39;00m \u001b[43ma\u001b[49m\u001b[43m[\u001b[49m\u001b[38;5;241;43m0\u001b[39;49m\u001b[43m]\u001b[49m\n",
      "\u001b[0;31mValueError\u001b[0m: cannot delete array elements"
     ]
    }
   ],
   "source": [
    "a = np.arange(9)\n",
    "print(a)\n",
    "del a[0]"
   ]
  },
  {
   "cell_type": "code",
   "execution_count": 34,
   "id": "53af9848-0525-4a5e-8405-d850abdc91c0",
   "metadata": {},
   "outputs": [
    {
     "name": "stdout",
     "output_type": "stream",
     "text": [
      "[1 0 1 2]\n",
      "int64\n"
     ]
    }
   ],
   "source": [
    "a = np.array([True, False, 1, 2])\n",
    "print(a)\n",
    "print(a.dtype)"
   ]
  },
  {
   "cell_type": "code",
   "execution_count": 37,
   "id": "91299d84-9f1d-4213-8928-7122be27cdfd",
   "metadata": {},
   "outputs": [
    {
     "name": "stdout",
     "output_type": "stream",
     "text": [
      "['1' '2' 'A']\n",
      "<U21\n"
     ]
    }
   ],
   "source": [
    "a = np.array([1, 2, \"A\"])\n",
    "print(a)\n",
    "print(a.dtype)"
   ]
  },
  {
   "cell_type": "code",
   "execution_count": 38,
   "id": "4899254d-fcaf-4205-a0a0-28924f639c7e",
   "metadata": {},
   "outputs": [
    {
     "name": "stdout",
     "output_type": "stream",
     "text": [
      "[[0. 0.]\n",
      " [0. 0.]]\n"
     ]
    }
   ],
   "source": [
    "a = np.zeros([2, 2])\n",
    "print(a)"
   ]
  },
  {
   "cell_type": "code",
   "execution_count": 39,
   "id": "51737390-e4dd-4f42-84f9-aed0975d46ed",
   "metadata": {},
   "outputs": [
    {
     "data": {
      "text/plain": [
       "array([[1., 1.]])"
      ]
     },
     "execution_count": 39,
     "metadata": {},
     "output_type": "execute_result"
    }
   ],
   "source": [
    "a = np.ones((1, 2))\n",
    "a"
   ]
  },
  {
   "cell_type": "code",
   "execution_count": 40,
   "id": "43541013-0bd1-438e-a003-99e020aced64",
   "metadata": {},
   "outputs": [
    {
     "name": "stdout",
     "output_type": "stream",
     "text": [
      "[[7 7]\n",
      " [7 7]]\n"
     ]
    }
   ],
   "source": [
    "c = np.full((2, 2), 7)\n",
    "print(c)"
   ]
  },
  {
   "cell_type": "code",
   "execution_count": 41,
   "id": "2c448337-f9ce-4cd7-90a7-1cb3f8631764",
   "metadata": {},
   "outputs": [
    {
     "name": "stdout",
     "output_type": "stream",
     "text": [
      "[[1. 0.]\n",
      " [0. 1.]]\n"
     ]
    }
   ],
   "source": [
    "d = np.eye(2)\n",
    "print(d)"
   ]
  },
  {
   "cell_type": "code",
   "execution_count": 42,
   "id": "1dff781f-664c-4a6f-816c-1e628b7570fe",
   "metadata": {},
   "outputs": [
    {
     "name": "stdout",
     "output_type": "stream",
     "text": [
      "[[0.19795971 0.68115886]\n",
      " [0.92816758 0.38200644]]\n"
     ]
    }
   ],
   "source": [
    "e = np.random.random((2, 2))\n",
    "print(e)"
   ]
  },
  {
   "cell_type": "markdown",
   "id": "3a6938e7-7215-4f41-a9e9-9c2340d0efa6",
   "metadata": {},
   "source": [
    "## Manipulate with Numpy Array"
   ]
  },
  {
   "cell_type": "code",
   "execution_count": 44,
   "id": "53cd5617-9402-4545-b5f0-09a3b5d0da84",
   "metadata": {},
   "outputs": [],
   "source": [
    "a = np.array([1, 2, 3])\n",
    "b = np.array([[1, 2], [3, 4]])"
   ]
  },
  {
   "cell_type": "code",
   "execution_count": 45,
   "id": "ed37a001-b513-4363-a08a-0f129d4d986d",
   "metadata": {},
   "outputs": [
    {
     "name": "stdout",
     "output_type": "stream",
     "text": [
      "3\n",
      "3\n"
     ]
    }
   ],
   "source": [
    "print(a.size)\n",
    "print(len(a))"
   ]
  },
  {
   "cell_type": "code",
   "execution_count": 46,
   "id": "330a943a-a68c-4064-a81b-c9c6aa9f0de2",
   "metadata": {},
   "outputs": [
    {
     "name": "stdout",
     "output_type": "stream",
     "text": [
      "4\n",
      "2\n"
     ]
    }
   ],
   "source": [
    "print(b.size)\n",
    "print(len(b))"
   ]
  },
  {
   "cell_type": "code",
   "execution_count": 47,
   "id": "0e491be7-f07d-4477-9199-ae3f76b46142",
   "metadata": {},
   "outputs": [
    {
     "name": "stdout",
     "output_type": "stream",
     "text": [
      "int64\n",
      "int64\n"
     ]
    }
   ],
   "source": [
    "print(a.dtype)\n",
    "print(b.dtype)"
   ]
  },
  {
   "cell_type": "code",
   "execution_count": 48,
   "id": "0d6b38cd-7514-4072-89f5-4ed48ee9ef47",
   "metadata": {},
   "outputs": [
    {
     "name": "stdout",
     "output_type": "stream",
     "text": [
      "(3,)\n",
      "(2, 2)\n"
     ]
    }
   ],
   "source": [
    "print(a.shape)\n",
    "print(b.shape) #(rows, columns)"
   ]
  },
  {
   "cell_type": "code",
   "execution_count": 49,
   "id": "ccf87dc9-3475-4822-bc0e-92927b467e1b",
   "metadata": {},
   "outputs": [
    {
     "name": "stdout",
     "output_type": "stream",
     "text": [
      "1\n",
      "2\n"
     ]
    }
   ],
   "source": [
    "# Dimension\n",
    "print(a.ndim)\n",
    "print(b.ndim)"
   ]
  },
  {
   "cell_type": "markdown",
   "id": "dfbc373b-6ba8-4010-8a25-2798b9fbe973",
   "metadata": {},
   "source": [
    "## Indxing and Slicing"
   ]
  },
  {
   "cell_type": "code",
   "execution_count": 55,
   "id": "1caf8e3a-c498-46f9-8091-a17366db32f8",
   "metadata": {},
   "outputs": [
    {
     "name": "stdout",
     "output_type": "stream",
     "text": [
      "[ 0  1  2  3  4  5  6  7  8  9 10 11]\n"
     ]
    }
   ],
   "source": [
    "a = np.arange(12)\n",
    "print(a)"
   ]
  },
  {
   "cell_type": "code",
   "execution_count": 59,
   "id": "9d60046e-a38f-4e3c-b99b-183e54e98749",
   "metadata": {},
   "outputs": [
    {
     "data": {
      "text/plain": [
       "np.int64(0)"
      ]
     },
     "execution_count": 59,
     "metadata": {},
     "output_type": "execute_result"
    }
   ],
   "source": [
    "a[0]"
   ]
  },
  {
   "cell_type": "code",
   "execution_count": 60,
   "id": "d28b903f-5d75-4237-b79b-83f203651c75",
   "metadata": {},
   "outputs": [
    {
     "data": {
      "text/plain": [
       "np.int64(11)"
      ]
     },
     "execution_count": 60,
     "metadata": {},
     "output_type": "execute_result"
    }
   ],
   "source": [
    "a[-1]"
   ]
  },
  {
   "cell_type": "code",
   "execution_count": 61,
   "id": "12ea906b-e6e6-441f-8794-da46ba828e2b",
   "metadata": {},
   "outputs": [
    {
     "data": {
      "text/plain": [
       "array([0, 1, 2])"
      ]
     },
     "execution_count": 61,
     "metadata": {},
     "output_type": "execute_result"
    }
   ],
   "source": [
    "a[:3]"
   ]
  },
  {
   "cell_type": "code",
   "execution_count": 62,
   "id": "0cc1619d-b933-40cd-a1e7-e4b8d964b98c",
   "metadata": {},
   "outputs": [
    {
     "name": "stdout",
     "output_type": "stream",
     "text": [
      "[[2 3]\n",
      " [6 7]]\n"
     ]
    }
   ],
   "source": [
    "a = np.array([[1, 2, 3, 4], [5, 6, 7, 8], [9, 10, 11, 12]])\n",
    "print(a[:2, 1:3])"
   ]
  },
  {
   "cell_type": "markdown",
   "id": "1a303371-e7d6-44bc-9787-bb8359a9da34",
   "metadata": {},
   "source": [
    "## N_D array"
   ]
  },
  {
   "cell_type": "code",
   "execution_count": 63,
   "id": "2de674db-68b6-4d44-a4f3-bda5b390818f",
   "metadata": {},
   "outputs": [
    {
     "name": "stdout",
     "output_type": "stream",
     "text": [
      "[[0 1 2]\n",
      " [3 4 5]\n",
      " [6 7 8]]\n"
     ]
    }
   ],
   "source": [
    "a = np.arange(9).reshape(3,3)\n",
    "print(a)"
   ]
  },
  {
   "cell_type": "code",
   "execution_count": 64,
   "id": "e5185af3-9cd4-4e6c-9af2-f64c4db5c4af",
   "metadata": {},
   "outputs": [
    {
     "name": "stdout",
     "output_type": "stream",
     "text": [
      "0\n"
     ]
    }
   ],
   "source": [
    "print(a[0, 0])"
   ]
  },
  {
   "cell_type": "code",
   "execution_count": 65,
   "id": "c48ed52f-4bd9-4f92-b9d1-6530f546d385",
   "metadata": {},
   "outputs": [
    {
     "name": "stdout",
     "output_type": "stream",
     "text": [
      "[0 1 2]\n"
     ]
    }
   ],
   "source": [
    "print(a[0])"
   ]
  },
  {
   "cell_type": "code",
   "execution_count": 66,
   "id": "7f500896-e34e-430c-b1ee-8a4100f3a4a0",
   "metadata": {},
   "outputs": [
    {
     "name": "stdout",
     "output_type": "stream",
     "text": [
      "[6 7 8]\n"
     ]
    }
   ],
   "source": [
    "print(a[-1])"
   ]
  },
  {
   "cell_type": "code",
   "execution_count": 68,
   "id": "cd7d5cfa-3f76-4621-9d9e-54d3331512b5",
   "metadata": {},
   "outputs": [
    {
     "name": "stdout",
     "output_type": "stream",
     "text": [
      "[0 3 6]\n"
     ]
    }
   ],
   "source": [
    "print(a[:, 0])"
   ]
  },
  {
   "cell_type": "code",
   "execution_count": 69,
   "id": "d4721704-59c1-43ce-8177-b0dc71fa339e",
   "metadata": {},
   "outputs": [
    {
     "name": "stdout",
     "output_type": "stream",
     "text": [
      "[2 5 8]\n"
     ]
    }
   ],
   "source": [
    "print(a[:, -1])"
   ]
  },
  {
   "cell_type": "code",
   "execution_count": 71,
   "id": "7b486da8-914e-4eb6-b4b2-4c08839286e9",
   "metadata": {},
   "outputs": [
    {
     "name": "stdout",
     "output_type": "stream",
     "text": [
      "[[0 2]\n",
      " [3 5]\n",
      " [6 8]]\n"
     ]
    }
   ],
   "source": [
    "print(a[:, [0, -1]])"
   ]
  },
  {
   "cell_type": "code",
   "execution_count": 72,
   "id": "99a712ce-1630-4eba-933e-70b5586e74eb",
   "metadata": {},
   "outputs": [
    {
     "name": "stdout",
     "output_type": "stream",
     "text": [
      "[[0 1 2]\n",
      " [3 4 5]\n",
      " [6 7 8]]\n"
     ]
    }
   ],
   "source": [
    "print(a[:, :])\n"
   ]
  },
  {
   "cell_type": "markdown",
   "id": "27ed0778-e20e-47aa-9b43-9e519bd09487",
   "metadata": {},
   "source": [
    "## Array Math"
   ]
  },
  {
   "cell_type": "code",
   "execution_count": 73,
   "id": "d89a3126-8f8b-4bd0-a8c1-4f131a405095",
   "metadata": {},
   "outputs": [],
   "source": [
    "import numpy as np"
   ]
  },
  {
   "cell_type": "code",
   "execution_count": 74,
   "id": "200feced-d08a-4b54-957b-6f7500080d63",
   "metadata": {},
   "outputs": [
    {
     "name": "stdout",
     "output_type": "stream",
     "text": [
      "[[1. 2.]\n",
      " [3. 4.]]\n",
      "[[5. 6.]\n",
      " [7. 8.]]\n"
     ]
    }
   ],
   "source": [
    "x = np.array([[1, 2], [3, 4]], dtype=np.float64)\n",
    "y = np.array([[5, 6], [7, 8]], dtype=np.float64)\n",
    "print(x)\n",
    "print(y)"
   ]
  },
  {
   "cell_type": "code",
   "execution_count": 78,
   "id": "044846b5-9bba-4ea4-83cb-aca3d0ddd2bd",
   "metadata": {},
   "outputs": [
    {
     "name": "stdout",
     "output_type": "stream",
     "text": [
      "[[ 6.  8.]\n",
      " [10. 12.]]\n",
      "[[ 6.  8.]\n",
      " [10. 12.]]\n"
     ]
    }
   ],
   "source": [
    "print(x + y)\n",
    "print(np.add(x, y))"
   ]
  },
  {
   "cell_type": "code",
   "execution_count": 80,
   "id": "9c3f97e4-f4c7-4a10-8a81-fa7a09dcd04e",
   "metadata": {},
   "outputs": [
    {
     "name": "stdout",
     "output_type": "stream",
     "text": [
      "[[-4. -4.]\n",
      " [-4. -4.]]\n",
      "[[-4. -4.]\n",
      " [-4. -4.]]\n"
     ]
    }
   ],
   "source": [
    "print(x - y)\n",
    "print(np.subtract(x, y))"
   ]
  },
  {
   "cell_type": "code",
   "execution_count": 81,
   "id": "968b6a47-c5e2-48d7-912b-c96207acb6b4",
   "metadata": {},
   "outputs": [
    {
     "name": "stdout",
     "output_type": "stream",
     "text": [
      "[[ 5. 12.]\n",
      " [21. 32.]]\n",
      "[[ 5. 12.]\n",
      " [21. 32.]]\n"
     ]
    }
   ],
   "source": [
    "print(x * y)\n",
    "print(np.multiply(x, y))"
   ]
  },
  {
   "cell_type": "code",
   "execution_count": 82,
   "id": "d1952e04-0f71-44d5-baf5-e00092584715",
   "metadata": {},
   "outputs": [
    {
     "name": "stdout",
     "output_type": "stream",
     "text": [
      "[[0.2        0.33333333]\n",
      " [0.42857143 0.5       ]]\n",
      "[[0.2        0.33333333]\n",
      " [0.42857143 0.5       ]]\n"
     ]
    }
   ],
   "source": [
    "print(x / y)\n",
    "print(np.divide(x, y))"
   ]
  },
  {
   "cell_type": "code",
   "execution_count": 83,
   "id": "c36e4f11-ba5a-421d-a73b-86aa839cbc16",
   "metadata": {},
   "outputs": [
    {
     "name": "stdout",
     "output_type": "stream",
     "text": [
      "[[1.         1.41421356]\n",
      " [1.73205081 2.        ]]\n"
     ]
    }
   ],
   "source": [
    "print(np.sqrt(x))"
   ]
  },
  {
   "cell_type": "code",
   "execution_count": 84,
   "id": "2dc3ad3d-a778-4d56-ba97-539ec805f99d",
   "metadata": {},
   "outputs": [],
   "source": [
    "import numpy as np\n",
    "x = np.array([[1, 2], [3, 4]])\n",
    "y = np.array([[5, 6], [7, 8]])\n",
    "\n",
    "v = np.array([9, 10])\n",
    "w = np.array([11, 12])"
   ]
  },
  {
   "cell_type": "code",
   "execution_count": 89,
   "id": "15a2a236-faa0-4a44-82e7-1f2874a460cd",
   "metadata": {},
   "outputs": [
    {
     "name": "stdout",
     "output_type": "stream",
     "text": [
      "[[1 2]\n",
      " [3 4]]\n",
      "[[5 6]\n",
      " [7 8]]\n"
     ]
    }
   ],
   "source": [
    "print(x)\n",
    "print(y)"
   ]
  },
  {
   "cell_type": "code",
   "execution_count": 90,
   "id": "6a92b90d-5cc0-4927-bea4-35b098d27c06",
   "metadata": {},
   "outputs": [
    {
     "name": "stdout",
     "output_type": "stream",
     "text": [
      "[115 134]\n",
      "[[19 22]\n",
      " [43 50]]\n"
     ]
    }
   ],
   "source": [
    "print(v.dot(y))\n",
    "print(np.dot(x, y))"
   ]
  },
  {
   "cell_type": "code",
   "execution_count": 91,
   "id": "47122691-2e4f-44ce-a0ed-9277757afede",
   "metadata": {},
   "outputs": [
    {
     "name": "stdout",
     "output_type": "stream",
     "text": [
      "10\n",
      "[4 6]\n",
      "[3 7]\n"
     ]
    }
   ],
   "source": [
    "x = np.array([[1, 2], [3, 4]])\n",
    "print(np.sum(x))\n",
    "print(np.sum(x, axis = 0)) #compute sum of each column\n",
    "print(np.sum(x, axis = 1)) #compute sum of each row"
   ]
  },
  {
   "cell_type": "code",
   "execution_count": 93,
   "id": "47c304ed-6341-41ed-a41f-e5d315d392f0",
   "metadata": {},
   "outputs": [
    {
     "name": "stdout",
     "output_type": "stream",
     "text": [
      "[[1 2]\n",
      " [3 4]]\n",
      "[[1 3]\n",
      " [2 4]]\n"
     ]
    }
   ],
   "source": [
    "x = np.array([[1, 2], [3, 4]])\n",
    "print(x)\n",
    "print(x.T)"
   ]
  },
  {
   "cell_type": "markdown",
   "id": "bc288426-71b1-4e13-ba0f-210d63fdb1ac",
   "metadata": {},
   "source": [
    "# Vectorization (broadcasting)"
   ]
  },
  {
   "cell_type": "code",
   "execution_count": 94,
   "id": "2d98f4b2-160f-4ba3-af70-6d61253f1c37",
   "metadata": {},
   "outputs": [],
   "source": [
    "import timeit"
   ]
  },
  {
   "cell_type": "code",
   "execution_count": 95,
   "id": "2dd9d782-9a88-4738-adaa-cc59a69c605d",
   "metadata": {},
   "outputs": [
    {
     "data": {
      "text/plain": [
       "array([0, 1, 2, 3, 4, 5, 6, 7, 8, 9])"
      ]
     },
     "execution_count": 95,
     "metadata": {},
     "output_type": "execute_result"
    }
   ],
   "source": [
    "a = np.arange(10)\n",
    "a"
   ]
  },
  {
   "cell_type": "code",
   "execution_count": 100,
   "id": "52c13ef0-ae69-47b5-9a0a-853e9813e284",
   "metadata": {},
   "outputs": [
    {
     "name": "stdout",
     "output_type": "stream",
     "text": [
      "[10 11 12 13 14 15 16 17 18 19]\n",
      "2.209292866999931\n"
     ]
    }
   ],
   "source": [
    "print(a + 10)\n",
    "print(timeit.timeit(setup='import numpy as np', stmt='np.arange(10) + 10'))"
   ]
  },
  {
   "cell_type": "code",
   "execution_count": 101,
   "id": "85fafe89-d233-44fc-a929-d1515613c9be",
   "metadata": {},
   "outputs": [
    {
     "name": "stdout",
     "output_type": "stream",
     "text": [
      "[np.int64(10), np.int64(11), np.int64(12), np.int64(13), np.int64(14), np.int64(15), np.int64(16), np.int64(17), np.int64(18), np.int64(19)]\n",
      "1.7881839669998953\n"
     ]
    }
   ],
   "source": [
    "print([x + 10 for x in a])\n",
    "print(timeit.timeit(setup='import numpy as np', stmt='np.arange(10) + 10'))"
   ]
  },
  {
   "cell_type": "code",
   "execution_count": 102,
   "id": "834c80ef-09da-476d-8aac-0629495ea4f3",
   "metadata": {},
   "outputs": [
    {
     "name": "stdout",
     "output_type": "stream",
     "text": [
      "[-10  -9  -8  -7  -6  -5  -4  -3  -2  -1]\n"
     ]
    }
   ],
   "source": [
    "print(a - 10)"
   ]
  },
  {
   "cell_type": "code",
   "execution_count": 103,
   "id": "2a38a066-6e15-4292-8891-6a0728d49fac",
   "metadata": {},
   "outputs": [
    {
     "name": "stdout",
     "output_type": "stream",
     "text": [
      "[ 0 10 20 30 40 50 60 70 80 90]\n"
     ]
    }
   ],
   "source": [
    "print(a * 10)"
   ]
  },
  {
   "cell_type": "code",
   "execution_count": 104,
   "id": "713d2db7-2318-498d-ad1f-92a2ea6f8f8e",
   "metadata": {},
   "outputs": [
    {
     "name": "stdout",
     "output_type": "stream",
     "text": [
      "[         0          1       1024      59049    1048576    9765625\n",
      "   60466176  282475249 1073741824 3486784401]\n"
     ]
    }
   ],
   "source": [
    "print(a ** 10)"
   ]
  },
  {
   "cell_type": "markdown",
   "id": "80dffadd-a70b-43a1-9a89-6742a3a5e1be",
   "metadata": {},
   "source": [
    "# Masking "
   ]
  },
  {
   "cell_type": "code",
   "execution_count": 106,
   "id": "4c75338f-f6d1-4f87-9a0d-9dbe123bdd2c",
   "metadata": {},
   "outputs": [
    {
     "data": {
      "text/plain": [
       "array([  3,   3,   5, -10,   7,   4,   4,  -4,   3,   3])"
      ]
     },
     "execution_count": 106,
     "metadata": {},
     "output_type": "execute_result"
    }
   ],
   "source": [
    "a = np.random.randint(-10, 10, size=10)\n",
    "a"
   ]
  },
  {
   "cell_type": "code",
   "execution_count": 107,
   "id": "1d228b0b-205e-4a44-9352-c946fa35b4de",
   "metadata": {},
   "outputs": [
    {
     "name": "stdout",
     "output_type": "stream",
     "text": [
      "[ True  True  True False  True  True  True False  True  True]\n"
     ]
    }
   ],
   "source": [
    "print(a > 0)"
   ]
  },
  {
   "cell_type": "code",
   "execution_count": 108,
   "id": "4c2bd91c-7ebe-4049-ab29-fd1f3532dc3d",
   "metadata": {},
   "outputs": [
    {
     "name": "stdout",
     "output_type": "stream",
     "text": [
      "[3 3 5 7 4 4 3 3]\n"
     ]
    }
   ],
   "source": [
    "print(a[a > 0])"
   ]
  },
  {
   "cell_type": "code",
   "execution_count": 109,
   "id": "0ca3b841-6d09-44e3-bc2e-8748bcfe313b",
   "metadata": {},
   "outputs": [
    {
     "name": "stdout",
     "output_type": "stream",
     "text": [
      "[-10   4   4  -4]\n"
     ]
    }
   ],
   "source": [
    "print(a[a % 2 == 0])"
   ]
  },
  {
   "cell_type": "code",
   "execution_count": 110,
   "id": "f970ff65-a49c-4efc-8a9d-2e2667b92015",
   "metadata": {},
   "outputs": [
    {
     "name": "stdout",
     "output_type": "stream",
     "text": [
      "[3 3 5 7 4 4 3 3]\n"
     ]
    }
   ],
   "source": [
    "print(a[a >= 0])"
   ]
  },
  {
   "cell_type": "code",
   "execution_count": 111,
   "id": "1f6a90cb-c843-48b1-ac84-5d092f264097",
   "metadata": {},
   "outputs": [
    {
     "name": "stdout",
     "output_type": "stream",
     "text": [
      "[7]\n"
     ]
    }
   ],
   "source": [
    "print(a[a > 5])"
   ]
  },
  {
   "cell_type": "code",
   "execution_count": 112,
   "id": "3c20cde3-5dda-4567-93a5-743721114c0f",
   "metadata": {},
   "outputs": [
    {
     "name": "stdout",
     "output_type": "stream",
     "text": [
      "False\n"
     ]
    }
   ],
   "source": [
    "print(np.all(a > 0))"
   ]
  },
  {
   "cell_type": "code",
   "execution_count": 113,
   "id": "7512bf96-f19b-43b6-b5cd-b616389be79d",
   "metadata": {},
   "outputs": [
    {
     "name": "stdout",
     "output_type": "stream",
     "text": [
      "True\n"
     ]
    }
   ],
   "source": [
    "print(np.any(a > 0))"
   ]
  },
  {
   "cell_type": "markdown",
   "id": "f49d007d-ef97-4659-b890-94e5d96f57d9",
   "metadata": {},
   "source": [
    "# 1 - D array"
   ]
  },
  {
   "cell_type": "code",
   "execution_count": 114,
   "id": "691c9796-f866-46b3-9a3c-30cd4f247e6e",
   "metadata": {},
   "outputs": [
    {
     "name": "stdout",
     "output_type": "stream",
     "text": [
      "[ 0  1  2  3  4  5  6  7  8  9 10]\n"
     ]
    }
   ],
   "source": [
    "a = np.arange(11)\n",
    "print(a)"
   ]
  },
  {
   "cell_type": "code",
   "execution_count": 115,
   "id": "0c12154b-81a3-4360-b130-311f09d6c155",
   "metadata": {},
   "outputs": [
    {
     "name": "stdout",
     "output_type": "stream",
     "text": [
      "0\n",
      "0\n"
     ]
    }
   ],
   "source": [
    "print(a.min())\n",
    "print(np.min(a))"
   ]
  },
  {
   "cell_type": "code",
   "execution_count": 117,
   "id": "22a1fcbe-754d-4dcf-bf03-07ea2303ace3",
   "metadata": {},
   "outputs": [
    {
     "name": "stdout",
     "output_type": "stream",
     "text": [
      "10\n",
      "10\n"
     ]
    }
   ],
   "source": [
    "print(a.max())\n",
    "print(np.max(a))"
   ]
  },
  {
   "cell_type": "code",
   "execution_count": 118,
   "id": "fb406a57-6262-4c0e-b0c1-835408470b36",
   "metadata": {},
   "outputs": [
    {
     "name": "stdout",
     "output_type": "stream",
     "text": [
      "5.0\n"
     ]
    }
   ],
   "source": [
    "print(np.median(a))\n"
   ]
  },
  {
   "cell_type": "markdown",
   "id": "33cd2f82-926f-45c0-8195-ed056f08d955",
   "metadata": {},
   "source": [
    "# 2 -D"
   ]
  },
  {
   "cell_type": "code",
   "execution_count": 119,
   "id": "77fc3500-6a8f-4072-879b-25fe845bfeff",
   "metadata": {},
   "outputs": [],
   "source": [
    "a = np.arange(100).reshape(10, 10)"
   ]
  },
  {
   "cell_type": "code",
   "execution_count": 120,
   "id": "2ccbb1ee-d2d5-4d40-942a-f8afb23f5fd0",
   "metadata": {},
   "outputs": [
    {
     "data": {
      "text/plain": [
       "array([[ 0,  1,  2,  3,  4,  5,  6,  7,  8,  9],\n",
       "       [10, 11, 12, 13, 14, 15, 16, 17, 18, 19],\n",
       "       [20, 21, 22, 23, 24, 25, 26, 27, 28, 29],\n",
       "       [30, 31, 32, 33, 34, 35, 36, 37, 38, 39],\n",
       "       [40, 41, 42, 43, 44, 45, 46, 47, 48, 49],\n",
       "       [50, 51, 52, 53, 54, 55, 56, 57, 58, 59],\n",
       "       [60, 61, 62, 63, 64, 65, 66, 67, 68, 69],\n",
       "       [70, 71, 72, 73, 74, 75, 76, 77, 78, 79],\n",
       "       [80, 81, 82, 83, 84, 85, 86, 87, 88, 89],\n",
       "       [90, 91, 92, 93, 94, 95, 96, 97, 98, 99]])"
      ]
     },
     "execution_count": 120,
     "metadata": {},
     "output_type": "execute_result"
    }
   ],
   "source": [
    "a"
   ]
  },
  {
   "cell_type": "code",
   "execution_count": 121,
   "id": "e464752a-045d-4f62-b4c5-1a0123176490",
   "metadata": {},
   "outputs": [
    {
     "name": "stdout",
     "output_type": "stream",
     "text": [
      "[45. 46. 47. 48. 49. 50. 51. 52. 53. 54.]\n"
     ]
    }
   ],
   "source": [
    "print(a.mean(axis=0)) # mean column-wise"
   ]
  },
  {
   "cell_type": "code",
   "execution_count": 122,
   "id": "1ecca572-2b53-4602-8f38-1c2356c208b6",
   "metadata": {},
   "outputs": [
    {
     "name": "stdout",
     "output_type": "stream",
     "text": [
      "[ 4.5 14.5 24.5 34.5 44.5 54.5 64.5 74.5 84.5 94.5]\n"
     ]
    }
   ],
   "source": [
    "print(a.mean(axis=1))\n",
    "#mean row-wise"
   ]
  },
  {
   "cell_type": "code",
   "execution_count": null,
   "id": "f2dfb3bb-81cb-4f57-8c5c-cdce28204b9f",
   "metadata": {},
   "outputs": [],
   "source": []
  }
 ],
 "metadata": {
  "kernelspec": {
   "display_name": "Python 3 (ipykernel)",
   "language": "python",
   "name": "python3"
  },
  "language_info": {
   "codemirror_mode": {
    "name": "ipython",
    "version": 3
   },
   "file_extension": ".py",
   "mimetype": "text/x-python",
   "name": "python",
   "nbconvert_exporter": "python",
   "pygments_lexer": "ipython3",
   "version": "3.12.2"
  }
 },
 "nbformat": 4,
 "nbformat_minor": 5
}
