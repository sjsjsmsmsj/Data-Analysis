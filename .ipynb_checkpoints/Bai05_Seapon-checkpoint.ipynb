{
 "cells": [
  {
   "cell_type": "markdown",
   "id": "a5c93341-6d9a-4ce9-a917-c69e847f0697",
   "metadata": {},
   "source": [
    "# Homework"
   ]
  },
  {
   "cell_type": "code",
   "execution_count": 3,
   "id": "3a8a6c21-52ae-4a3a-a0f5-9b981bee4bfd",
   "metadata": {},
   "outputs": [],
   "source": [
    "import pandas as pd\n",
    "health = pd.read_csv(\"healthcare_dataset.csv\")"
   ]
  },
  {
   "cell_type": "code",
   "execution_count": 5,
   "id": "095d3b5e-4fb4-4f39-894d-f9f236250da8",
   "metadata": {},
   "outputs": [
    {
     "data": {
      "text/html": [
       "<div>\n",
       "<style scoped>\n",
       "    .dataframe tbody tr th:only-of-type {\n",
       "        vertical-align: middle;\n",
       "    }\n",
       "\n",
       "    .dataframe tbody tr th {\n",
       "        vertical-align: top;\n",
       "    }\n",
       "\n",
       "    .dataframe thead th {\n",
       "        text-align: right;\n",
       "    }\n",
       "</style>\n",
       "<table border=\"1\" class=\"dataframe\">\n",
       "  <thead>\n",
       "    <tr style=\"text-align: right;\">\n",
       "      <th></th>\n",
       "      <th>Name</th>\n",
       "      <th>Age</th>\n",
       "      <th>Gender</th>\n",
       "      <th>Blood Type</th>\n",
       "      <th>Medical Condition</th>\n",
       "      <th>Date of Admission</th>\n",
       "      <th>Doctor</th>\n",
       "      <th>Hospital</th>\n",
       "      <th>Insurance Provider</th>\n",
       "      <th>Billing Amount</th>\n",
       "      <th>Room Number</th>\n",
       "      <th>Admission Type</th>\n",
       "      <th>Discharge Date</th>\n",
       "      <th>Medication</th>\n",
       "      <th>Test Results</th>\n",
       "    </tr>\n",
       "  </thead>\n",
       "  <tbody>\n",
       "    <tr>\n",
       "      <th>0</th>\n",
       "      <td>Bobby JacksOn</td>\n",
       "      <td>30</td>\n",
       "      <td>Male</td>\n",
       "      <td>B-</td>\n",
       "      <td>Cancer</td>\n",
       "      <td>2024-01-31</td>\n",
       "      <td>Matthew Smith</td>\n",
       "      <td>Sons and Miller</td>\n",
       "      <td>Blue Cross</td>\n",
       "      <td>18856.281306</td>\n",
       "      <td>328</td>\n",
       "      <td>Urgent</td>\n",
       "      <td>2024-02-02</td>\n",
       "      <td>Paracetamol</td>\n",
       "      <td>Normal</td>\n",
       "    </tr>\n",
       "    <tr>\n",
       "      <th>1</th>\n",
       "      <td>LesLie TErRy</td>\n",
       "      <td>62</td>\n",
       "      <td>Male</td>\n",
       "      <td>A+</td>\n",
       "      <td>Obesity</td>\n",
       "      <td>2019-08-20</td>\n",
       "      <td>Samantha Davies</td>\n",
       "      <td>Kim Inc</td>\n",
       "      <td>Medicare</td>\n",
       "      <td>33643.327287</td>\n",
       "      <td>265</td>\n",
       "      <td>Emergency</td>\n",
       "      <td>2019-08-26</td>\n",
       "      <td>Ibuprofen</td>\n",
       "      <td>Inconclusive</td>\n",
       "    </tr>\n",
       "    <tr>\n",
       "      <th>2</th>\n",
       "      <td>DaNnY sMitH</td>\n",
       "      <td>76</td>\n",
       "      <td>Female</td>\n",
       "      <td>A-</td>\n",
       "      <td>Obesity</td>\n",
       "      <td>2022-09-22</td>\n",
       "      <td>Tiffany Mitchell</td>\n",
       "      <td>Cook PLC</td>\n",
       "      <td>Aetna</td>\n",
       "      <td>27955.096079</td>\n",
       "      <td>205</td>\n",
       "      <td>Emergency</td>\n",
       "      <td>2022-10-07</td>\n",
       "      <td>Aspirin</td>\n",
       "      <td>Normal</td>\n",
       "    </tr>\n",
       "    <tr>\n",
       "      <th>3</th>\n",
       "      <td>andrEw waTtS</td>\n",
       "      <td>28</td>\n",
       "      <td>Female</td>\n",
       "      <td>O+</td>\n",
       "      <td>Diabetes</td>\n",
       "      <td>2020-11-18</td>\n",
       "      <td>Kevin Wells</td>\n",
       "      <td>Hernandez Rogers and Vang,</td>\n",
       "      <td>Medicare</td>\n",
       "      <td>37909.782410</td>\n",
       "      <td>450</td>\n",
       "      <td>Elective</td>\n",
       "      <td>2020-12-18</td>\n",
       "      <td>Ibuprofen</td>\n",
       "      <td>Abnormal</td>\n",
       "    </tr>\n",
       "    <tr>\n",
       "      <th>4</th>\n",
       "      <td>adrIENNE bEll</td>\n",
       "      <td>43</td>\n",
       "      <td>Female</td>\n",
       "      <td>AB+</td>\n",
       "      <td>Cancer</td>\n",
       "      <td>2022-09-19</td>\n",
       "      <td>Kathleen Hanna</td>\n",
       "      <td>White-White</td>\n",
       "      <td>Aetna</td>\n",
       "      <td>14238.317814</td>\n",
       "      <td>458</td>\n",
       "      <td>Urgent</td>\n",
       "      <td>2022-10-09</td>\n",
       "      <td>Penicillin</td>\n",
       "      <td>Abnormal</td>\n",
       "    </tr>\n",
       "  </tbody>\n",
       "</table>\n",
       "</div>"
      ],
      "text/plain": [
       "            Name  Age  Gender Blood Type Medical Condition Date of Admission  \\\n",
       "0  Bobby JacksOn   30    Male         B-            Cancer        2024-01-31   \n",
       "1   LesLie TErRy   62    Male         A+           Obesity        2019-08-20   \n",
       "2    DaNnY sMitH   76  Female         A-           Obesity        2022-09-22   \n",
       "3   andrEw waTtS   28  Female         O+          Diabetes        2020-11-18   \n",
       "4  adrIENNE bEll   43  Female        AB+            Cancer        2022-09-19   \n",
       "\n",
       "             Doctor                    Hospital Insurance Provider  \\\n",
       "0     Matthew Smith             Sons and Miller         Blue Cross   \n",
       "1   Samantha Davies                     Kim Inc           Medicare   \n",
       "2  Tiffany Mitchell                    Cook PLC              Aetna   \n",
       "3       Kevin Wells  Hernandez Rogers and Vang,           Medicare   \n",
       "4    Kathleen Hanna                 White-White              Aetna   \n",
       "\n",
       "   Billing Amount  Room Number Admission Type Discharge Date   Medication  \\\n",
       "0    18856.281306          328         Urgent     2024-02-02  Paracetamol   \n",
       "1    33643.327287          265      Emergency     2019-08-26    Ibuprofen   \n",
       "2    27955.096079          205      Emergency     2022-10-07      Aspirin   \n",
       "3    37909.782410          450       Elective     2020-12-18    Ibuprofen   \n",
       "4    14238.317814          458         Urgent     2022-10-09   Penicillin   \n",
       "\n",
       "   Test Results  \n",
       "0        Normal  \n",
       "1  Inconclusive  \n",
       "2        Normal  \n",
       "3      Abnormal  \n",
       "4      Abnormal  "
      ]
     },
     "execution_count": 5,
     "metadata": {},
     "output_type": "execute_result"
    }
   ],
   "source": [
    "health.head()"
   ]
  },
  {
   "cell_type": "code",
   "execution_count": 22,
   "id": "1ff8e320-82c4-4a9c-b9d4-6773770f14c1",
   "metadata": {},
   "outputs": [
    {
     "data": {
      "text/html": [
       "<div>\n",
       "<style scoped>\n",
       "    .dataframe tbody tr th:only-of-type {\n",
       "        vertical-align: middle;\n",
       "    }\n",
       "\n",
       "    .dataframe tbody tr th {\n",
       "        vertical-align: top;\n",
       "    }\n",
       "\n",
       "    .dataframe thead th {\n",
       "        text-align: right;\n",
       "    }\n",
       "</style>\n",
       "<table border=\"1\" class=\"dataframe\">\n",
       "  <thead>\n",
       "    <tr style=\"text-align: right;\">\n",
       "      <th></th>\n",
       "      <th>Insurance Provider</th>\n",
       "      <th>Billing Amount</th>\n",
       "    </tr>\n",
       "  </thead>\n",
       "  <tbody>\n",
       "    <tr>\n",
       "      <th>0</th>\n",
       "      <td>Aetna</td>\n",
       "      <td>25553.294506</td>\n",
       "    </tr>\n",
       "    <tr>\n",
       "      <th>1</th>\n",
       "      <td>Blue Cross</td>\n",
       "      <td>25613.011503</td>\n",
       "    </tr>\n",
       "    <tr>\n",
       "      <th>2</th>\n",
       "      <td>Cigna</td>\n",
       "      <td>25525.766314</td>\n",
       "    </tr>\n",
       "    <tr>\n",
       "      <th>3</th>\n",
       "      <td>Medicare</td>\n",
       "      <td>25615.990508</td>\n",
       "    </tr>\n",
       "    <tr>\n",
       "      <th>4</th>\n",
       "      <td>UnitedHealthcare</td>\n",
       "      <td>25389.172390</td>\n",
       "    </tr>\n",
       "  </tbody>\n",
       "</table>\n",
       "</div>"
      ],
      "text/plain": [
       "  Insurance Provider  Billing Amount\n",
       "0              Aetna    25553.294506\n",
       "1         Blue Cross    25613.011503\n",
       "2              Cigna    25525.766314\n",
       "3           Medicare    25615.990508\n",
       "4   UnitedHealthcare    25389.172390"
      ]
     },
     "execution_count": 22,
     "metadata": {},
     "output_type": "execute_result"
    }
   ],
   "source": [
    "h = health.groupby(\"Insurance Provider\", as_index=False)[\"Billing Amount\"].mean()\n",
    "h"
   ]
  },
  {
   "cell_type": "code",
   "execution_count": 23,
   "id": "1d9b51fc-ae05-4dec-9cc5-abd1a6726005",
   "metadata": {},
   "outputs": [
    {
     "data": {
      "text/html": [
       "<div>\n",
       "<style scoped>\n",
       "    .dataframe tbody tr th:only-of-type {\n",
       "        vertical-align: middle;\n",
       "    }\n",
       "\n",
       "    .dataframe tbody tr th {\n",
       "        vertical-align: top;\n",
       "    }\n",
       "\n",
       "    .dataframe thead th {\n",
       "        text-align: right;\n",
       "    }\n",
       "</style>\n",
       "<table border=\"1\" class=\"dataframe\">\n",
       "  <thead>\n",
       "    <tr style=\"text-align: right;\">\n",
       "      <th></th>\n",
       "      <th>Insurance Provider</th>\n",
       "      <th>Date of Admission</th>\n",
       "    </tr>\n",
       "  </thead>\n",
       "  <tbody>\n",
       "    <tr>\n",
       "      <th>0</th>\n",
       "      <td>Aetna</td>\n",
       "      <td>2019-05-08</td>\n",
       "    </tr>\n",
       "    <tr>\n",
       "      <th>1</th>\n",
       "      <td>Blue Cross</td>\n",
       "      <td>2019-05-08</td>\n",
       "    </tr>\n",
       "    <tr>\n",
       "      <th>2</th>\n",
       "      <td>Cigna</td>\n",
       "      <td>2019-05-08</td>\n",
       "    </tr>\n",
       "    <tr>\n",
       "      <th>3</th>\n",
       "      <td>Medicare</td>\n",
       "      <td>2019-05-08</td>\n",
       "    </tr>\n",
       "    <tr>\n",
       "      <th>4</th>\n",
       "      <td>UnitedHealthcare</td>\n",
       "      <td>2019-05-08</td>\n",
       "    </tr>\n",
       "  </tbody>\n",
       "</table>\n",
       "</div>"
      ],
      "text/plain": [
       "  Insurance Provider Date of Admission\n",
       "0              Aetna        2019-05-08\n",
       "1         Blue Cross        2019-05-08\n",
       "2              Cigna        2019-05-08\n",
       "3           Medicare        2019-05-08\n",
       "4   UnitedHealthcare        2019-05-08"
      ]
     },
     "execution_count": 23,
     "metadata": {},
     "output_type": "execute_result"
    }
   ],
   "source": [
    "h1 = health.groupby(\"Insurance Provider\", as_index=False)[\"Date of Admission\"].min()\n",
    "h1"
   ]
  },
  {
   "cell_type": "code",
   "execution_count": 24,
   "id": "a75c66cf-dc3e-4b18-a31d-fd82ec6d3c84",
   "metadata": {},
   "outputs": [
    {
     "data": {
      "text/html": [
       "<div>\n",
       "<style scoped>\n",
       "    .dataframe tbody tr th:only-of-type {\n",
       "        vertical-align: middle;\n",
       "    }\n",
       "\n",
       "    .dataframe tbody tr th {\n",
       "        vertical-align: top;\n",
       "    }\n",
       "\n",
       "    .dataframe thead th {\n",
       "        text-align: right;\n",
       "    }\n",
       "</style>\n",
       "<table border=\"1\" class=\"dataframe\">\n",
       "  <thead>\n",
       "    <tr style=\"text-align: right;\">\n",
       "      <th></th>\n",
       "      <th>Insurance Provider</th>\n",
       "      <th>Date of Admission</th>\n",
       "      <th>Billing Amount</th>\n",
       "    </tr>\n",
       "  </thead>\n",
       "  <tbody>\n",
       "    <tr>\n",
       "      <th>0</th>\n",
       "      <td>Aetna</td>\n",
       "      <td>2019-05-08</td>\n",
       "      <td>25553.294506</td>\n",
       "    </tr>\n",
       "    <tr>\n",
       "      <th>1</th>\n",
       "      <td>Blue Cross</td>\n",
       "      <td>2019-05-08</td>\n",
       "      <td>25613.011503</td>\n",
       "    </tr>\n",
       "    <tr>\n",
       "      <th>2</th>\n",
       "      <td>Cigna</td>\n",
       "      <td>2019-05-08</td>\n",
       "      <td>25525.766314</td>\n",
       "    </tr>\n",
       "    <tr>\n",
       "      <th>3</th>\n",
       "      <td>Medicare</td>\n",
       "      <td>2019-05-08</td>\n",
       "      <td>25615.990508</td>\n",
       "    </tr>\n",
       "    <tr>\n",
       "      <th>4</th>\n",
       "      <td>UnitedHealthcare</td>\n",
       "      <td>2019-05-08</td>\n",
       "      <td>25389.172390</td>\n",
       "    </tr>\n",
       "  </tbody>\n",
       "</table>\n",
       "</div>"
      ],
      "text/plain": [
       "  Insurance Provider Date of Admission  Billing Amount\n",
       "0              Aetna        2019-05-08    25553.294506\n",
       "1         Blue Cross        2019-05-08    25613.011503\n",
       "2              Cigna        2019-05-08    25525.766314\n",
       "3           Medicare        2019-05-08    25615.990508\n",
       "4   UnitedHealthcare        2019-05-08    25389.172390"
      ]
     },
     "execution_count": 24,
     "metadata": {},
     "output_type": "execute_result"
    }
   ],
   "source": [
    "k = pd.merge(h1, h, on='Insurance Provider')\n",
    "k"
   ]
  },
  {
   "cell_type": "code",
   "execution_count": 33,
   "id": "6fd16bd7-cc0f-4800-a5ae-24ea0932b903",
   "metadata": {},
   "outputs": [
    {
     "data": {
      "text/html": [
       "<div>\n",
       "<style scoped>\n",
       "    .dataframe tbody tr th:only-of-type {\n",
       "        vertical-align: middle;\n",
       "    }\n",
       "\n",
       "    .dataframe tbody tr th {\n",
       "        vertical-align: top;\n",
       "    }\n",
       "\n",
       "    .dataframe thead th {\n",
       "        text-align: right;\n",
       "    }\n",
       "</style>\n",
       "<table border=\"1\" class=\"dataframe\">\n",
       "  <thead>\n",
       "    <tr style=\"text-align: right;\">\n",
       "      <th></th>\n",
       "      <th>Name</th>\n",
       "      <th>Age</th>\n",
       "      <th>Gender</th>\n",
       "      <th>Blood Type</th>\n",
       "      <th>Medical Condition</th>\n",
       "      <th>Date of Admission</th>\n",
       "      <th>Doctor</th>\n",
       "      <th>Hospital</th>\n",
       "      <th>Insurance Provider</th>\n",
       "      <th>Billing Amount</th>\n",
       "      <th>Room Number</th>\n",
       "      <th>Admission Type</th>\n",
       "      <th>Discharge Date</th>\n",
       "      <th>Medication</th>\n",
       "      <th>Test Results</th>\n",
       "    </tr>\n",
       "  </thead>\n",
       "  <tbody>\n",
       "    <tr>\n",
       "      <th>0</th>\n",
       "      <td>Bobby JacksOn</td>\n",
       "      <td>30</td>\n",
       "      <td>Male</td>\n",
       "      <td>B-</td>\n",
       "      <td>Cancer</td>\n",
       "      <td>2024-01-31</td>\n",
       "      <td>Matthew Smith</td>\n",
       "      <td>Sons and Miller</td>\n",
       "      <td>Blue Cross</td>\n",
       "      <td>18856.281306</td>\n",
       "      <td>328</td>\n",
       "      <td>Urgent</td>\n",
       "      <td>2024-02-02</td>\n",
       "      <td>Paracetamol</td>\n",
       "      <td>Normal</td>\n",
       "    </tr>\n",
       "    <tr>\n",
       "      <th>1</th>\n",
       "      <td>LesLie TErRy</td>\n",
       "      <td>62</td>\n",
       "      <td>Male</td>\n",
       "      <td>A+</td>\n",
       "      <td>Obesity</td>\n",
       "      <td>2019-08-20</td>\n",
       "      <td>Samantha Davies</td>\n",
       "      <td>Kim Inc</td>\n",
       "      <td>Medicare</td>\n",
       "      <td>33643.327287</td>\n",
       "      <td>265</td>\n",
       "      <td>Emergency</td>\n",
       "      <td>2019-08-26</td>\n",
       "      <td>Ibuprofen</td>\n",
       "      <td>Inconclusive</td>\n",
       "    </tr>\n",
       "    <tr>\n",
       "      <th>2</th>\n",
       "      <td>DaNnY sMitH</td>\n",
       "      <td>76</td>\n",
       "      <td>Female</td>\n",
       "      <td>A-</td>\n",
       "      <td>Obesity</td>\n",
       "      <td>2022-09-22</td>\n",
       "      <td>Tiffany Mitchell</td>\n",
       "      <td>Cook PLC</td>\n",
       "      <td>Aetna</td>\n",
       "      <td>27955.096079</td>\n",
       "      <td>205</td>\n",
       "      <td>Emergency</td>\n",
       "      <td>2022-10-07</td>\n",
       "      <td>Aspirin</td>\n",
       "      <td>Normal</td>\n",
       "    </tr>\n",
       "    <tr>\n",
       "      <th>3</th>\n",
       "      <td>andrEw waTtS</td>\n",
       "      <td>28</td>\n",
       "      <td>Female</td>\n",
       "      <td>O+</td>\n",
       "      <td>Diabetes</td>\n",
       "      <td>2020-11-18</td>\n",
       "      <td>Kevin Wells</td>\n",
       "      <td>Hernandez Rogers and Vang,</td>\n",
       "      <td>Medicare</td>\n",
       "      <td>37909.782410</td>\n",
       "      <td>450</td>\n",
       "      <td>Elective</td>\n",
       "      <td>2020-12-18</td>\n",
       "      <td>Ibuprofen</td>\n",
       "      <td>Abnormal</td>\n",
       "    </tr>\n",
       "    <tr>\n",
       "      <th>4</th>\n",
       "      <td>adrIENNE bEll</td>\n",
       "      <td>43</td>\n",
       "      <td>Female</td>\n",
       "      <td>AB+</td>\n",
       "      <td>Cancer</td>\n",
       "      <td>2022-09-19</td>\n",
       "      <td>Kathleen Hanna</td>\n",
       "      <td>White-White</td>\n",
       "      <td>Aetna</td>\n",
       "      <td>14238.317814</td>\n",
       "      <td>458</td>\n",
       "      <td>Urgent</td>\n",
       "      <td>2022-10-09</td>\n",
       "      <td>Penicillin</td>\n",
       "      <td>Abnormal</td>\n",
       "    </tr>\n",
       "    <tr>\n",
       "      <th>...</th>\n",
       "      <td>...</td>\n",
       "      <td>...</td>\n",
       "      <td>...</td>\n",
       "      <td>...</td>\n",
       "      <td>...</td>\n",
       "      <td>...</td>\n",
       "      <td>...</td>\n",
       "      <td>...</td>\n",
       "      <td>...</td>\n",
       "      <td>...</td>\n",
       "      <td>...</td>\n",
       "      <td>...</td>\n",
       "      <td>...</td>\n",
       "      <td>...</td>\n",
       "      <td>...</td>\n",
       "    </tr>\n",
       "    <tr>\n",
       "      <th>55495</th>\n",
       "      <td>eLIZABeTH jaCkSOn</td>\n",
       "      <td>42</td>\n",
       "      <td>Female</td>\n",
       "      <td>O+</td>\n",
       "      <td>Asthma</td>\n",
       "      <td>2020-08-16</td>\n",
       "      <td>Joshua Jarvis</td>\n",
       "      <td>Jones-Thompson</td>\n",
       "      <td>Blue Cross</td>\n",
       "      <td>2650.714952</td>\n",
       "      <td>417</td>\n",
       "      <td>Elective</td>\n",
       "      <td>2020-09-15</td>\n",
       "      <td>Penicillin</td>\n",
       "      <td>Abnormal</td>\n",
       "    </tr>\n",
       "    <tr>\n",
       "      <th>55496</th>\n",
       "      <td>KYle pEREz</td>\n",
       "      <td>61</td>\n",
       "      <td>Female</td>\n",
       "      <td>AB-</td>\n",
       "      <td>Obesity</td>\n",
       "      <td>2020-01-23</td>\n",
       "      <td>Taylor Sullivan</td>\n",
       "      <td>Tucker-Moyer</td>\n",
       "      <td>Cigna</td>\n",
       "      <td>31457.797307</td>\n",
       "      <td>316</td>\n",
       "      <td>Elective</td>\n",
       "      <td>2020-02-01</td>\n",
       "      <td>Aspirin</td>\n",
       "      <td>Normal</td>\n",
       "    </tr>\n",
       "    <tr>\n",
       "      <th>55497</th>\n",
       "      <td>HEATher WaNG</td>\n",
       "      <td>38</td>\n",
       "      <td>Female</td>\n",
       "      <td>B+</td>\n",
       "      <td>Hypertension</td>\n",
       "      <td>2020-07-13</td>\n",
       "      <td>Joe Jacobs DVM</td>\n",
       "      <td>and Mahoney Johnson Vasquez,</td>\n",
       "      <td>UnitedHealthcare</td>\n",
       "      <td>27620.764717</td>\n",
       "      <td>347</td>\n",
       "      <td>Urgent</td>\n",
       "      <td>2020-08-10</td>\n",
       "      <td>Ibuprofen</td>\n",
       "      <td>Abnormal</td>\n",
       "    </tr>\n",
       "    <tr>\n",
       "      <th>55498</th>\n",
       "      <td>JENniFER JOneS</td>\n",
       "      <td>43</td>\n",
       "      <td>Male</td>\n",
       "      <td>O-</td>\n",
       "      <td>Arthritis</td>\n",
       "      <td>2019-05-25</td>\n",
       "      <td>Kimberly Curry</td>\n",
       "      <td>Jackson Todd and Castro,</td>\n",
       "      <td>Medicare</td>\n",
       "      <td>32451.092358</td>\n",
       "      <td>321</td>\n",
       "      <td>Elective</td>\n",
       "      <td>2019-05-31</td>\n",
       "      <td>Ibuprofen</td>\n",
       "      <td>Abnormal</td>\n",
       "    </tr>\n",
       "    <tr>\n",
       "      <th>55499</th>\n",
       "      <td>jAMES GARCiA</td>\n",
       "      <td>53</td>\n",
       "      <td>Female</td>\n",
       "      <td>O+</td>\n",
       "      <td>Arthritis</td>\n",
       "      <td>2024-04-02</td>\n",
       "      <td>Dennis Warren</td>\n",
       "      <td>Henry Sons and</td>\n",
       "      <td>Aetna</td>\n",
       "      <td>4010.134172</td>\n",
       "      <td>448</td>\n",
       "      <td>Urgent</td>\n",
       "      <td>2024-04-29</td>\n",
       "      <td>Ibuprofen</td>\n",
       "      <td>Abnormal</td>\n",
       "    </tr>\n",
       "  </tbody>\n",
       "</table>\n",
       "<p>55500 rows × 15 columns</p>\n",
       "</div>"
      ],
      "text/plain": [
       "                    Name  Age  Gender Blood Type Medical Condition  \\\n",
       "0          Bobby JacksOn   30    Male         B-            Cancer   \n",
       "1           LesLie TErRy   62    Male         A+           Obesity   \n",
       "2            DaNnY sMitH   76  Female         A-           Obesity   \n",
       "3           andrEw waTtS   28  Female         O+          Diabetes   \n",
       "4          adrIENNE bEll   43  Female        AB+            Cancer   \n",
       "...                  ...  ...     ...        ...               ...   \n",
       "55495  eLIZABeTH jaCkSOn   42  Female         O+            Asthma   \n",
       "55496         KYle pEREz   61  Female        AB-           Obesity   \n",
       "55497       HEATher WaNG   38  Female         B+      Hypertension   \n",
       "55498     JENniFER JOneS   43    Male         O-         Arthritis   \n",
       "55499       jAMES GARCiA   53  Female         O+         Arthritis   \n",
       "\n",
       "      Date of Admission            Doctor                      Hospital  \\\n",
       "0            2024-01-31     Matthew Smith               Sons and Miller   \n",
       "1            2019-08-20   Samantha Davies                       Kim Inc   \n",
       "2            2022-09-22  Tiffany Mitchell                      Cook PLC   \n",
       "3            2020-11-18       Kevin Wells    Hernandez Rogers and Vang,   \n",
       "4            2022-09-19    Kathleen Hanna                   White-White   \n",
       "...                 ...               ...                           ...   \n",
       "55495        2020-08-16     Joshua Jarvis                Jones-Thompson   \n",
       "55496        2020-01-23   Taylor Sullivan                  Tucker-Moyer   \n",
       "55497        2020-07-13    Joe Jacobs DVM  and Mahoney Johnson Vasquez,   \n",
       "55498        2019-05-25    Kimberly Curry      Jackson Todd and Castro,   \n",
       "55499        2024-04-02     Dennis Warren                Henry Sons and   \n",
       "\n",
       "      Insurance Provider  Billing Amount  Room Number Admission Type  \\\n",
       "0             Blue Cross    18856.281306          328         Urgent   \n",
       "1               Medicare    33643.327287          265      Emergency   \n",
       "2                  Aetna    27955.096079          205      Emergency   \n",
       "3               Medicare    37909.782410          450       Elective   \n",
       "4                  Aetna    14238.317814          458         Urgent   \n",
       "...                  ...             ...          ...            ...   \n",
       "55495         Blue Cross     2650.714952          417       Elective   \n",
       "55496              Cigna    31457.797307          316       Elective   \n",
       "55497   UnitedHealthcare    27620.764717          347         Urgent   \n",
       "55498           Medicare    32451.092358          321       Elective   \n",
       "55499              Aetna     4010.134172          448         Urgent   \n",
       "\n",
       "      Discharge Date   Medication  Test Results  \n",
       "0         2024-02-02  Paracetamol        Normal  \n",
       "1         2019-08-26    Ibuprofen  Inconclusive  \n",
       "2         2022-10-07      Aspirin        Normal  \n",
       "3         2020-12-18    Ibuprofen      Abnormal  \n",
       "4         2022-10-09   Penicillin      Abnormal  \n",
       "...              ...          ...           ...  \n",
       "55495     2020-09-15   Penicillin      Abnormal  \n",
       "55496     2020-02-01      Aspirin        Normal  \n",
       "55497     2020-08-10    Ibuprofen      Abnormal  \n",
       "55498     2019-05-31    Ibuprofen      Abnormal  \n",
       "55499     2024-04-29    Ibuprofen      Abnormal  \n",
       "\n",
       "[55500 rows x 15 columns]"
      ]
     },
     "execution_count": 33,
     "metadata": {},
     "output_type": "execute_result"
    }
   ],
   "source": [
    "k = health\n",
    "k"
   ]
  },
  {
   "cell_type": "code",
   "execution_count": 43,
   "id": "ac29486f-63d0-43f9-97c3-657fbff142b9",
   "metadata": {},
   "outputs": [
    {
     "data": {
      "text/html": [
       "<div>\n",
       "<style scoped>\n",
       "    .dataframe tbody tr th:only-of-type {\n",
       "        vertical-align: middle;\n",
       "    }\n",
       "\n",
       "    .dataframe tbody tr th {\n",
       "        vertical-align: top;\n",
       "    }\n",
       "\n",
       "    .dataframe thead th {\n",
       "        text-align: right;\n",
       "    }\n",
       "</style>\n",
       "<table border=\"1\" class=\"dataframe\">\n",
       "  <thead>\n",
       "    <tr style=\"text-align: right;\">\n",
       "      <th></th>\n",
       "      <th>Name</th>\n",
       "      <th>categories</th>\n",
       "      <th>features</th>\n",
       "    </tr>\n",
       "  </thead>\n",
       "  <tbody>\n",
       "    <tr>\n",
       "      <th>0</th>\n",
       "      <td>Bobby JacksOn</td>\n",
       "      <td>Age</td>\n",
       "      <td>30</td>\n",
       "    </tr>\n",
       "    <tr>\n",
       "      <th>1</th>\n",
       "      <td>LesLie TErRy</td>\n",
       "      <td>Age</td>\n",
       "      <td>62</td>\n",
       "    </tr>\n",
       "    <tr>\n",
       "      <th>2</th>\n",
       "      <td>DaNnY sMitH</td>\n",
       "      <td>Age</td>\n",
       "      <td>76</td>\n",
       "    </tr>\n",
       "    <tr>\n",
       "      <th>3</th>\n",
       "      <td>andrEw waTtS</td>\n",
       "      <td>Age</td>\n",
       "      <td>28</td>\n",
       "    </tr>\n",
       "    <tr>\n",
       "      <th>4</th>\n",
       "      <td>adrIENNE bEll</td>\n",
       "      <td>Age</td>\n",
       "      <td>43</td>\n",
       "    </tr>\n",
       "    <tr>\n",
       "      <th>...</th>\n",
       "      <td>...</td>\n",
       "      <td>...</td>\n",
       "      <td>...</td>\n",
       "    </tr>\n",
       "    <tr>\n",
       "      <th>776995</th>\n",
       "      <td>eLIZABeTH jaCkSOn</td>\n",
       "      <td>Test Results</td>\n",
       "      <td>Abnormal</td>\n",
       "    </tr>\n",
       "    <tr>\n",
       "      <th>776996</th>\n",
       "      <td>KYle pEREz</td>\n",
       "      <td>Test Results</td>\n",
       "      <td>Normal</td>\n",
       "    </tr>\n",
       "    <tr>\n",
       "      <th>776997</th>\n",
       "      <td>HEATher WaNG</td>\n",
       "      <td>Test Results</td>\n",
       "      <td>Abnormal</td>\n",
       "    </tr>\n",
       "    <tr>\n",
       "      <th>776998</th>\n",
       "      <td>JENniFER JOneS</td>\n",
       "      <td>Test Results</td>\n",
       "      <td>Abnormal</td>\n",
       "    </tr>\n",
       "    <tr>\n",
       "      <th>776999</th>\n",
       "      <td>jAMES GARCiA</td>\n",
       "      <td>Test Results</td>\n",
       "      <td>Abnormal</td>\n",
       "    </tr>\n",
       "  </tbody>\n",
       "</table>\n",
       "<p>777000 rows × 3 columns</p>\n",
       "</div>"
      ],
      "text/plain": [
       "                     Name    categories  features\n",
       "0           Bobby JacksOn           Age        30\n",
       "1            LesLie TErRy           Age        62\n",
       "2             DaNnY sMitH           Age        76\n",
       "3            andrEw waTtS           Age        28\n",
       "4           adrIENNE bEll           Age        43\n",
       "...                   ...           ...       ...\n",
       "776995  eLIZABeTH jaCkSOn  Test Results  Abnormal\n",
       "776996         KYle pEREz  Test Results    Normal\n",
       "776997       HEATher WaNG  Test Results  Abnormal\n",
       "776998     JENniFER JOneS  Test Results  Abnormal\n",
       "776999       jAMES GARCiA  Test Results  Abnormal\n",
       "\n",
       "[777000 rows x 3 columns]"
      ]
     },
     "execution_count": 43,
     "metadata": {},
     "output_type": "execute_result"
    }
   ],
   "source": [
    "k = pd.melt(k, 'Name')\n",
    "k.rename(columns={'variable': 'categories', 'value': 'features'}, inplace=True)\n",
    "k"
   ]
  },
  {
   "cell_type": "markdown",
   "id": "2177ed96-057f-4ada-8fe7-d6c61829c8cb",
   "metadata": {},
   "source": [
    "## Pivot Table"
   ]
  },
  {
   "cell_type": "code",
   "execution_count": 45,
   "id": "c88ced8b-b96d-4fd0-8480-274e04c830c4",
   "metadata": {},
   "outputs": [
    {
     "data": {
      "text/html": [
       "<div>\n",
       "<style scoped>\n",
       "    .dataframe tbody tr th:only-of-type {\n",
       "        vertical-align: middle;\n",
       "    }\n",
       "\n",
       "    .dataframe tbody tr th {\n",
       "        vertical-align: top;\n",
       "    }\n",
       "\n",
       "    .dataframe thead th {\n",
       "        text-align: right;\n",
       "    }\n",
       "</style>\n",
       "<table border=\"1\" class=\"dataframe\">\n",
       "  <thead>\n",
       "    <tr style=\"text-align: right;\">\n",
       "      <th></th>\n",
       "      <th>class</th>\n",
       "      <th>lesson</th>\n",
       "      <th>sex</th>\n",
       "      <th>sibling</th>\n",
       "      <th>score</th>\n",
       "    </tr>\n",
       "  </thead>\n",
       "  <tbody>\n",
       "    <tr>\n",
       "      <th>0</th>\n",
       "      <td>A</td>\n",
       "      <td>math</td>\n",
       "      <td>M</td>\n",
       "      <td>1</td>\n",
       "      <td>40</td>\n",
       "    </tr>\n",
       "    <tr>\n",
       "      <th>1</th>\n",
       "      <td>B</td>\n",
       "      <td>stat</td>\n",
       "      <td>F</td>\n",
       "      <td>2</td>\n",
       "      <td>45</td>\n",
       "    </tr>\n",
       "    <tr>\n",
       "      <th>2</th>\n",
       "      <td>C</td>\n",
       "      <td>math</td>\n",
       "      <td>M</td>\n",
       "      <td>3</td>\n",
       "      <td>50</td>\n",
       "    </tr>\n",
       "    <tr>\n",
       "      <th>3</th>\n",
       "      <td>A</td>\n",
       "      <td>stat</td>\n",
       "      <td>M</td>\n",
       "      <td>1</td>\n",
       "      <td>55</td>\n",
       "    </tr>\n",
       "    <tr>\n",
       "      <th>4</th>\n",
       "      <td>B</td>\n",
       "      <td>math</td>\n",
       "      <td>M</td>\n",
       "      <td>2</td>\n",
       "      <td>60</td>\n",
       "    </tr>\n",
       "    <tr>\n",
       "      <th>5</th>\n",
       "      <td>C</td>\n",
       "      <td>stat</td>\n",
       "      <td>F</td>\n",
       "      <td>3</td>\n",
       "      <td>65</td>\n",
       "    </tr>\n",
       "    <tr>\n",
       "      <th>6</th>\n",
       "      <td>A</td>\n",
       "      <td>math</td>\n",
       "      <td>M</td>\n",
       "      <td>1</td>\n",
       "      <td>70</td>\n",
       "    </tr>\n",
       "    <tr>\n",
       "      <th>7</th>\n",
       "      <td>B</td>\n",
       "      <td>stat</td>\n",
       "      <td>M</td>\n",
       "      <td>2</td>\n",
       "      <td>75</td>\n",
       "    </tr>\n",
       "    <tr>\n",
       "      <th>8</th>\n",
       "      <td>C</td>\n",
       "      <td>math</td>\n",
       "      <td>M</td>\n",
       "      <td>3</td>\n",
       "      <td>80</td>\n",
       "    </tr>\n",
       "    <tr>\n",
       "      <th>9</th>\n",
       "      <td>A</td>\n",
       "      <td>stat</td>\n",
       "      <td>F</td>\n",
       "      <td>1</td>\n",
       "      <td>85</td>\n",
       "    </tr>\n",
       "    <tr>\n",
       "      <th>10</th>\n",
       "      <td>B</td>\n",
       "      <td>math</td>\n",
       "      <td>M</td>\n",
       "      <td>2</td>\n",
       "      <td>90</td>\n",
       "    </tr>\n",
       "    <tr>\n",
       "      <th>11</th>\n",
       "      <td>C</td>\n",
       "      <td>stat</td>\n",
       "      <td>M</td>\n",
       "      <td>3</td>\n",
       "      <td>95</td>\n",
       "    </tr>\n",
       "  </tbody>\n",
       "</table>\n",
       "</div>"
      ],
      "text/plain": [
       "   class lesson sex  sibling  score\n",
       "0      A   math   M        1     40\n",
       "1      B   stat   F        2     45\n",
       "2      C   math   M        3     50\n",
       "3      A   stat   M        1     55\n",
       "4      B   math   M        2     60\n",
       "5      C   stat   F        3     65\n",
       "6      A   math   M        1     70\n",
       "7      B   stat   M        2     75\n",
       "8      C   math   M        3     80\n",
       "9      A   stat   F        1     85\n",
       "10     B   math   M        2     90\n",
       "11     C   stat   M        3     95"
      ]
     },
     "execution_count": 45,
     "metadata": {},
     "output_type": "execute_result"
    }
   ],
   "source": [
    "import numpy as np\n",
    "df = pd.DataFrame(\n",
    "    {\n",
    "        \"class\": list(\"ABC\")*4,\n",
    "        \"lesson\": [\"math\", \"stat\"]*6,\n",
    "        'sex': list(\"MFMM\")*3,\n",
    "        \"sibling\": [1, 2, 3] * 4,\n",
    "        \"score\": np.arange(40, 100, 5)}\n",
    ")\n",
    "df"
   ]
  },
  {
   "cell_type": "code",
   "execution_count": 46,
   "id": "ba3801e4-620a-426d-b6b2-bf1ebaddda8a",
   "metadata": {},
   "outputs": [
    {
     "data": {
      "text/plain": [
       "lesson\n",
       "math    65.0\n",
       "stat    70.0\n",
       "Name: score, dtype: float64"
      ]
     },
     "execution_count": 46,
     "metadata": {},
     "output_type": "execute_result"
    }
   ],
   "source": [
    "df.groupby(\"lesson\")['score'].mean()"
   ]
  },
  {
   "cell_type": "code",
   "execution_count": 47,
   "id": "6fa00cd6-e49f-4f45-b7c1-687ade018e0b",
   "metadata": {},
   "outputs": [
    {
     "data": {
      "text/html": [
       "<div>\n",
       "<style scoped>\n",
       "    .dataframe tbody tr th:only-of-type {\n",
       "        vertical-align: middle;\n",
       "    }\n",
       "\n",
       "    .dataframe tbody tr th {\n",
       "        vertical-align: top;\n",
       "    }\n",
       "\n",
       "    .dataframe thead th {\n",
       "        text-align: right;\n",
       "    }\n",
       "</style>\n",
       "<table border=\"1\" class=\"dataframe\">\n",
       "  <thead>\n",
       "    <tr style=\"text-align: right;\">\n",
       "      <th>class</th>\n",
       "      <th>A</th>\n",
       "      <th>B</th>\n",
       "      <th>C</th>\n",
       "    </tr>\n",
       "    <tr>\n",
       "      <th>lesson</th>\n",
       "      <th></th>\n",
       "      <th></th>\n",
       "      <th></th>\n",
       "    </tr>\n",
       "  </thead>\n",
       "  <tbody>\n",
       "    <tr>\n",
       "      <th>math</th>\n",
       "      <td>55.0</td>\n",
       "      <td>75.0</td>\n",
       "      <td>65.0</td>\n",
       "    </tr>\n",
       "    <tr>\n",
       "      <th>stat</th>\n",
       "      <td>70.0</td>\n",
       "      <td>60.0</td>\n",
       "      <td>80.0</td>\n",
       "    </tr>\n",
       "  </tbody>\n",
       "</table>\n",
       "</div>"
      ],
      "text/plain": [
       "class      A     B     C\n",
       "lesson                  \n",
       "math    55.0  75.0  65.0\n",
       "stat    70.0  60.0  80.0"
      ]
     },
     "execution_count": 47,
     "metadata": {},
     "output_type": "execute_result"
    }
   ],
   "source": [
    "df.groupby(['lesson', 'class'])['score'].aggregate(\"mean\").unstack()"
   ]
  },
  {
   "cell_type": "code",
   "execution_count": 48,
   "id": "26a5acf1-efd1-4c68-9969-7b7ef5ca5a0e",
   "metadata": {},
   "outputs": [
    {
     "data": {
      "text/html": [
       "<div>\n",
       "<style scoped>\n",
       "    .dataframe tbody tr th:only-of-type {\n",
       "        vertical-align: middle;\n",
       "    }\n",
       "\n",
       "    .dataframe tbody tr th {\n",
       "        vertical-align: top;\n",
       "    }\n",
       "\n",
       "    .dataframe thead th {\n",
       "        text-align: right;\n",
       "    }\n",
       "</style>\n",
       "<table border=\"1\" class=\"dataframe\">\n",
       "  <thead>\n",
       "    <tr style=\"text-align: right;\">\n",
       "      <th>class</th>\n",
       "      <th>A</th>\n",
       "      <th>B</th>\n",
       "      <th>C</th>\n",
       "    </tr>\n",
       "    <tr>\n",
       "      <th>lesson</th>\n",
       "      <th></th>\n",
       "      <th></th>\n",
       "      <th></th>\n",
       "    </tr>\n",
       "  </thead>\n",
       "  <tbody>\n",
       "    <tr>\n",
       "      <th>math</th>\n",
       "      <td>55.0</td>\n",
       "      <td>75.0</td>\n",
       "      <td>65.0</td>\n",
       "    </tr>\n",
       "    <tr>\n",
       "      <th>stat</th>\n",
       "      <td>70.0</td>\n",
       "      <td>60.0</td>\n",
       "      <td>80.0</td>\n",
       "    </tr>\n",
       "  </tbody>\n",
       "</table>\n",
       "</div>"
      ],
      "text/plain": [
       "class      A     B     C\n",
       "lesson                  \n",
       "math    55.0  75.0  65.0\n",
       "stat    70.0  60.0  80.0"
      ]
     },
     "execution_count": 48,
     "metadata": {},
     "output_type": "execute_result"
    }
   ],
   "source": [
    "df.pivot_table(values=\"score\", index=\"lesson\",columns=\"class\")"
   ]
  },
  {
   "cell_type": "code",
   "execution_count": 50,
   "id": "3e9f54f6-bb6f-48fa-8a64-fbefa1dde036",
   "metadata": {},
   "outputs": [
    {
     "data": {
      "text/html": [
       "<div>\n",
       "<style scoped>\n",
       "    .dataframe tbody tr th:only-of-type {\n",
       "        vertical-align: middle;\n",
       "    }\n",
       "\n",
       "    .dataframe tbody tr th {\n",
       "        vertical-align: top;\n",
       "    }\n",
       "\n",
       "    .dataframe thead tr th {\n",
       "        text-align: left;\n",
       "    }\n",
       "\n",
       "    .dataframe thead tr:last-of-type th {\n",
       "        text-align: right;\n",
       "    }\n",
       "</style>\n",
       "<table border=\"1\" class=\"dataframe\">\n",
       "  <thead>\n",
       "    <tr>\n",
       "      <th></th>\n",
       "      <th></th>\n",
       "      <th colspan=\"2\" halign=\"left\">score</th>\n",
       "      <th colspan=\"2\" halign=\"left\">sibling</th>\n",
       "    </tr>\n",
       "    <tr>\n",
       "      <th></th>\n",
       "      <th>sex</th>\n",
       "      <th>F</th>\n",
       "      <th>M</th>\n",
       "      <th>F</th>\n",
       "      <th>M</th>\n",
       "    </tr>\n",
       "    <tr>\n",
       "      <th>class</th>\n",
       "      <th>lesson</th>\n",
       "      <th></th>\n",
       "      <th></th>\n",
       "      <th></th>\n",
       "      <th></th>\n",
       "    </tr>\n",
       "  </thead>\n",
       "  <tbody>\n",
       "    <tr>\n",
       "      <th rowspan=\"2\" valign=\"top\">A</th>\n",
       "      <th>math</th>\n",
       "      <td>NaN</td>\n",
       "      <td>55.0</td>\n",
       "      <td>NaN</td>\n",
       "      <td>1.0</td>\n",
       "    </tr>\n",
       "    <tr>\n",
       "      <th>stat</th>\n",
       "      <td>85.0</td>\n",
       "      <td>55.0</td>\n",
       "      <td>1.0</td>\n",
       "      <td>1.0</td>\n",
       "    </tr>\n",
       "    <tr>\n",
       "      <th rowspan=\"2\" valign=\"top\">B</th>\n",
       "      <th>math</th>\n",
       "      <td>NaN</td>\n",
       "      <td>75.0</td>\n",
       "      <td>NaN</td>\n",
       "      <td>2.0</td>\n",
       "    </tr>\n",
       "    <tr>\n",
       "      <th>stat</th>\n",
       "      <td>45.0</td>\n",
       "      <td>75.0</td>\n",
       "      <td>2.0</td>\n",
       "      <td>2.0</td>\n",
       "    </tr>\n",
       "    <tr>\n",
       "      <th rowspan=\"2\" valign=\"top\">C</th>\n",
       "      <th>math</th>\n",
       "      <td>NaN</td>\n",
       "      <td>65.0</td>\n",
       "      <td>NaN</td>\n",
       "      <td>3.0</td>\n",
       "    </tr>\n",
       "    <tr>\n",
       "      <th>stat</th>\n",
       "      <td>65.0</td>\n",
       "      <td>95.0</td>\n",
       "      <td>3.0</td>\n",
       "      <td>3.0</td>\n",
       "    </tr>\n",
       "  </tbody>\n",
       "</table>\n",
       "</div>"
      ],
      "text/plain": [
       "             score       sibling     \n",
       "sex              F     M       F    M\n",
       "class lesson                         \n",
       "A     math     NaN  55.0     NaN  1.0\n",
       "      stat    85.0  55.0     1.0  1.0\n",
       "B     math     NaN  75.0     NaN  2.0\n",
       "      stat    45.0  75.0     2.0  2.0\n",
       "C     math     NaN  65.0     NaN  3.0\n",
       "      stat    65.0  95.0     3.0  3.0"
      ]
     },
     "execution_count": 50,
     "metadata": {},
     "output_type": "execute_result"
    }
   ],
   "source": [
    "df.pivot_table(values=[\"sibling\", \"score\"], index=[\"class\", \"lesson\"], columns=\"sex\") "
   ]
  },
  {
   "cell_type": "code",
   "execution_count": 51,
   "id": "615843c5-eae1-41b7-971b-5bfd368c1dc4",
   "metadata": {},
   "outputs": [
    {
     "data": {
      "text/html": [
       "<div>\n",
       "<style scoped>\n",
       "    .dataframe tbody tr th:only-of-type {\n",
       "        vertical-align: middle;\n",
       "    }\n",
       "\n",
       "    .dataframe tbody tr th {\n",
       "        vertical-align: top;\n",
       "    }\n",
       "\n",
       "    .dataframe thead tr th {\n",
       "        text-align: left;\n",
       "    }\n",
       "\n",
       "    .dataframe thead tr:last-of-type th {\n",
       "        text-align: right;\n",
       "    }\n",
       "</style>\n",
       "<table border=\"1\" class=\"dataframe\">\n",
       "  <thead>\n",
       "    <tr>\n",
       "      <th></th>\n",
       "      <th></th>\n",
       "      <th colspan=\"3\" halign=\"left\">score</th>\n",
       "      <th colspan=\"3\" halign=\"left\">sibling</th>\n",
       "    </tr>\n",
       "    <tr>\n",
       "      <th></th>\n",
       "      <th>sex</th>\n",
       "      <th>F</th>\n",
       "      <th>M</th>\n",
       "      <th>All</th>\n",
       "      <th>F</th>\n",
       "      <th>M</th>\n",
       "      <th>All</th>\n",
       "    </tr>\n",
       "    <tr>\n",
       "      <th>class</th>\n",
       "      <th>lesson</th>\n",
       "      <th></th>\n",
       "      <th></th>\n",
       "      <th></th>\n",
       "      <th></th>\n",
       "      <th></th>\n",
       "      <th></th>\n",
       "    </tr>\n",
       "  </thead>\n",
       "  <tbody>\n",
       "    <tr>\n",
       "      <th rowspan=\"2\" valign=\"top\">A</th>\n",
       "      <th>math</th>\n",
       "      <td>NaN</td>\n",
       "      <td>55.000000</td>\n",
       "      <td>55.0</td>\n",
       "      <td>NaN</td>\n",
       "      <td>1.0</td>\n",
       "      <td>1.0</td>\n",
       "    </tr>\n",
       "    <tr>\n",
       "      <th>stat</th>\n",
       "      <td>85.0</td>\n",
       "      <td>55.000000</td>\n",
       "      <td>70.0</td>\n",
       "      <td>1.0</td>\n",
       "      <td>1.0</td>\n",
       "      <td>1.0</td>\n",
       "    </tr>\n",
       "    <tr>\n",
       "      <th rowspan=\"2\" valign=\"top\">B</th>\n",
       "      <th>math</th>\n",
       "      <td>NaN</td>\n",
       "      <td>75.000000</td>\n",
       "      <td>75.0</td>\n",
       "      <td>NaN</td>\n",
       "      <td>2.0</td>\n",
       "      <td>2.0</td>\n",
       "    </tr>\n",
       "    <tr>\n",
       "      <th>stat</th>\n",
       "      <td>45.0</td>\n",
       "      <td>75.000000</td>\n",
       "      <td>60.0</td>\n",
       "      <td>2.0</td>\n",
       "      <td>2.0</td>\n",
       "      <td>2.0</td>\n",
       "    </tr>\n",
       "    <tr>\n",
       "      <th rowspan=\"2\" valign=\"top\">C</th>\n",
       "      <th>math</th>\n",
       "      <td>NaN</td>\n",
       "      <td>65.000000</td>\n",
       "      <td>65.0</td>\n",
       "      <td>NaN</td>\n",
       "      <td>3.0</td>\n",
       "      <td>3.0</td>\n",
       "    </tr>\n",
       "    <tr>\n",
       "      <th>stat</th>\n",
       "      <td>65.0</td>\n",
       "      <td>95.000000</td>\n",
       "      <td>80.0</td>\n",
       "      <td>3.0</td>\n",
       "      <td>3.0</td>\n",
       "      <td>3.0</td>\n",
       "    </tr>\n",
       "    <tr>\n",
       "      <th>All</th>\n",
       "      <th></th>\n",
       "      <td>65.0</td>\n",
       "      <td>68.333333</td>\n",
       "      <td>67.5</td>\n",
       "      <td>2.0</td>\n",
       "      <td>2.0</td>\n",
       "      <td>2.0</td>\n",
       "    </tr>\n",
       "  </tbody>\n",
       "</table>\n",
       "</div>"
      ],
      "text/plain": [
       "             score                  sibling          \n",
       "sex              F          M   All       F    M  All\n",
       "class lesson                                         \n",
       "A     math     NaN  55.000000  55.0     NaN  1.0  1.0\n",
       "      stat    85.0  55.000000  70.0     1.0  1.0  1.0\n",
       "B     math     NaN  75.000000  75.0     NaN  2.0  2.0\n",
       "      stat    45.0  75.000000  60.0     2.0  2.0  2.0\n",
       "C     math     NaN  65.000000  65.0     NaN  3.0  3.0\n",
       "      stat    65.0  95.000000  80.0     3.0  3.0  3.0\n",
       "All           65.0  68.333333  67.5     2.0  2.0  2.0"
      ]
     },
     "execution_count": 51,
     "metadata": {},
     "output_type": "execute_result"
    }
   ],
   "source": [
    "df.pivot_table(values=[\"sibling\", \"score\"], index=[\"class\", \"lesson\"], columns=\"sex\", margins=True) "
   ]
  },
  {
   "cell_type": "code",
   "execution_count": 52,
   "id": "b889a443-ee10-4e06-85c4-00e3e2f573ae",
   "metadata": {},
   "outputs": [
    {
     "data": {
      "text/html": [
       "<div>\n",
       "<style scoped>\n",
       "    .dataframe tbody tr th:only-of-type {\n",
       "        vertical-align: middle;\n",
       "    }\n",
       "\n",
       "    .dataframe tbody tr th {\n",
       "        vertical-align: top;\n",
       "    }\n",
       "\n",
       "    .dataframe thead tr th {\n",
       "        text-align: left;\n",
       "    }\n",
       "\n",
       "    .dataframe thead tr:last-of-type th {\n",
       "        text-align: right;\n",
       "    }\n",
       "</style>\n",
       "<table border=\"1\" class=\"dataframe\">\n",
       "  <thead>\n",
       "    <tr>\n",
       "      <th></th>\n",
       "      <th></th>\n",
       "      <th colspan=\"3\" halign=\"left\">score</th>\n",
       "      <th colspan=\"3\" halign=\"left\">sibling</th>\n",
       "    </tr>\n",
       "    <tr>\n",
       "      <th></th>\n",
       "      <th>sex</th>\n",
       "      <th>F</th>\n",
       "      <th>M</th>\n",
       "      <th>All</th>\n",
       "      <th>F</th>\n",
       "      <th>M</th>\n",
       "      <th>All</th>\n",
       "    </tr>\n",
       "    <tr>\n",
       "      <th>class</th>\n",
       "      <th>lesson</th>\n",
       "      <th></th>\n",
       "      <th></th>\n",
       "      <th></th>\n",
       "      <th></th>\n",
       "      <th></th>\n",
       "      <th></th>\n",
       "    </tr>\n",
       "  </thead>\n",
       "  <tbody>\n",
       "    <tr>\n",
       "      <th rowspan=\"2\" valign=\"top\">A</th>\n",
       "      <th>math</th>\n",
       "      <td>0.0</td>\n",
       "      <td>55.000000</td>\n",
       "      <td>55.0</td>\n",
       "      <td>0.0</td>\n",
       "      <td>1.0</td>\n",
       "      <td>1.0</td>\n",
       "    </tr>\n",
       "    <tr>\n",
       "      <th>stat</th>\n",
       "      <td>85.0</td>\n",
       "      <td>55.000000</td>\n",
       "      <td>70.0</td>\n",
       "      <td>1.0</td>\n",
       "      <td>1.0</td>\n",
       "      <td>1.0</td>\n",
       "    </tr>\n",
       "    <tr>\n",
       "      <th rowspan=\"2\" valign=\"top\">B</th>\n",
       "      <th>math</th>\n",
       "      <td>0.0</td>\n",
       "      <td>75.000000</td>\n",
       "      <td>75.0</td>\n",
       "      <td>0.0</td>\n",
       "      <td>2.0</td>\n",
       "      <td>2.0</td>\n",
       "    </tr>\n",
       "    <tr>\n",
       "      <th>stat</th>\n",
       "      <td>45.0</td>\n",
       "      <td>75.000000</td>\n",
       "      <td>60.0</td>\n",
       "      <td>2.0</td>\n",
       "      <td>2.0</td>\n",
       "      <td>2.0</td>\n",
       "    </tr>\n",
       "    <tr>\n",
       "      <th rowspan=\"2\" valign=\"top\">C</th>\n",
       "      <th>math</th>\n",
       "      <td>0.0</td>\n",
       "      <td>65.000000</td>\n",
       "      <td>65.0</td>\n",
       "      <td>0.0</td>\n",
       "      <td>3.0</td>\n",
       "      <td>3.0</td>\n",
       "    </tr>\n",
       "    <tr>\n",
       "      <th>stat</th>\n",
       "      <td>65.0</td>\n",
       "      <td>95.000000</td>\n",
       "      <td>80.0</td>\n",
       "      <td>3.0</td>\n",
       "      <td>3.0</td>\n",
       "      <td>3.0</td>\n",
       "    </tr>\n",
       "    <tr>\n",
       "      <th>All</th>\n",
       "      <th></th>\n",
       "      <td>65.0</td>\n",
       "      <td>68.333333</td>\n",
       "      <td>67.5</td>\n",
       "      <td>2.0</td>\n",
       "      <td>2.0</td>\n",
       "      <td>2.0</td>\n",
       "    </tr>\n",
       "  </tbody>\n",
       "</table>\n",
       "</div>"
      ],
      "text/plain": [
       "             score                  sibling          \n",
       "sex              F          M   All       F    M  All\n",
       "class lesson                                         \n",
       "A     math     0.0  55.000000  55.0     0.0  1.0  1.0\n",
       "      stat    85.0  55.000000  70.0     1.0  1.0  1.0\n",
       "B     math     0.0  75.000000  75.0     0.0  2.0  2.0\n",
       "      stat    45.0  75.000000  60.0     2.0  2.0  2.0\n",
       "C     math     0.0  65.000000  65.0     0.0  3.0  3.0\n",
       "      stat    65.0  95.000000  80.0     3.0  3.0  3.0\n",
       "All           65.0  68.333333  67.5     2.0  2.0  2.0"
      ]
     },
     "execution_count": 52,
     "metadata": {},
     "output_type": "execute_result"
    }
   ],
   "source": [
    "df.pivot_table(values=[\"sibling\", \"score\"], index=[\"class\", \"lesson\"], columns=\"sex\", margins=True, fill_value=0) "
   ]
  },
  {
   "cell_type": "markdown",
   "id": "22f3160b-dacf-481d-90cd-f01898f7afdb",
   "metadata": {},
   "source": [
    "## Cross_tabulations: Crosstab"
   ]
  },
  {
   "cell_type": "code",
   "execution_count": 53,
   "id": "a2fb6ec1-91f4-449e-9244-186883c6d27c",
   "metadata": {},
   "outputs": [
    {
     "data": {
      "text/html": [
       "<div>\n",
       "<style scoped>\n",
       "    .dataframe tbody tr th:only-of-type {\n",
       "        vertical-align: middle;\n",
       "    }\n",
       "\n",
       "    .dataframe tbody tr th {\n",
       "        vertical-align: top;\n",
       "    }\n",
       "\n",
       "    .dataframe thead th {\n",
       "        text-align: right;\n",
       "    }\n",
       "</style>\n",
       "<table border=\"1\" class=\"dataframe\">\n",
       "  <thead>\n",
       "    <tr style=\"text-align: right;\">\n",
       "      <th>lesson</th>\n",
       "      <th>math</th>\n",
       "      <th>stat</th>\n",
       "    </tr>\n",
       "    <tr>\n",
       "      <th>sibling</th>\n",
       "      <th></th>\n",
       "      <th></th>\n",
       "    </tr>\n",
       "  </thead>\n",
       "  <tbody>\n",
       "    <tr>\n",
       "      <th>1</th>\n",
       "      <td>2</td>\n",
       "      <td>2</td>\n",
       "    </tr>\n",
       "    <tr>\n",
       "      <th>2</th>\n",
       "      <td>2</td>\n",
       "      <td>2</td>\n",
       "    </tr>\n",
       "    <tr>\n",
       "      <th>3</th>\n",
       "      <td>2</td>\n",
       "      <td>2</td>\n",
       "    </tr>\n",
       "  </tbody>\n",
       "</table>\n",
       "</div>"
      ],
      "text/plain": [
       "lesson   math  stat\n",
       "sibling            \n",
       "1           2     2\n",
       "2           2     2\n",
       "3           2     2"
      ]
     },
     "execution_count": 53,
     "metadata": {},
     "output_type": "execute_result"
    }
   ],
   "source": [
    "pd.crosstab(df.sibling, df.lesson)"
   ]
  },
  {
   "cell_type": "markdown",
   "id": "12149ee7-53cf-4b3c-9393-f789b1e6b3f1",
   "metadata": {},
   "source": [
    "# Working with Text Data"
   ]
  },
  {
   "cell_type": "code",
   "execution_count": 54,
   "id": "171536e2-c064-4ddd-89a0-c78b9bfda36a",
   "metadata": {},
   "outputs": [
    {
     "data": {
      "text/plain": [
       "'HELLO'"
      ]
     },
     "execution_count": 54,
     "metadata": {},
     "output_type": "execute_result"
    }
   ],
   "source": [
    "\"hello\".upper()"
   ]
  },
  {
   "cell_type": "markdown",
   "id": "4ff420a4-f383-47ac-aab4-bde9f6aa8c22",
   "metadata": {},
   "source": [
    "### Vectorized String Functions in Pandas"
   ]
  },
  {
   "cell_type": "code",
   "execution_count": 55,
   "id": "13a785e9-ecef-4207-ab0f-2477005fad40",
   "metadata": {},
   "outputs": [],
   "source": [
    "data=['tim','Kate', 'SUSan', np.nan, 'aLex']"
   ]
  },
  {
   "cell_type": "code",
   "execution_count": 56,
   "id": "7adb0bc1-9467-4274-b3c1-1211ec5d2350",
   "metadata": {},
   "outputs": [
    {
     "data": {
      "text/plain": [
       "0      tim\n",
       "1     Kate\n",
       "2    SUSan\n",
       "3      NaN\n",
       "4     aLex\n",
       "dtype: object"
      ]
     },
     "execution_count": 56,
     "metadata": {},
     "output_type": "execute_result"
    }
   ],
   "source": [
    "name=pd.Series(data)\n",
    "name"
   ]
  },
  {
   "cell_type": "code",
   "execution_count": 58,
   "id": "acd7bebf-1b6a-491b-b0f0-7675dfe6cd21",
   "metadata": {},
   "outputs": [
    {
     "data": {
      "text/plain": [
       "0      Tim\n",
       "1     Kate\n",
       "2    Susan\n",
       "3      NaN\n",
       "4     Alex\n",
       "dtype: object"
      ]
     },
     "execution_count": 58,
     "metadata": {},
     "output_type": "execute_result"
    }
   ],
   "source": [
    "name.str.capitalize()"
   ]
  },
  {
   "cell_type": "code",
   "execution_count": 59,
   "id": "cd60a5db-b8c3-46bb-90b9-b033aaf2deee",
   "metadata": {},
   "outputs": [
    {
     "data": {
      "text/plain": [
       "0      tim\n",
       "1     kate\n",
       "2    susan\n",
       "3      NaN\n",
       "4     alex\n",
       "dtype: object"
      ]
     },
     "execution_count": 59,
     "metadata": {},
     "output_type": "execute_result"
    }
   ],
   "source": [
    "name.str.lower()"
   ]
  },
  {
   "cell_type": "code",
   "execution_count": 60,
   "id": "f02c5cac-ab1a-4953-850a-7260d74baee5",
   "metadata": {},
   "outputs": [
    {
     "data": {
      "text/plain": [
       "0    3.0\n",
       "1    4.0\n",
       "2    5.0\n",
       "3    NaN\n",
       "4    4.0\n",
       "dtype: float64"
      ]
     },
     "execution_count": 60,
     "metadata": {},
     "output_type": "execute_result"
    }
   ],
   "source": [
    "name.str.len()"
   ]
  },
  {
   "cell_type": "code",
   "execution_count": 61,
   "id": "36a33104-21f7-497d-8536-3e6b18769745",
   "metadata": {},
   "outputs": [
    {
     "data": {
      "text/plain": [
       "0    False\n",
       "1    False\n",
       "2    False\n",
       "3      NaN\n",
       "4     True\n",
       "dtype: object"
      ]
     },
     "execution_count": 61,
     "metadata": {},
     "output_type": "execute_result"
    }
   ],
   "source": [
    "name.str.startswith('a')"
   ]
  },
  {
   "cell_type": "code",
   "execution_count": 62,
   "id": "740f689a-0d7e-4342-b10c-d3c33579c858",
   "metadata": {},
   "outputs": [
    {
     "data": {
      "text/html": [
       "<div>\n",
       "<style scoped>\n",
       "    .dataframe tbody tr th:only-of-type {\n",
       "        vertical-align: middle;\n",
       "    }\n",
       "\n",
       "    .dataframe tbody tr th {\n",
       "        vertical-align: top;\n",
       "    }\n",
       "\n",
       "    .dataframe thead th {\n",
       "        text-align: right;\n",
       "    }\n",
       "</style>\n",
       "<table border=\"1\" class=\"dataframe\">\n",
       "  <thead>\n",
       "    <tr style=\"text-align: right;\">\n",
       "      <th></th>\n",
       "      <th>Column A</th>\n",
       "      <th>Column B</th>\n",
       "    </tr>\n",
       "  </thead>\n",
       "  <tbody>\n",
       "    <tr>\n",
       "      <th>0</th>\n",
       "      <td>0.670943</td>\n",
       "      <td>-0.620280</td>\n",
       "    </tr>\n",
       "    <tr>\n",
       "      <th>1</th>\n",
       "      <td>0.414568</td>\n",
       "      <td>-1.285476</td>\n",
       "    </tr>\n",
       "    <tr>\n",
       "      <th>2</th>\n",
       "      <td>1.010480</td>\n",
       "      <td>-0.664441</td>\n",
       "    </tr>\n",
       "  </tbody>\n",
       "</table>\n",
       "</div>"
      ],
      "text/plain": [
       "   Column A  Column B\n",
       "0  0.670943 -0.620280\n",
       "1  0.414568 -1.285476\n",
       "2  1.010480 -0.664441"
      ]
     },
     "execution_count": 62,
     "metadata": {},
     "output_type": "execute_result"
    }
   ],
   "source": [
    "df = pd.DataFrame(\n",
    "    np.random.randn(3, 2),\n",
    "    columns=['Column A', 'Column B'],\n",
    "    index=range(3))\n",
    "df"
   ]
  },
  {
   "cell_type": "code",
   "execution_count": 63,
   "id": "92818305-6f13-40ac-9380-c60229b78950",
   "metadata": {},
   "outputs": [
    {
     "data": {
      "text/plain": [
       "Index(['Column A', 'Column B'], dtype='object')"
      ]
     },
     "execution_count": 63,
     "metadata": {},
     "output_type": "execute_result"
    }
   ],
   "source": [
    "df.columns"
   ]
  },
  {
   "cell_type": "code",
   "execution_count": 64,
   "id": "df26a7ca-332a-4167-96fc-56c83aa2d5fb",
   "metadata": {},
   "outputs": [
    {
     "data": {
      "text/plain": [
       "Index(['column_a', 'column_b'], dtype='object')"
      ]
     },
     "execution_count": 64,
     "metadata": {},
     "output_type": "execute_result"
    }
   ],
   "source": [
    "df.columns.str.lower().str.replace(\" \", \"_\")"
   ]
  },
  {
   "cell_type": "code",
   "execution_count": 65,
   "id": "fabb147d-c971-4ad0-8111-08faf101f598",
   "metadata": {},
   "outputs": [
    {
     "data": {
      "text/plain": [
       "0    a_b_c\n",
       "1    c_d_e\n",
       "2      NaN\n",
       "3    f_g_h\n",
       "dtype: object"
      ]
     },
     "execution_count": 65,
     "metadata": {},
     "output_type": "execute_result"
    }
   ],
   "source": [
    "s = pd.Series([\"a_b_c\", \"c_d_e\", np.nan, \"f_g_h\"])\n",
    "s"
   ]
  },
  {
   "cell_type": "code",
   "execution_count": 67,
   "id": "908c74e7-1d61-4008-898e-399e8d85f8ab",
   "metadata": {},
   "outputs": [
    {
     "data": {
      "text/plain": [
       "0    [a, b, c]\n",
       "1    [c, d, e]\n",
       "2          NaN\n",
       "3    [f, g, h]\n",
       "dtype: object"
      ]
     },
     "execution_count": 67,
     "metadata": {},
     "output_type": "execute_result"
    }
   ],
   "source": [
    "s.str.split(\"_\")"
   ]
  },
  {
   "cell_type": "code",
   "execution_count": 68,
   "id": "62e1228e-eda8-4879-9878-23f9623794a9",
   "metadata": {},
   "outputs": [
    {
     "data": {
      "text/html": [
       "<div>\n",
       "<style scoped>\n",
       "    .dataframe tbody tr th:only-of-type {\n",
       "        vertical-align: middle;\n",
       "    }\n",
       "\n",
       "    .dataframe tbody tr th {\n",
       "        vertical-align: top;\n",
       "    }\n",
       "\n",
       "    .dataframe thead th {\n",
       "        text-align: right;\n",
       "    }\n",
       "</style>\n",
       "<table border=\"1\" class=\"dataframe\">\n",
       "  <thead>\n",
       "    <tr style=\"text-align: right;\">\n",
       "      <th></th>\n",
       "      <th>0</th>\n",
       "      <th>1</th>\n",
       "    </tr>\n",
       "  </thead>\n",
       "  <tbody>\n",
       "    <tr>\n",
       "      <th>0</th>\n",
       "      <td>a</td>\n",
       "      <td>b_c</td>\n",
       "    </tr>\n",
       "    <tr>\n",
       "      <th>1</th>\n",
       "      <td>c</td>\n",
       "      <td>d_e</td>\n",
       "    </tr>\n",
       "    <tr>\n",
       "      <th>2</th>\n",
       "      <td>NaN</td>\n",
       "      <td>NaN</td>\n",
       "    </tr>\n",
       "    <tr>\n",
       "      <th>3</th>\n",
       "      <td>f</td>\n",
       "      <td>g_h</td>\n",
       "    </tr>\n",
       "  </tbody>\n",
       "</table>\n",
       "</div>"
      ],
      "text/plain": [
       "     0    1\n",
       "0    a  b_c\n",
       "1    c  d_e\n",
       "2  NaN  NaN\n",
       "3    f  g_h"
      ]
     },
     "execution_count": 68,
     "metadata": {},
     "output_type": "execute_result"
    }
   ],
   "source": [
    "s.str.split(\"_\", expand=True, n = 1)"
   ]
  },
  {
   "cell_type": "code",
   "execution_count": 69,
   "id": "e7d4f1f5-8ff3-497d-aad3-c4cd6d44b683",
   "metadata": {},
   "outputs": [
    {
     "data": {
      "text/plain": [
       "0    a b c\n",
       "1    c d e\n",
       "2      NaN\n",
       "3    f g h\n",
       "dtype: object"
      ]
     },
     "execution_count": 69,
     "metadata": {},
     "output_type": "execute_result"
    }
   ],
   "source": [
    "s.str.replace(\"_\", \" \")"
   ]
  },
  {
   "cell_type": "markdown",
   "id": "85244ea9-9932-4a2a-bc72-9969c8479983",
   "metadata": {},
   "source": [
    "## Working with Time Series in Pandas"
   ]
  },
  {
   "cell_type": "code",
   "execution_count": 75,
   "id": "1ff8def8-3b5d-4d25-8b84-d6afd95d04ec",
   "metadata": {},
   "outputs": [
    {
     "data": {
      "text/plain": [
       "Timestamp('2024-08-08 00:00:00')"
      ]
     },
     "execution_count": 75,
     "metadata": {},
     "output_type": "execute_result"
    }
   ],
   "source": [
    "pd.to_datetime(\"2024/8/8\")\n",
    "# YYYY-MM-DD"
   ]
  },
  {
   "cell_type": "code",
   "execution_count": 76,
   "id": "3bdc2f8e-e14e-4cc5-9f1e-efacc8e29937",
   "metadata": {},
   "outputs": [],
   "source": [
    "data = [\"2019-01-05\", \"jan 6, 2019\", \"7/05/2019\", \"2019/01/9\", \"20190110\"]"
   ]
  },
  {
   "cell_type": "code",
   "execution_count": 87,
   "id": "53c56510-ec4b-483b-9bbb-ce401305abf5",
   "metadata": {},
   "outputs": [
    {
     "data": {
      "text/plain": [
       "DatetimeIndex(['2019-01-05', 'NaT', 'NaT', 'NaT', 'NaT'], dtype='datetime64[ns]', freq=None)"
      ]
     },
     "execution_count": 87,
     "metadata": {},
     "output_type": "execute_result"
    }
   ],
   "source": [
    "pd.to_datetime(data, errors='coerce')"
   ]
  },
  {
   "cell_type": "code",
   "execution_count": 81,
   "id": "4d8ae52a-9c63-4d6c-92a5-8d7ab3491ed5",
   "metadata": {},
   "outputs": [
    {
     "data": {
      "text/plain": [
       "Timestamp('2019-03-05 00:00:00')"
      ]
     },
     "execution_count": 81,
     "metadata": {},
     "output_type": "execute_result"
    }
   ],
   "source": [
    "pd.to_datetime(\"05/03/2019\", dayfirst=True)"
   ]
  },
  {
   "cell_type": "code",
   "execution_count": 84,
   "id": "1c4aa502-bac7-465b-a755-66d35052dd67",
   "metadata": {},
   "outputs": [
    {
     "data": {
      "text/plain": [
       "Timestamp('2019-03-05 00:00:00')"
      ]
     },
     "execution_count": 84,
     "metadata": {},
     "output_type": "execute_result"
    }
   ],
   "source": [
    "pd.to_datetime(\"05*03*2019\",format=(\"%d*%m*%Y\"))"
   ]
  },
  {
   "cell_type": "code",
   "execution_count": 86,
   "id": "e691e701-1d6d-4621-8464-ba311a8adfbd",
   "metadata": {},
   "outputs": [
    {
     "data": {
      "text/plain": [
       "DatetimeIndex(['2019-01-05', 'NaT', 'NaT', 'NaT', 'NaT'], dtype='datetime64[ns]', freq=None)"
      ]
     },
     "execution_count": 86,
     "metadata": {},
     "output_type": "execute_result"
    }
   ],
   "source": [
    "# situation :))) fill out :))) if not correctly format :)))\n",
    "pd.to_datetime(data, errors='coerce')"
   ]
  },
  {
   "cell_type": "code",
   "execution_count": 99,
   "id": "024acfd4-e383-411b-9a47-b41baca9e536",
   "metadata": {},
   "outputs": [],
   "source": [
    "t = 100000000"
   ]
  },
  {
   "cell_type": "code",
   "execution_count": 100,
   "id": "9829612a-7a39-4a3b-8e69-aaf3e6f823fe",
   "metadata": {},
   "outputs": [
    {
     "data": {
      "text/plain": [
       "Timestamp('1973-03-03 09:46:40')"
      ]
     },
     "execution_count": 100,
     "metadata": {},
     "output_type": "execute_result"
    }
   ],
   "source": [
    "pd.to_datetime(t, unit=\"s\")"
   ]
  },
  {
   "cell_type": "code",
   "execution_count": 90,
   "id": "6503ade1-efab-48d4-ac8a-44a97492ed7c",
   "metadata": {},
   "outputs": [
    {
     "data": {
      "text/plain": [
       "977616000"
      ]
     },
     "execution_count": 90,
     "metadata": {},
     "output_type": "execute_result"
    }
   ],
   "source": [
    "24 * 60 * 60 * 365 * 31"
   ]
  },
  {
   "cell_type": "markdown",
   "id": "a7a902b2-446a-49b8-9c03-b5e8952b0556",
   "metadata": {},
   "source": [
    "# Visualization Fundamental With Matplotlib"
   ]
  },
  {
   "cell_type": "code",
   "execution_count": 60,
   "id": "c579a75d-766c-425b-b24e-2b55d085bcd9",
   "metadata": {},
   "outputs": [],
   "source": [
    "import matplotlib.pyplot as plt\n",
    "import pandas as pd\n"
   ]
  },
  {
   "cell_type": "code",
   "execution_count": 50,
   "id": "27509017-4410-4614-9d9d-d1a1f3c9ee1e",
   "metadata": {},
   "outputs": [],
   "source": [
    "sale = pd.read_csv(\"supermarket_sales_nan.csv\")\n"
   ]
  },
  {
   "cell_type": "code",
   "execution_count": 51,
   "id": "d0a4ffe8-6c0d-4bd0-bea5-7510c66efc7f",
   "metadata": {},
   "outputs": [
    {
     "data": {
      "text/html": [
       "<div>\n",
       "<style scoped>\n",
       "    .dataframe tbody tr th:only-of-type {\n",
       "        vertical-align: middle;\n",
       "    }\n",
       "\n",
       "    .dataframe tbody tr th {\n",
       "        vertical-align: top;\n",
       "    }\n",
       "\n",
       "    .dataframe thead th {\n",
       "        text-align: right;\n",
       "    }\n",
       "</style>\n",
       "<table border=\"1\" class=\"dataframe\">\n",
       "  <thead>\n",
       "    <tr style=\"text-align: right;\">\n",
       "      <th></th>\n",
       "      <th>Invoice ID</th>\n",
       "      <th>Branch</th>\n",
       "      <th>City</th>\n",
       "      <th>Customer type</th>\n",
       "      <th>Gender</th>\n",
       "      <th>Product line</th>\n",
       "      <th>Unit price</th>\n",
       "      <th>Quantity</th>\n",
       "      <th>Tax 5%</th>\n",
       "      <th>Total</th>\n",
       "      <th>Date</th>\n",
       "      <th>Time</th>\n",
       "      <th>Payment</th>\n",
       "      <th>cogs</th>\n",
       "      <th>gross margin percentage</th>\n",
       "      <th>gross income</th>\n",
       "      <th>Rating</th>\n",
       "    </tr>\n",
       "  </thead>\n",
       "  <tbody>\n",
       "    <tr>\n",
       "      <th>0</th>\n",
       "      <td>750-67-8428</td>\n",
       "      <td>A</td>\n",
       "      <td>Yangon</td>\n",
       "      <td>Member</td>\n",
       "      <td>Female</td>\n",
       "      <td>Health and beauty</td>\n",
       "      <td>74,69</td>\n",
       "      <td>7</td>\n",
       "      <td>26,1415</td>\n",
       "      <td>548,9715</td>\n",
       "      <td>1/5/2019</td>\n",
       "      <td>13:08</td>\n",
       "      <td>Ewallet</td>\n",
       "      <td>522,83</td>\n",
       "      <td>4,761904762</td>\n",
       "      <td>26,1415</td>\n",
       "      <td>9,1</td>\n",
       "    </tr>\n",
       "    <tr>\n",
       "      <th>1</th>\n",
       "      <td>226-31-3081</td>\n",
       "      <td>C</td>\n",
       "      <td>Naypyitaw</td>\n",
       "      <td>Normal</td>\n",
       "      <td>Female</td>\n",
       "      <td>Electronic accessories</td>\n",
       "      <td>15,28</td>\n",
       "      <td>5</td>\n",
       "      <td>3,82</td>\n",
       "      <td>80,22</td>\n",
       "      <td>3/8/2019</td>\n",
       "      <td>10:29</td>\n",
       "      <td>Cash</td>\n",
       "      <td>76,4</td>\n",
       "      <td>4,761904762</td>\n",
       "      <td>3,82</td>\n",
       "      <td>9,6</td>\n",
       "    </tr>\n",
       "    <tr>\n",
       "      <th>2</th>\n",
       "      <td>631-41-3108</td>\n",
       "      <td>A</td>\n",
       "      <td>Yangon</td>\n",
       "      <td>Normal</td>\n",
       "      <td>Male</td>\n",
       "      <td>Home and lifestyle</td>\n",
       "      <td>46,33</td>\n",
       "      <td>7</td>\n",
       "      <td>16,2155</td>\n",
       "      <td>340,5255</td>\n",
       "      <td>3/3/2019</td>\n",
       "      <td>13:23</td>\n",
       "      <td>Credit card</td>\n",
       "      <td>324,31</td>\n",
       "      <td>4,761904762</td>\n",
       "      <td>16,2155</td>\n",
       "      <td>7,4</td>\n",
       "    </tr>\n",
       "    <tr>\n",
       "      <th>3</th>\n",
       "      <td>123-19-1176</td>\n",
       "      <td>A</td>\n",
       "      <td>Yangon</td>\n",
       "      <td>Member</td>\n",
       "      <td>Male</td>\n",
       "      <td>Health and beauty</td>\n",
       "      <td>58,22</td>\n",
       "      <td>8</td>\n",
       "      <td>23,288</td>\n",
       "      <td>489,048</td>\n",
       "      <td>1/27/2019</td>\n",
       "      <td>20:33</td>\n",
       "      <td>Ewallet</td>\n",
       "      <td>465,76</td>\n",
       "      <td>4,761904762</td>\n",
       "      <td>23,288</td>\n",
       "      <td>8,4</td>\n",
       "    </tr>\n",
       "    <tr>\n",
       "      <th>4</th>\n",
       "      <td>373-73-7910</td>\n",
       "      <td>A</td>\n",
       "      <td>Yangon</td>\n",
       "      <td>Normal</td>\n",
       "      <td>Male</td>\n",
       "      <td>Sports and travel</td>\n",
       "      <td>86,31</td>\n",
       "      <td>7</td>\n",
       "      <td>30,2085</td>\n",
       "      <td>634,3785</td>\n",
       "      <td>2/8/2019</td>\n",
       "      <td>10:37</td>\n",
       "      <td>Ewallet</td>\n",
       "      <td>604,17</td>\n",
       "      <td>4,761904762</td>\n",
       "      <td>30,2085</td>\n",
       "      <td>5,3</td>\n",
       "    </tr>\n",
       "  </tbody>\n",
       "</table>\n",
       "</div>"
      ],
      "text/plain": [
       "    Invoice ID Branch       City Customer type  Gender  \\\n",
       "0  750-67-8428      A     Yangon        Member  Female   \n",
       "1  226-31-3081      C  Naypyitaw        Normal  Female   \n",
       "2  631-41-3108      A     Yangon        Normal    Male   \n",
       "3  123-19-1176      A     Yangon        Member    Male   \n",
       "4  373-73-7910      A     Yangon        Normal    Male   \n",
       "\n",
       "             Product line Unit price  Quantity   Tax 5%     Total       Date  \\\n",
       "0       Health and beauty      74,69         7  26,1415  548,9715   1/5/2019   \n",
       "1  Electronic accessories      15,28         5     3,82     80,22   3/8/2019   \n",
       "2      Home and lifestyle      46,33         7  16,2155  340,5255   3/3/2019   \n",
       "3       Health and beauty      58,22         8   23,288   489,048  1/27/2019   \n",
       "4       Sports and travel      86,31         7  30,2085  634,3785   2/8/2019   \n",
       "\n",
       "    Time      Payment    cogs gross margin percentage gross income Rating  \n",
       "0  13:08      Ewallet  522,83             4,761904762      26,1415    9,1  \n",
       "1  10:29         Cash    76,4             4,761904762         3,82    9,6  \n",
       "2  13:23  Credit card  324,31             4,761904762      16,2155    7,4  \n",
       "3  20:33      Ewallet  465,76             4,761904762       23,288    8,4  \n",
       "4  10:37      Ewallet  604,17             4,761904762      30,2085    5,3  "
      ]
     },
     "execution_count": 51,
     "metadata": {},
     "output_type": "execute_result"
    }
   ],
   "source": [
    "sale.head()\n",
    "\n"
   ]
  },
  {
   "cell_type": "code",
   "execution_count": 108,
   "id": "ec4ad83f-377e-4148-8f96-7f19ac5a35bc",
   "metadata": {},
   "outputs": [
    {
     "data": {
      "text/plain": [
       "'\\nc1: print info of dataset\\nc2: print describe of dataset \\nc3: print unique value of Product line\\nc4: total gross income by Product line \\nc5: average unit price by gender\\nc6: total quantity by city\\nc7: total revenue (total) by customer type\\nc8: total quantity by branch\\n'"
      ]
     },
     "execution_count": 108,
     "metadata": {},
     "output_type": "execute_result"
    }
   ],
   "source": [
    "'''\n",
    "c1: print info of dataset\n",
    "c2: print describe of dataset \n",
    "c3: print unique value of Product line\n",
    "c4: total gross income by Product line \n",
    "c5: average unit price by gender\n",
    "c6: total quantity by city\n",
    "c7: total revenue (total) by customer type\n",
    "c8: total quantity by branch\n",
    "'''\n"
   ]
  },
  {
   "cell_type": "code",
   "execution_count": 52,
   "id": "a5a0c1e5-e596-4b02-9998-1306dc3a7716",
   "metadata": {},
   "outputs": [
    {
     "data": {
      "text/plain": [
       "Invoice ID                 object\n",
       "Branch                     object\n",
       "City                       object\n",
       "Customer type              object\n",
       "Gender                     object\n",
       "Product line               object\n",
       "Unit price                 object\n",
       "Quantity                    int64\n",
       "Tax 5%                     object\n",
       "Total                      object\n",
       "Date                       object\n",
       "Time                       object\n",
       "Payment                    object\n",
       "cogs                       object\n",
       "gross margin percentage    object\n",
       "gross income               object\n",
       "Rating                     object\n",
       "dtype: object"
      ]
     },
     "execution_count": 52,
     "metadata": {},
     "output_type": "execute_result"
    }
   ],
   "source": [
    "sale.dtypes"
   ]
  },
  {
   "cell_type": "code",
   "execution_count": 53,
   "id": "5a205fa4-25dc-490d-a1cb-ff38ecb6c9b0",
   "metadata": {},
   "outputs": [
    {
     "name": "stdout",
     "output_type": "stream",
     "text": [
      "<class 'pandas.core.frame.DataFrame'>\n",
      "RangeIndex: 1000 entries, 0 to 999\n",
      "Data columns (total 17 columns):\n",
      " #   Column                   Non-Null Count  Dtype \n",
      "---  ------                   --------------  ----- \n",
      " 0   Invoice ID               1000 non-null   object\n",
      " 1   Branch                   1000 non-null   object\n",
      " 2   City                     1000 non-null   object\n",
      " 3   Customer type            1000 non-null   object\n",
      " 4   Gender                   1000 non-null   object\n",
      " 5   Product line             1000 non-null   object\n",
      " 6   Unit price               967 non-null    object\n",
      " 7   Quantity                 1000 non-null   int64 \n",
      " 8   Tax 5%                   1000 non-null   object\n",
      " 9   Total                    1000 non-null   object\n",
      " 10  Date                     1000 non-null   object\n",
      " 11  Time                     1000 non-null   object\n",
      " 12  Payment                  1000 non-null   object\n",
      " 13  cogs                     1000 non-null   object\n",
      " 14  gross margin percentage  1000 non-null   object\n",
      " 15  gross income             1000 non-null   object\n",
      " 16  Rating                   1000 non-null   object\n",
      "dtypes: int64(1), object(16)\n",
      "memory usage: 132.9+ KB\n"
     ]
    }
   ],
   "source": [
    "sale.info()"
   ]
  },
  {
   "cell_type": "code",
   "execution_count": 31,
   "id": "6b07285f-f496-4e5e-a534-a94addd75343",
   "metadata": {},
   "outputs": [
    {
     "data": {
      "text/html": [
       "<div>\n",
       "<style scoped>\n",
       "    .dataframe tbody tr th:only-of-type {\n",
       "        vertical-align: middle;\n",
       "    }\n",
       "\n",
       "    .dataframe tbody tr th {\n",
       "        vertical-align: top;\n",
       "    }\n",
       "\n",
       "    .dataframe thead th {\n",
       "        text-align: right;\n",
       "    }\n",
       "</style>\n",
       "<table border=\"1\" class=\"dataframe\">\n",
       "  <thead>\n",
       "    <tr style=\"text-align: right;\">\n",
       "      <th></th>\n",
       "      <th>Quantity</th>\n",
       "    </tr>\n",
       "  </thead>\n",
       "  <tbody>\n",
       "    <tr>\n",
       "      <th>count</th>\n",
       "      <td>1000.000000</td>\n",
       "    </tr>\n",
       "    <tr>\n",
       "      <th>mean</th>\n",
       "      <td>5.510000</td>\n",
       "    </tr>\n",
       "    <tr>\n",
       "      <th>std</th>\n",
       "      <td>2.923431</td>\n",
       "    </tr>\n",
       "    <tr>\n",
       "      <th>min</th>\n",
       "      <td>1.000000</td>\n",
       "    </tr>\n",
       "    <tr>\n",
       "      <th>25%</th>\n",
       "      <td>3.000000</td>\n",
       "    </tr>\n",
       "    <tr>\n",
       "      <th>50%</th>\n",
       "      <td>5.000000</td>\n",
       "    </tr>\n",
       "    <tr>\n",
       "      <th>75%</th>\n",
       "      <td>8.000000</td>\n",
       "    </tr>\n",
       "    <tr>\n",
       "      <th>max</th>\n",
       "      <td>10.000000</td>\n",
       "    </tr>\n",
       "  </tbody>\n",
       "</table>\n",
       "</div>"
      ],
      "text/plain": [
       "          Quantity\n",
       "count  1000.000000\n",
       "mean      5.510000\n",
       "std       2.923431\n",
       "min       1.000000\n",
       "25%       3.000000\n",
       "50%       5.000000\n",
       "75%       8.000000\n",
       "max      10.000000"
      ]
     },
     "execution_count": 31,
     "metadata": {},
     "output_type": "execute_result"
    }
   ],
   "source": [
    "sale.describe()"
   ]
  },
  {
   "cell_type": "code",
   "execution_count": 16,
   "id": "dffc8e4d-a3c3-4b32-8405-d94bdb3a143a",
   "metadata": {},
   "outputs": [
    {
     "data": {
      "text/plain": [
       "array(['Health and beauty', 'Electronic accessories',\n",
       "       'Home and lifestyle', 'Sports and travel', 'Food and beverages',\n",
       "       'Fashion accessories'], dtype=object)"
      ]
     },
     "execution_count": 16,
     "metadata": {},
     "output_type": "execute_result"
    }
   ],
   "source": [
    "sale['Product line'].unique()"
   ]
  },
  {
   "cell_type": "code",
   "execution_count": 33,
   "id": "1cc55003-d1b1-4335-817f-d8658035dc58",
   "metadata": {},
   "outputs": [
    {
     "name": "stdout",
     "output_type": "stream",
     "text": [
      "Product line\n",
      "Electronic accessories    3,8229,886520,6525,10211,737521,518,6427,39618...\n",
      "Fashion accessories       2,8961,6768,76723,532541,3153,5740,771529,2833...\n",
      "Food and beverages        8,22621,5958,200522,0919,88439,489,004531,9911...\n",
      "Health and beauty         26,141523,2883,62635,6924,125513,19711,20059,6...\n",
      "Home and lifestyle        16,215536,784,033,3221,03612,0484,3365,6111,61...\n",
      "Sports and travel         30,208528,11621,78313,294535,131533,5123,40615...\n",
      "Name: gross income, dtype: object\n"
     ]
    }
   ],
   "source": [
    "print(sale.groupby('Product line')['gross income'].sum())"
   ]
  },
  {
   "cell_type": "code",
   "execution_count": 32,
   "id": "0b9a5f79-9aae-4361-8edc-e4d7af7632c2",
   "metadata": {},
   "outputs": [],
   "source": [
    "# i have a met problem that is a convert because unit price has data type is object not digit\n",
    "# sale['Unit price'] = sale['Unit price'].astype(float ) i have met problem :)))\n",
    "sale['Unit price'] = sale['Unit price'].str.replace(',', '.')\n",
    "sale['Unit price'] = sale['Unit price'].astype(float)"
   ]
  },
  {
   "cell_type": "code",
   "execution_count": 34,
   "id": "163abd6f-f2cc-4344-bc73-24cb5f1fba9e",
   "metadata": {},
   "outputs": [
    {
     "data": {
      "text/plain": [
       "dtype('float64')"
      ]
     },
     "execution_count": 34,
     "metadata": {},
     "output_type": "execute_result"
    }
   ],
   "source": [
    "sale['Unit price'].dtype"
   ]
  },
  {
   "cell_type": "code",
   "execution_count": 35,
   "id": "a51458ff-de40-4a5d-96c1-c0c0b88b4cb8",
   "metadata": {},
   "outputs": [
    {
     "data": {
      "text/html": [
       "<div>\n",
       "<style scoped>\n",
       "    .dataframe tbody tr th:only-of-type {\n",
       "        vertical-align: middle;\n",
       "    }\n",
       "\n",
       "    .dataframe tbody tr th {\n",
       "        vertical-align: top;\n",
       "    }\n",
       "\n",
       "    .dataframe thead th {\n",
       "        text-align: right;\n",
       "    }\n",
       "</style>\n",
       "<table border=\"1\" class=\"dataframe\">\n",
       "  <thead>\n",
       "    <tr style=\"text-align: right;\">\n",
       "      <th></th>\n",
       "      <th>Gender</th>\n",
       "      <th>Unit price</th>\n",
       "    </tr>\n",
       "  </thead>\n",
       "  <tbody>\n",
       "    <tr>\n",
       "      <th>0</th>\n",
       "      <td>Female</td>\n",
       "      <td>55.132029</td>\n",
       "    </tr>\n",
       "    <tr>\n",
       "      <th>1</th>\n",
       "      <td>Male</td>\n",
       "      <td>55.940248</td>\n",
       "    </tr>\n",
       "  </tbody>\n",
       "</table>\n",
       "</div>"
      ],
      "text/plain": [
       "   Gender  Unit price\n",
       "0  Female   55.132029\n",
       "1    Male   55.940248"
      ]
     },
     "execution_count": 35,
     "metadata": {},
     "output_type": "execute_result"
    }
   ],
   "source": [
    "sale.groupby('Gender')['Unit price'].mean().reset_index()"
   ]
  },
  {
   "cell_type": "code",
   "execution_count": 36,
   "id": "843a27f4-f9c9-4608-a815-83e3addf32fc",
   "metadata": {},
   "outputs": [
    {
     "data": {
      "text/html": [
       "<div>\n",
       "<style scoped>\n",
       "    .dataframe tbody tr th:only-of-type {\n",
       "        vertical-align: middle;\n",
       "    }\n",
       "\n",
       "    .dataframe tbody tr th {\n",
       "        vertical-align: top;\n",
       "    }\n",
       "\n",
       "    .dataframe thead th {\n",
       "        text-align: right;\n",
       "    }\n",
       "</style>\n",
       "<table border=\"1\" class=\"dataframe\">\n",
       "  <thead>\n",
       "    <tr style=\"text-align: right;\">\n",
       "      <th></th>\n",
       "      <th>City</th>\n",
       "      <th>Quantity</th>\n",
       "    </tr>\n",
       "  </thead>\n",
       "  <tbody>\n",
       "    <tr>\n",
       "      <th>0</th>\n",
       "      <td>Mandalay</td>\n",
       "      <td>1820</td>\n",
       "    </tr>\n",
       "    <tr>\n",
       "      <th>1</th>\n",
       "      <td>Naypyitaw</td>\n",
       "      <td>1831</td>\n",
       "    </tr>\n",
       "    <tr>\n",
       "      <th>2</th>\n",
       "      <td>Yangon</td>\n",
       "      <td>1859</td>\n",
       "    </tr>\n",
       "  </tbody>\n",
       "</table>\n",
       "</div>"
      ],
      "text/plain": [
       "        City  Quantity\n",
       "0   Mandalay      1820\n",
       "1  Naypyitaw      1831\n",
       "2     Yangon      1859"
      ]
     },
     "execution_count": 36,
     "metadata": {},
     "output_type": "execute_result"
    }
   ],
   "source": [
    "sale.groupby('City')['Quantity'].sum().reset_index()"
   ]
  },
  {
   "cell_type": "code",
   "execution_count": 21,
   "id": "39abf2bf-0aef-4594-9c6b-03a696cf3830",
   "metadata": {},
   "outputs": [
    {
     "data": {
      "text/html": [
       "<div>\n",
       "<style scoped>\n",
       "    .dataframe tbody tr th:only-of-type {\n",
       "        vertical-align: middle;\n",
       "    }\n",
       "\n",
       "    .dataframe tbody tr th {\n",
       "        vertical-align: top;\n",
       "    }\n",
       "\n",
       "    .dataframe thead th {\n",
       "        text-align: right;\n",
       "    }\n",
       "</style>\n",
       "<table border=\"1\" class=\"dataframe\">\n",
       "  <thead>\n",
       "    <tr style=\"text-align: right;\">\n",
       "      <th></th>\n",
       "      <th>Customer type</th>\n",
       "      <th>Total</th>\n",
       "    </tr>\n",
       "  </thead>\n",
       "  <tbody>\n",
       "    <tr>\n",
       "      <th>0</th>\n",
       "      <td>Member</td>\n",
       "      <td>548,9715489,048433,69276,146172,74660,816107,1...</td>\n",
       "    </tr>\n",
       "    <tr>\n",
       "      <th>1</th>\n",
       "      <td>Normal</td>\n",
       "      <td>80,22340,5255634,3785627,6165772,38246,4875453...</td>\n",
       "    </tr>\n",
       "  </tbody>\n",
       "</table>\n",
       "</div>"
      ],
      "text/plain": [
       "  Customer type                                              Total\n",
       "0        Member  548,9715489,048433,69276,146172,74660,816107,1...\n",
       "1        Normal  80,22340,5255634,3785627,6165772,38246,4875453..."
      ]
     },
     "execution_count": 21,
     "metadata": {},
     "output_type": "execute_result"
    }
   ],
   "source": [
    "sale.groupby('Customer type')['Total'].sum().reset_index()\n",
    "# I have met mistake datatype :)))) "
   ]
  },
  {
   "cell_type": "code",
   "execution_count": 37,
   "id": "0e1d5010-c991-4cab-9ab0-d8b7eb3ad579",
   "metadata": {},
   "outputs": [
    {
     "data": {
      "text/html": [
       "<div>\n",
       "<style scoped>\n",
       "    .dataframe tbody tr th:only-of-type {\n",
       "        vertical-align: middle;\n",
       "    }\n",
       "\n",
       "    .dataframe tbody tr th {\n",
       "        vertical-align: top;\n",
       "    }\n",
       "\n",
       "    .dataframe thead th {\n",
       "        text-align: right;\n",
       "    }\n",
       "</style>\n",
       "<table border=\"1\" class=\"dataframe\">\n",
       "  <thead>\n",
       "    <tr style=\"text-align: right;\">\n",
       "      <th></th>\n",
       "      <th>Branch</th>\n",
       "      <th>Quantity</th>\n",
       "    </tr>\n",
       "  </thead>\n",
       "  <tbody>\n",
       "    <tr>\n",
       "      <th>0</th>\n",
       "      <td>A</td>\n",
       "      <td>1859</td>\n",
       "    </tr>\n",
       "    <tr>\n",
       "      <th>1</th>\n",
       "      <td>B</td>\n",
       "      <td>1820</td>\n",
       "    </tr>\n",
       "    <tr>\n",
       "      <th>2</th>\n",
       "      <td>C</td>\n",
       "      <td>1831</td>\n",
       "    </tr>\n",
       "  </tbody>\n",
       "</table>\n",
       "</div>"
      ],
      "text/plain": [
       "  Branch  Quantity\n",
       "0      A      1859\n",
       "1      B      1820\n",
       "2      C      1831"
      ]
     },
     "execution_count": 37,
     "metadata": {},
     "output_type": "execute_result"
    }
   ],
   "source": [
    "sale.groupby('Branch')['Quantity'].sum().reset_index()"
   ]
  },
  {
   "cell_type": "code",
   "execution_count": 48,
   "id": "983461a9-b215-4cee-b55f-b7c328d61fc6",
   "metadata": {},
   "outputs": [
    {
     "data": {
      "text/plain": [
       "0     NaT\n",
       "1     NaT\n",
       "2     NaT\n",
       "3     NaT\n",
       "4     NaT\n",
       "       ..\n",
       "995   NaT\n",
       "996   NaT\n",
       "997   NaT\n",
       "998   NaT\n",
       "999   NaT\n",
       "Name: Date, Length: 1000, dtype: datetime64[ns]"
      ]
     },
     "execution_count": 48,
     "metadata": {},
     "output_type": "execute_result"
    }
   ],
   "source": [
    "sale['Date']"
   ]
  },
  {
   "cell_type": "markdown",
   "id": "1ac01bd4-63aa-4b9e-ae00-5c8bb9d3d747",
   "metadata": {},
   "source": [
    "## Visualize"
   ]
  },
  {
   "cell_type": "code",
   "execution_count": 75,
   "id": "75460c64-a646-431b-a63f-fb2c44499281",
   "metadata": {},
   "outputs": [
    {
     "name": "stdout",
     "output_type": "stream",
     "text": [
      "0      1\n",
      "1      1\n",
      "2      1\n",
      "3      2\n",
      "4      2\n",
      "5      2\n",
      "6      3\n",
      "7      3\n",
      "8      3\n",
      "9      4\n",
      "10     4\n",
      "11     4\n",
      "12     5\n",
      "13     5\n",
      "14     5\n",
      "15     6\n",
      "16     6\n",
      "17     6\n",
      "18     7\n",
      "19     7\n",
      "20     7\n",
      "21     8\n",
      "22     8\n",
      "23     8\n",
      "24     9\n",
      "25     9\n",
      "26     9\n",
      "27    10\n",
      "28    10\n",
      "29    10\n",
      "30    11\n",
      "31    11\n",
      "32    11\n",
      "33    12\n",
      "34    12\n",
      "35    12\n",
      "36    13\n",
      "37    13\n",
      "38    13\n",
      "Name: week_num, dtype: UInt32\n",
      "0     2019-01-05\n",
      "1     2019-03-08\n",
      "2     2019-03-03\n",
      "3     2019-01-27\n",
      "4     2019-02-08\n",
      "         ...    \n",
      "995   2019-01-29\n",
      "996   2019-03-02\n",
      "997   2019-02-09\n",
      "998   2019-02-22\n",
      "999   2019-02-18\n",
      "Name: Date, Length: 1000, dtype: datetime64[ns]\n"
     ]
    }
   ],
   "source": [
    "print(sale_by_period['week_num'])\n",
    "print(sale['Date'])"
   ]
  },
  {
   "cell_type": "code",
   "execution_count": 74,
   "id": "8e2dd6eb-6c04-4bef-b821-676aafa80f93",
   "metadata": {},
   "outputs": [
    {
     "name": "stdout",
     "output_type": "stream",
     "text": [
      "datetime64[ns]\n",
      "    week_num Branch  Quantity\n",
      "0          1      A       130\n",
      "1          1      B       102\n",
      "2          1      C        73\n",
      "3          2      A       141\n",
      "4          2      B       128\n",
      "5          2      C       162\n",
      "6          3      A       189\n",
      "7          3      B       111\n",
      "8          3      C       161\n",
      "9          4      A       170\n",
      "10         4      B       144\n",
      "11         4      C       175\n",
      "12         5      A       137\n",
      "13         5      B       165\n",
      "14         5      C       182\n",
      "15         6      A       137\n",
      "16         6      B       189\n",
      "17         6      C       180\n",
      "18         7      A       106\n",
      "19         7      B       149\n",
      "20         7      C       144\n",
      "21         8      A        96\n",
      "22         8      B       119\n",
      "23         8      C        99\n",
      "24         9      A       121\n",
      "25         9      B       211\n",
      "26         9      C       133\n",
      "27        10      A       189\n",
      "28        10      B       166\n",
      "29        10      C       141\n"
     ]
    }
   ],
   "source": [
    "# quantity by week_num, branch\n",
    "sale['Date'] = pd.to_datetime(sale['Date'], errors='coerce')\n",
    "print(sale['Date'].dtype)\n",
    "sale['week_num'] = sale['Date'].dt.isocalendar().week\n",
    "sale_by_period = sale.groupby(['week_num', 'Branch'])['Quantity'].sum().reset_index()\n",
    "sale_m1 = sale_by_period[sale_by_period['week_num'] <= 10]\n",
    "print(sale_m1)"
   ]
  },
  {
   "cell_type": "code",
   "execution_count": 78,
   "id": "146bd06f-e726-4d8f-88d0-09a671f88ea9",
   "metadata": {},
   "outputs": [],
   "source": [
    "x = sale_m1['week_num'].unique()\n",
    "A = sale_m1[sale_m1['Branch'] == 'A']['Quantity'].unique()\n",
    "B = sale_m1[sale_m1['Branch'] == 'B']['Quantity'].unique()\n",
    "C = sale_m1[sale_m1['Branch'] == 'C']['Quantity'].unique()"
   ]
  },
  {
   "cell_type": "code",
   "execution_count": 71,
   "id": "c2f31542-60a4-427d-b0c4-7cdbb8d020df",
   "metadata": {},
   "outputs": [
    {
     "name": "stdout",
     "output_type": "stream",
     "text": [
      "10 8 10 10\n"
     ]
    }
   ],
   "source": [
    "print(len(x), len(A), len(B), len(C))\n"
   ]
  },
  {
   "cell_type": "code",
   "execution_count": 35,
   "id": "80dc301e-b557-47e2-aae8-5e1636228988",
   "metadata": {},
   "outputs": [],
   "source": [
    "# Step 2 : Buid chart the first"
   ]
  },
  {
   "cell_type": "code",
   "execution_count": 84,
   "id": "95b12686-65a6-4358-a62a-f85a91ff7d7f",
   "metadata": {},
   "outputs": [
    {
     "data": {
      "image/png": "[encoded data removed]",
      "text/plain": [
       "<Figure size 640x480 with 1 Axes>"
      ]
     },
     "metadata": {},
     "output_type": "display_data"
    }
   ],
   "source": [
    "plt.plot(x[:8], A)\n",
    "plt.plot(x[:8], B[:8])\n",
    "plt.plot(x[:8], C[:8])\n",
    "\n",
    "plt.show()"
   ]
  },
  {
   "cell_type": "markdown",
   "id": "6f98e374-edf3-4428-abda-6ffbb3a2a48b",
   "metadata": {},
   "source": [
    "## Step 3: Bổ sung tiêu đề, legend cho chart và axis"
   ]
  },
  {
   "cell_type": "code",
   "execution_count": 86,
   "id": "9025f0a9-f541-4f86-89fe-7a5bff637c73",
   "metadata": {},
   "outputs": [
    {
     "data": {
      "image/png": "[encoded data removed]",
      "text/plain": [
       "<Figure size 640x480 with 1 Axes>"
      ]
     },
     "metadata": {},
     "output_type": "display_data"
    }
   ],
   "source": [
    "plt.plot(x[:8], A, label='Aeon')\n",
    "plt.plot(x[:8], B[:8], label='BigC')\n",
    "plt.plot(x[:8], C[:8], label='Coop')\n",
    "\n",
    "plt.title(\"Quantity by Week and Super Market\", fontsize=10) # title\n",
    "plt.xlabel(\"Week Number\", fontsize=10) # title in x --\n",
    "plt.ylabel(\"Quantity\", fontsize=10) # title in y |\n",
    "\n",
    "plt.legend(loc=\"upper left\") # note\n",
    "\n",
    "plt.show()"
   ]
  },
  {
   "cell_type": "markdown",
   "id": "c48067cb-4d0c-4f95-9c01-0c60655d9910",
   "metadata": {},
   "source": [
    "# Bước 4: Điều chỉnh trục hoành"
   ]
  },
  {
   "cell_type": "code",
   "execution_count": 89,
   "id": "ba703954-7029-4b21-b278-d08641730a88",
   "metadata": {},
   "outputs": [
    {
     "data": {
      "image/png": "[encoded data removed]",
      "text/plain": [
       "<Figure size 640x480 with 1 Axes>"
      ]
     },
     "metadata": {},
     "output_type": "display_data"
    }
   ],
   "source": [
    "sale_m1_4w = sale_m1[sale_m1['week_num'] < 10]\n",
    "x = sale_m1_4w['week_num'].unique().astype('str')\n",
    "A = sale_m1_4w[sale_m1_4w['Branch'] == 'A']['Quantity'].unique()\n",
    "B = sale_m1_4w[sale_m1_4w['Branch'] == 'B']['Quantity'].unique()\n",
    "C = sale_m1_4w[sale_m1_4w['Branch'] == 'C']['Quantity'].unique()\n",
    "\n",
    "values = [\"Week_\" + n for n in x]\n",
    "\n",
    "plt.plot(x[:8], A, label='Aeon')\n",
    "plt.plot(x[:8], B[:8], label='BigC')\n",
    "plt.plot(x[:8], C[:8], label='Coop')\n",
    "\n",
    "plt.title(\"Quantity by Week and Super Market\", fontsize=10) # title\n",
    "plt.xlabel(\"Week Number\", fontsize=10) # title in x --\n",
    "plt.ylabel(\"Quantity\", fontsize=10) # title in y |\n",
    "\n",
    "plt.legend(loc=\"upper left\") # note\n",
    "\n",
    "plt.xticks(x, values)\n",
    "\n",
    "plt.show()"
   ]
  },
  {
   "cell_type": "code",
   "execution_count": 90,
   "id": "36b1ace4-fb28-4fc4-a88e-3206353e07ea",
   "metadata": {},
   "outputs": [
    {
     "data": {
      "image/png": "[encoded data removed]",
      "text/plain": [
       "<Figure size 640x480 with 1 Axes>"
      ]
     },
     "metadata": {},
     "output_type": "display_data"
    }
   ],
   "source": [
    "# solution 2\n",
    "sale_m1_4w = sale_m1[sale_m1['week_num'] < 10]\n",
    "x = sale_m1_4w['week_num'].unique().astype('str')\n",
    "A = sale_m1_4w[sale_m1_4w['Branch'] == 'A']['Quantity'].unique()\n",
    "B = sale_m1_4w[sale_m1_4w['Branch'] == 'B']['Quantity'].unique()\n",
    "C = sale_m1_4w[sale_m1_4w['Branch'] == 'C']['Quantity'].unique()\n",
    "\n",
    "values = [\"Week_\" + n for n in x]\n",
    "\n",
    "plt.plot(x[:8], A, label='Aeon')\n",
    "plt.plot(x[:8], B[:8], label='BigC')\n",
    "plt.plot(x[:8], C[:8], label='Coop')\n",
    "\n",
    "plt.title(\"Quantity by Week and Super Market\", fontsize=10) # title\n",
    "plt.xlabel(\"Week Number\", fontsize=10) # title in x --\n",
    "plt.ylabel(\"Quantity\", fontsize=10) # title in y |\n",
    "\n",
    "plt.legend(loc=\"upper left\") # note\n",
    "\n",
    "plt.xlim(0, 2)\n",
    "\n",
    "plt.show()"
   ]
  },
  {
   "cell_type": "markdown",
   "id": "f6536907-7d6e-4acf-92ca-78ca9bdfa96d",
   "metadata": {},
   "source": [
    "# Step 5: add labels, text"
   ]
  },
  {
   "cell_type": "code",
   "execution_count": 114,
   "id": "07d703bc-7065-43cd-a2d0-379c13fc65e4",
   "metadata": {},
   "outputs": [],
   "source": [
    "def addlabels(xs, ys):\n",
    "    for x, y in zip(xs, ys):\n",
    "        label = \"{:.0f}\".format(y)  # Corrected the assignment\n",
    "        \n",
    "        plt.annotate(\n",
    "            label,\n",
    "            xy=(x, y),\n",
    "            xytext=(x, y-2),\n",
    "            ha='center'\n",
    "        )\n",
    "def addlabelsleft(xs, ys):\n",
    "     for x, y in zip(xs, ys):\n",
    "        label = \"{:.0f}\".format(y)  # Corrected the assignment\n",
    "        \n",
    "        plt.annotate(\n",
    "            label,\n",
    "            xy=(x, y),\n",
    "            xytext=(x, y-2),\n",
    "            ha='left'\n",
    "        )\n",
    "def addlabelsright(xs, ys:\n",
    "     for x, y in zip(xs, ys):\n",
    "        label = \"{:.0f}\".format(y)  # Corrected the assignment\n",
    "        \n",
    "        plt.annotate(\n",
    "            label,\n",
    "            xy=(x, y),\n",
    "            xytext=(x, y-2),\n",
    "            ha='right'\n",
    "        )"
   ]
  },
  {
   "cell_type": "code",
   "execution_count": 135,
   "id": "e6eeed6f-6638-4516-be6c-762f746d0d25",
   "metadata": {},
   "outputs": [],
   "source": [
    "def addtext(x, y, text):\n",
    "    plt.annotate(text,\n",
    "                 xy = (x, y),\n",
    "                 xytext = (x, y + 5),\n",
    "                 color='red',\n",
    "                 arrowprops=dict(facecolor='black', headwidth=3,width=2,headlength=3),\n",
    "                 horizontalalignment='left', verticalalignment='top')"
   ]
  },
  {
   "cell_type": "code",
   "execution_count": 143,
   "id": "b0c865c4-c4a5-4436-abc9-38abce4c6245",
   "metadata": {},
   "outputs": [
    {
     "data": {
      "image/png": "[encoded data removed]",
      "text/plain": [
       "<Figure size 640x480 with 1 Axes>"
      ]
     },
     "metadata": {},
     "output_type": "display_data"
    }
   ],
   "source": [
    "# solution 2\n",
    "\n",
    "sale_m1_4w = sale_m1[sale_m1['week_num'] < 10]\n",
    "x = sale_m1_4w['week_num'].unique().astype('str')\n",
    "A = sale_m1_4w[sale_m1_4w['Branch'] == 'A']['Quantity'].unique()\n",
    "B = sale_m1_4w[sale_m1_4w['Branch'] == 'B']['Quantity'].unique()\n",
    "C = sale_m1_4w[sale_m1_4w['Branch'] == 'C']['Quantity'].unique()\n",
    "\n",
    "values = [\"Week_\" + n for n in x]\n",
    "\n",
    "plt.plot(x[:8], A, label='Aeon')\n",
    "plt.plot(x[:8], B[:8], label='BigC')\n",
    "plt.plot(x[:8], C[:8], label='Coop')\n",
    "\n",
    "plt.title(\"Quantity by Week and Super Market\", fontsize=10) # title\n",
    "plt.xlabel(\"Week Number\", fontsize=10) # title in x --\n",
    "plt.ylabel(\"Quantity\", fontsize=10) # title in y |\n",
    "\n",
    "\n",
    "plt.legend(loc=\"upper left\") # note\n",
    "\n",
    "plt.xticks(x, values)\n",
    "\n",
    "addlabels(x, A)\n",
    "addlabels(x, B)\n",
    "addlabels(x, C)\n",
    "addtext(1, 189, 'Peak of Aoen')\n",
    "addtext(4.5, 189, 'Peak of BigC')\n",
    "addtext(3, 182, 'Preak of Coop')\n",
    "\n",
    "plt.show()"
   ]
  },
  {
   "cell_type": "markdown",
   "id": "df24e7c0-dbb5-4a52-815d-7878e498e722",
   "metadata": {},
   "source": [
    "# Step 6: Điều chỉnh"
   ]
  },
  {
   "cell_type": "code",
   "execution_count": 157,
   "id": "84132942-5ed8-4cea-bb2b-26dfe0806a7e",
   "metadata": {},
   "outputs": [
    {
     "data": {
      "image/png": "[encoded data removed]",
      "text/plain": [
       "<Figure size 1000x1000 with 1 Axes>"
      ]
     },
     "metadata": {},
     "output_type": "display_data"
    }
   ],
   "source": [
    "\n",
    "sale_m1_4w = sale_m1[sale_m1['week_num'] < 10]\n",
    "x = sale_m1_4w['week_num'].unique().astype('str')\n",
    "A = sale_m1_4w[sale_m1_4w['Branch'] == 'A']['Quantity'].unique()\n",
    "B = sale_m1_4w[sale_m1_4w['Branch'] == 'B']['Quantity'].unique()\n",
    "C = sale_m1_4w[sale_m1_4w['Branch'] == 'C']['Quantity'].unique()\n",
    "\n",
    "#set size\n",
    "plt.figure(figsize=(10, 10))\n",
    "\n",
    "values = [\"Week_\" + n for n in x]\n",
    "\n",
    "plt.plot(x[:8], A, label='Aeon',c='brown')\n",
    "plt.plot(x[:8], B[:8], label='BigC',c='teal')\n",
    "plt.plot(x[:8], C[:8], label='Coop', c='orange')\n",
    "\n",
    "plt.title(\"Quantity by Week and Super Market\", fontsize=10) # title\n",
    "plt.xlabel(\"Week Number\", fontsize=10) # title in x --\n",
    "plt.ylabel(\"Quantity\", fontsize=10) # title in y |\n",
    "\n",
    "\n",
    "plt.legend(loc=\"upper left\") # note\n",
    "\n",
    "plt.xticks(x, values)\n",
    "\n",
    "addlabels(x, A)\n",
    "addlabels(x, B)\n",
    "addlabels(x, C)\n",
    "addtext(2, 189, 'Peak of Aoen')\n",
    "addtext(5, 189, 'Peak of BigC')\n",
    "addtext(4, 182, 'Preak of Coop')\n",
    "\n",
    "plt.show()"
   ]
  },
  {
   "cell_type": "markdown",
   "id": "6a17f6d9-61d9-4bbb-84d2-809887b595ff",
   "metadata": {},
   "source": [
    "# Seaborn"
   ]
  },
  {
   "cell_type": "code",
   "execution_count": 158,
   "id": "b9459bb8-d533-4c09-b551-c31d15a8bc48",
   "metadata": {},
   "outputs": [],
   "source": [
    "# Search google everything you need :))) \n",
    "# Use to draw chart easily and availably :)))"
   ]
  },
  {
   "cell_type": "code",
   "execution_count": 1,
   "id": "bc27224e-c974-4698-beaa-1f22f5dc99c5",
   "metadata": {},
   "outputs": [
    {
     "ename": "ModuleNotFoundError",
     "evalue": "No module named 'seaborn'",
     "output_type": "error",
     "traceback": [
      "\u001b[0;31m---------------------------------------------------------------------------\u001b[0m",
      "\u001b[0;31mModuleNotFoundError\u001b[0m                       Traceback (most recent call last)",
      "Cell \u001b[0;32mIn[1], line 1\u001b[0m\n\u001b[0;32m----> 1\u001b[0m \u001b[38;5;28;01mimport\u001b[39;00m \u001b[38;5;21;01mseaborn\u001b[39;00m \u001b[38;5;28;01mas\u001b[39;00m \u001b[38;5;21;01msns\u001b[39;00m\n",
      "\u001b[0;31mModuleNotFoundError\u001b[0m: No module named 'seaborn'"
     ]
    }
   ],
   "source": [
    "import seaborn as sns"
   ]
  },
  {
   "cell_type": "code",
   "execution_count": 2,
   "id": "610424ea-759f-4f46-a4f5-73b210c7f9d4",
   "metadata": {},
   "outputs": [],
   "source": [
    "import matplotlib.pyplot as plt\n",
    "import pandas as pd"
   ]
  },
  {
   "cell_type": "code",
   "execution_count": 4,
   "id": "0b260a88-276d-4603-9543-107b39421ab8",
   "metadata": {},
   "outputs": [
    {
     "data": {
      "text/html": [
       "<div>\n",
       "<style scoped>\n",
       "    .dataframe tbody tr th:only-of-type {\n",
       "        vertical-align: middle;\n",
       "    }\n",
       "\n",
       "    .dataframe tbody tr th {\n",
       "        vertical-align: top;\n",
       "    }\n",
       "\n",
       "    .dataframe thead th {\n",
       "        text-align: right;\n",
       "    }\n",
       "</style>\n",
       "<table border=\"1\" class=\"dataframe\">\n",
       "  <thead>\n",
       "    <tr style=\"text-align: right;\">\n",
       "      <th></th>\n",
       "      <th>Invoice ID</th>\n",
       "      <th>Branch</th>\n",
       "      <th>City</th>\n",
       "      <th>Customer type</th>\n",
       "      <th>Gender</th>\n",
       "      <th>Product line</th>\n",
       "      <th>Unit price</th>\n",
       "      <th>Quantity</th>\n",
       "      <th>Tax 5%</th>\n",
       "      <th>Total</th>\n",
       "      <th>Date</th>\n",
       "      <th>Time</th>\n",
       "      <th>Payment</th>\n",
       "      <th>cogs</th>\n",
       "      <th>gross margin percentage</th>\n",
       "      <th>gross income</th>\n",
       "      <th>Rating</th>\n",
       "    </tr>\n",
       "  </thead>\n",
       "  <tbody>\n",
       "    <tr>\n",
       "      <th>0</th>\n",
       "      <td>750-67-8428</td>\n",
       "      <td>A</td>\n",
       "      <td>Yangon</td>\n",
       "      <td>Member</td>\n",
       "      <td>Female</td>\n",
       "      <td>Health and beauty</td>\n",
       "      <td>74,69</td>\n",
       "      <td>7</td>\n",
       "      <td>26,1415</td>\n",
       "      <td>548,9715</td>\n",
       "      <td>1/5/2019</td>\n",
       "      <td>13:08</td>\n",
       "      <td>Ewallet</td>\n",
       "      <td>522,83</td>\n",
       "      <td>4,761904762</td>\n",
       "      <td>26,1415</td>\n",
       "      <td>9,1</td>\n",
       "    </tr>\n",
       "    <tr>\n",
       "      <th>1</th>\n",
       "      <td>226-31-3081</td>\n",
       "      <td>C</td>\n",
       "      <td>Naypyitaw</td>\n",
       "      <td>Normal</td>\n",
       "      <td>Female</td>\n",
       "      <td>Electronic accessories</td>\n",
       "      <td>15,28</td>\n",
       "      <td>5</td>\n",
       "      <td>3,82</td>\n",
       "      <td>80,22</td>\n",
       "      <td>3/8/2019</td>\n",
       "      <td>10:29</td>\n",
       "      <td>Cash</td>\n",
       "      <td>76,4</td>\n",
       "      <td>4,761904762</td>\n",
       "      <td>3,82</td>\n",
       "      <td>9,6</td>\n",
       "    </tr>\n",
       "    <tr>\n",
       "      <th>2</th>\n",
       "      <td>631-41-3108</td>\n",
       "      <td>A</td>\n",
       "      <td>Yangon</td>\n",
       "      <td>Normal</td>\n",
       "      <td>Male</td>\n",
       "      <td>Home and lifestyle</td>\n",
       "      <td>46,33</td>\n",
       "      <td>7</td>\n",
       "      <td>16,2155</td>\n",
       "      <td>340,5255</td>\n",
       "      <td>3/3/2019</td>\n",
       "      <td>13:23</td>\n",
       "      <td>Credit card</td>\n",
       "      <td>324,31</td>\n",
       "      <td>4,761904762</td>\n",
       "      <td>16,2155</td>\n",
       "      <td>7,4</td>\n",
       "    </tr>\n",
       "    <tr>\n",
       "      <th>3</th>\n",
       "      <td>123-19-1176</td>\n",
       "      <td>A</td>\n",
       "      <td>Yangon</td>\n",
       "      <td>Member</td>\n",
       "      <td>Male</td>\n",
       "      <td>Health and beauty</td>\n",
       "      <td>58,22</td>\n",
       "      <td>8</td>\n",
       "      <td>23,288</td>\n",
       "      <td>489,048</td>\n",
       "      <td>1/27/2019</td>\n",
       "      <td>20:33</td>\n",
       "      <td>Ewallet</td>\n",
       "      <td>465,76</td>\n",
       "      <td>4,761904762</td>\n",
       "      <td>23,288</td>\n",
       "      <td>8,4</td>\n",
       "    </tr>\n",
       "    <tr>\n",
       "      <th>4</th>\n",
       "      <td>373-73-7910</td>\n",
       "      <td>A</td>\n",
       "      <td>Yangon</td>\n",
       "      <td>Normal</td>\n",
       "      <td>Male</td>\n",
       "      <td>Sports and travel</td>\n",
       "      <td>86,31</td>\n",
       "      <td>7</td>\n",
       "      <td>30,2085</td>\n",
       "      <td>634,3785</td>\n",
       "      <td>2/8/2019</td>\n",
       "      <td>10:37</td>\n",
       "      <td>Ewallet</td>\n",
       "      <td>604,17</td>\n",
       "      <td>4,761904762</td>\n",
       "      <td>30,2085</td>\n",
       "      <td>5,3</td>\n",
       "    </tr>\n",
       "  </tbody>\n",
       "</table>\n",
       "</div>"
      ],
      "text/plain": [
       "    Invoice ID Branch       City Customer type  Gender  \\\n",
       "0  750-67-8428      A     Yangon        Member  Female   \n",
       "1  226-31-3081      C  Naypyitaw        Normal  Female   \n",
       "2  631-41-3108      A     Yangon        Normal    Male   \n",
       "3  123-19-1176      A     Yangon        Member    Male   \n",
       "4  373-73-7910      A     Yangon        Normal    Male   \n",
       "\n",
       "             Product line Unit price  Quantity   Tax 5%     Total       Date  \\\n",
       "0       Health and beauty      74,69         7  26,1415  548,9715   1/5/2019   \n",
       "1  Electronic accessories      15,28         5     3,82     80,22   3/8/2019   \n",
       "2      Home and lifestyle      46,33         7  16,2155  340,5255   3/3/2019   \n",
       "3       Health and beauty      58,22         8   23,288   489,048  1/27/2019   \n",
       "4       Sports and travel      86,31         7  30,2085  634,3785   2/8/2019   \n",
       "\n",
       "    Time      Payment    cogs gross margin percentage gross income Rating  \n",
       "0  13:08      Ewallet  522,83             4,761904762      26,1415    9,1  \n",
       "1  10:29         Cash    76,4             4,761904762         3,82    9,6  \n",
       "2  13:23  Credit card  324,31             4,761904762      16,2155    7,4  \n",
       "3  20:33      Ewallet  465,76             4,761904762       23,288    8,4  \n",
       "4  10:37      Ewallet  604,17             4,761904762      30,2085    5,3  "
      ]
     },
     "execution_count": 4,
     "metadata": {},
     "output_type": "execute_result"
    }
   ],
   "source": [
    "sale = pd.read_csv('supermarket_sales_nan.csv')\n",
    "sale.head()"
   ]
  },
  {
   "cell_type": "code",
   "execution_count": 22,
   "id": "7491a271-3ed2-4408-a3d3-75f882b36f26",
   "metadata": {},
   "outputs": [],
   "source": [
    "sale['Total'] = sale['Total'].str.replace(',', '.')\n",
    "sale['Total'] = sale['Total'].astype(float)"
   ]
  },
  {
   "cell_type": "code",
   "execution_count": 43,
   "id": "7e2164f8-cfc8-4291-8a21-19402c7a86ae",
   "metadata": {},
   "outputs": [
    {
     "data": {
      "text/html": [
       "<div>\n",
       "<style scoped>\n",
       "    .dataframe tbody tr th:only-of-type {\n",
       "        vertical-align: middle;\n",
       "    }\n",
       "\n",
       "    .dataframe tbody tr th {\n",
       "        vertical-align: top;\n",
       "    }\n",
       "\n",
       "    .dataframe thead th {\n",
       "        text-align: right;\n",
       "    }\n",
       "</style>\n",
       "<table border=\"1\" class=\"dataframe\">\n",
       "  <thead>\n",
       "    <tr style=\"text-align: right;\">\n",
       "      <th></th>\n",
       "      <th>Product line</th>\n",
       "      <th>Revenue</th>\n",
       "    </tr>\n",
       "  </thead>\n",
       "  <tbody>\n",
       "    <tr>\n",
       "      <th>0</th>\n",
       "      <td>Electronic accessories</td>\n",
       "      <td>54337.5315</td>\n",
       "    </tr>\n",
       "    <tr>\n",
       "      <th>1</th>\n",
       "      <td>Fashion accessories</td>\n",
       "      <td>54305.8950</td>\n",
       "    </tr>\n",
       "    <tr>\n",
       "      <th>2</th>\n",
       "      <td>Food and beverages</td>\n",
       "      <td>56144.8440</td>\n",
       "    </tr>\n",
       "    <tr>\n",
       "      <th>3</th>\n",
       "      <td>Health and beauty</td>\n",
       "      <td>49193.7390</td>\n",
       "    </tr>\n",
       "    <tr>\n",
       "      <th>4</th>\n",
       "      <td>Home and lifestyle</td>\n",
       "      <td>53861.9130</td>\n",
       "    </tr>\n",
       "    <tr>\n",
       "      <th>5</th>\n",
       "      <td>Sports and travel</td>\n",
       "      <td>55122.8265</td>\n",
       "    </tr>\n",
       "  </tbody>\n",
       "</table>\n",
       "</div>"
      ],
      "text/plain": [
       "             Product line     Revenue\n",
       "0  Electronic accessories  54337.5315\n",
       "1     Fashion accessories  54305.8950\n",
       "2      Food and beverages  56144.8440\n",
       "3       Health and beauty  49193.7390\n",
       "4      Home and lifestyle  53861.9130\n",
       "5       Sports and travel  55122.8265"
      ]
     },
     "execution_count": 43,
     "metadata": {},
     "output_type": "execute_result"
    }
   ],
   "source": [
    "data1 = sale.groupby('Product line')['Total'].sum().reset_index()\n",
    "data1.rename(columns={'Total': 'Revenue'}, inplace=True)\n",
    "data1"
   ]
  },
  {
   "cell_type": "code",
   "execution_count": 44,
   "id": "838a376e-f2fd-4640-932d-e3f1949b19eb",
   "metadata": {},
   "outputs": [
    {
     "ename": "ModuleNotFoundError",
     "evalue": "No module named 'seaborn'",
     "output_type": "error",
     "traceback": [
      "\u001b[0;31m---------------------------------------------------------------------------\u001b[0m",
      "\u001b[0;31mModuleNotFoundError\u001b[0m                       Traceback (most recent call last)",
      "Cell \u001b[0;32mIn[44], line 1\u001b[0m\n\u001b[0;32m----> 1\u001b[0m \u001b[38;5;28;01mimport\u001b[39;00m \u001b[38;5;21;01mseaborn\u001b[39;00m \u001b[38;5;28;01mas\u001b[39;00m \u001b[38;5;21;01msns\u001b[39;00m\n\u001b[1;32m      3\u001b[0m \u001b[38;5;66;03m# Check the version to confirm installation\u001b[39;00m\n\u001b[1;32m      4\u001b[0m \u001b[38;5;28mprint\u001b[39m(sns\u001b[38;5;241m.\u001b[39m__version__)\n",
      "\u001b[0;31mModuleNotFoundError\u001b[0m: No module named 'seaborn'"
     ]
    }
   ],
   "source": [
    "import seaborn as sns\n",
    "\n",
    "# Check the version to confirm installation\n",
    "print(sns.__version__)\n"
   ]
  },
  {
   "cell_type": "code",
   "execution_count": 34,
   "id": "3922671c-e53d-47a5-9314-a8cee1bfe1bd",
   "metadata": {},
   "outputs": [
    {
     "name": "stdout",
     "output_type": "stream",
     "text": [
      "   Product line                                              Total\n",
      "0         False  [80.22, 340.5255, 634.3785, 627.6165, 433.692,...\n",
      "1          True  [548.9715, 489.048, 76.146, 749.49, 506.6355, ...\n"
     ]
    }
   ],
   "source": [
    "A = sale.groupby(sale['Product line'] == 'Health and beauty')['Total'].unique().reset_index()\n",
    "B = sale.groupby(sale['Product line'] == 'Electronic accessories')['Total'].unique().reset_index()\n",
    "C = sale.groupby(sale['Product line'] == 'Home and lifestyle')['Total'].unique().reset_index()\n",
    "D = sale.groupby(sale['Product line'] == 'Sports and travel')['Total'].unique().reset_index()\n",
    "E = sale.groupby(sale['Product line'] == 'Food and beverages')['Total'].unique().reset_index()\n",
    "F = sale.groupby(sale['Product line'] == 'Fashion accessories')['Total'].unique().reset_index()\n",
    "print(A)"
   ]
  },
  {
   "cell_type": "code",
   "execution_count": 39,
   "id": "9c96316b-d756-4d26-8e42-3b10ad77fb12",
   "metadata": {},
   "outputs": [
    {
     "data": {
      "image/png": "[encoded data removed]",
      "text/plain": [
       "<Figure size 640x480 with 1 Axes>"
      ]
     },
     "metadata": {},
     "output_type": "display_data"
    }
   ],
   "source": [
    "\n",
    "plt.plot(x[:2], A.iloc[:6,0])\n",
    "plt.show()\n",
    "\n"
   ]
  },
  {
   "cell_type": "code",
   "execution_count": 27,
   "id": "d5efeada-710d-4531-8564-383ad0f73d8d",
   "metadata": {},
   "outputs": [
    {
     "name": "stdout",
     "output_type": "stream",
     "text": [
      "Invoice ID                  object\n",
      "Branch                      object\n",
      "City                        object\n",
      "Customer type               object\n",
      "Gender                      object\n",
      "Product line                object\n",
      "Unit price                  object\n",
      "Quantity                     int64\n",
      "Tax 5%                      object\n",
      "Total                      float64\n",
      "Date                        object\n",
      "Time                        object\n",
      "Payment                     object\n",
      "cogs                        object\n",
      "gross margin percentage     object\n",
      "gross income                object\n",
      "Rating                      object\n",
      "dtype: object\n"
     ]
    }
   ],
   "source": [
    "print(sale.dtypes)"
   ]
  },
  {
   "cell_type": "code",
   "execution_count": null,
   "id": "53075607-f9fe-4cc2-971e-5dd0281b487d",
   "metadata": {},
   "outputs": [],
   "source": []
  }
 ],
 "metadata": {
  "kernelspec": {
   "display_name": "Python 3 (ipykernel)",
   "language": "python",
   "name": "python3"
  },
  "language_info": {
   "codemirror_mode": {
    "name": "ipython",
    "version": 3
   },
   "file_extension": ".py",
   "mimetype": "text/x-python",
   "name": "python",
   "nbconvert_exporter": "python",
   "pygments_lexer": "ipython3",
   "version": "3.12.2"
  }
 },
 "nbformat": 4,
 "nbformat_minor": 5
}
